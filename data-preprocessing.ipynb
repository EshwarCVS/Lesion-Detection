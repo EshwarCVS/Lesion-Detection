{
 "cells": [
  {
   "cell_type": "code",
   "execution_count": 1,
   "metadata": {
    "id": "Ewa5uOvRx-Tt"
   },
   "outputs": [
    {
     "name": "stdout",
     "output_type": "stream",
     "text": [
      "INFO:tensorflow:Enabling eager execution\n",
      "INFO:tensorflow:Enabling v2 tensorshape\n",
      "INFO:tensorflow:Enabling resource variables\n",
      "INFO:tensorflow:Enabling tensor equality\n",
      "INFO:tensorflow:Enabling control flow v2\n"
     ]
    }
   ],
   "source": [
    "import os \n",
    "import zipfile \n",
    "\n",
    "import tensorflow as tf \n",
    "from tensorflow.keras.preprocessing.image import ImageDataGenerator \n",
    "from tensorflow.keras import layers\n",
    "from tensorflow.keras.layers import Dense, Input, Dropout,Flatten, Conv2D, MaxPool2D\n",
    "from tensorflow.keras.layers import BatchNormalization, Activation, MaxPooling2D\n",
    "from tensorflow.keras.models import Model, Sequential\n",
    "from tensorflow.keras.callbacks import EarlyStopping, ReduceLROnPlateau\n",
    "from tensorflow.keras.optimizers import Adam\n",
    "\n",
    "import matplotlib.pyplot as plt\n",
    "import numpy as np\n",
    "import pandas as pd\n",
    "\n",
    "import torchvision\n",
    "import torchvision.transforms as transforms\n",
    "\n",
    "import glob\n",
    "from PIL import Image\n",
    "\n",
    "from sklearn.model_selection import train_test_split\n",
    "\n",
    "from keras.utils.np_utils import to_categorical # convert to one-hot-encoding\n",
    "\n",
    "from IPython.display import clear_output\n",
    "from tqdm import tqdm\n",
    "\n",
    "from sklearn.metrics import confusion_matrix\n",
    "import seaborn as sns\n",
    "\n",
    "from keras import backend as K\n",
    "\n",
    "from sklearn.utils import resample"
   ]
  },
  {
   "cell_type": "code",
   "execution_count": 2,
   "metadata": {
    "colab": {
     "base_uri": "https://localhost:8080/"
    },
    "id": "sOSKOnc3OkVX",
    "outputId": "4fbbb31d-d662-4f39-ee8d-8a09a4a960de"
   },
   "outputs": [
    {
     "name": "stdout",
     "output_type": "stream",
     "text": [
      "Mounted at /content/drive/\n"
     ]
    }
   ],
   "source": [
    "from google.colab import drive\n",
    "drive.mount('/content/drive/')"
   ]
  },
  {
   "cell_type": "code",
   "execution_count": 2,
   "metadata": {
    "id": "5HyWq_mhW75S"
   },
   "outputs": [],
   "source": [
    "data_dir = \"images/\"\n",
    "metadata_path = \"HAM10000_metadata.csv\""
   ]
  },
  {
   "cell_type": "code",
   "execution_count": null,
   "metadata": {},
   "outputs": [],
   "source": []
  },
  {
   "cell_type": "code",
   "execution_count": 3,
   "metadata": {
    "id": "Gf2eWAukQrVe"
   },
   "outputs": [],
   "source": [
    "#Lesion Dictionary\n",
    "lesion_type_dict = {\n",
    "    'nv': 'Melanocytic nevi',\n",
    "    'mel': 'Melanoma',\n",
    "    'bkl': 'Benign keratosis-like lesions ',\n",
    "    'bcc': 'Basal cell carcinoma',\n",
    "    'akiec': 'Actinic keratoses',\n",
    "    'vasc': 'Vascular lesions',\n",
    "    'df': 'Dermatofibroma'\n",
    "}"
   ]
  },
  {
   "cell_type": "code",
   "execution_count": 4,
   "metadata": {},
   "outputs": [],
   "source": [
    "# Read metadata into dataframe\n",
    "metadata = pd.read_csv(metadata_path)\n",
    "skin_df = metadata"
   ]
  },
  {
   "cell_type": "code",
   "execution_count": 5,
   "metadata": {},
   "outputs": [],
   "source": [
    "# Dictionary for Image Names\n",
    "imageid_path_dict = {os.path.splitext(os.path.basename(x))[0]: x for x in glob.glob(os.path.join(data_dir, '*.jpg'))}"
   ]
  },
  {
   "cell_type": "code",
   "execution_count": 6,
   "metadata": {},
   "outputs": [],
   "source": [
    "#Create useful Columns - Images Path, Lesion Type and Lesion Categorical Code\n",
    "skin_df['path'] = skin_df['image_id'].map(imageid_path_dict.get)\n",
    "skin_df['cell_type'] = skin_df['dx'].map(lesion_type_dict.get) \n",
    "skin_df['cell_type_idx'] = pd.Categorical(skin_df['cell_type']).codes"
   ]
  },
  {
   "cell_type": "code",
   "execution_count": 7,
   "metadata": {},
   "outputs": [
    {
     "data": {
      "text/plain": [
       "{2: 'bkl', 4: 'nv', 3: 'df', 5: 'mel', 6: 'vasc', 1: 'bcc', 0: 'akiec'}"
      ]
     },
     "execution_count": 7,
     "metadata": {},
     "output_type": "execute_result"
    }
   ],
   "source": [
    "# Lesion code dictionary\n",
    "lesion_code_dict = pd.Series(skin_df.dx.values,index=skin_df.cell_type_idx).to_dict()\n",
    "\n",
    "lesion_code_dict"
   ]
  },
  {
   "cell_type": "code",
   "execution_count": 8,
   "metadata": {
    "scrolled": true
   },
   "outputs": [
    {
     "data": {
      "text/html": [
       "<div>\n",
       "<style scoped>\n",
       "    .dataframe tbody tr th:only-of-type {\n",
       "        vertical-align: middle;\n",
       "    }\n",
       "\n",
       "    .dataframe tbody tr th {\n",
       "        vertical-align: top;\n",
       "    }\n",
       "\n",
       "    .dataframe thead th {\n",
       "        text-align: right;\n",
       "    }\n",
       "</style>\n",
       "<table border=\"1\" class=\"dataframe\">\n",
       "  <thead>\n",
       "    <tr style=\"text-align: right;\">\n",
       "      <th></th>\n",
       "      <th>lesion_id</th>\n",
       "      <th>image_id</th>\n",
       "      <th>dx</th>\n",
       "      <th>dx_type</th>\n",
       "      <th>age</th>\n",
       "      <th>sex</th>\n",
       "      <th>localization</th>\n",
       "      <th>dataset</th>\n",
       "      <th>path</th>\n",
       "      <th>cell_type</th>\n",
       "      <th>cell_type_idx</th>\n",
       "    </tr>\n",
       "  </thead>\n",
       "  <tbody>\n",
       "    <tr>\n",
       "      <th>0</th>\n",
       "      <td>HAM_0000118</td>\n",
       "      <td>ISIC_0027419</td>\n",
       "      <td>bkl</td>\n",
       "      <td>histo</td>\n",
       "      <td>80.0</td>\n",
       "      <td>male</td>\n",
       "      <td>scalp</td>\n",
       "      <td>vidir_modern</td>\n",
       "      <td>images\\ISIC_0027419.jpg</td>\n",
       "      <td>Benign keratosis-like lesions</td>\n",
       "      <td>2</td>\n",
       "    </tr>\n",
       "    <tr>\n",
       "      <th>1</th>\n",
       "      <td>HAM_0000118</td>\n",
       "      <td>ISIC_0025030</td>\n",
       "      <td>bkl</td>\n",
       "      <td>histo</td>\n",
       "      <td>80.0</td>\n",
       "      <td>male</td>\n",
       "      <td>scalp</td>\n",
       "      <td>vidir_modern</td>\n",
       "      <td>images\\ISIC_0025030.jpg</td>\n",
       "      <td>Benign keratosis-like lesions</td>\n",
       "      <td>2</td>\n",
       "    </tr>\n",
       "    <tr>\n",
       "      <th>2</th>\n",
       "      <td>HAM_0002730</td>\n",
       "      <td>ISIC_0026769</td>\n",
       "      <td>bkl</td>\n",
       "      <td>histo</td>\n",
       "      <td>80.0</td>\n",
       "      <td>male</td>\n",
       "      <td>scalp</td>\n",
       "      <td>vidir_modern</td>\n",
       "      <td>images\\ISIC_0026769.jpg</td>\n",
       "      <td>Benign keratosis-like lesions</td>\n",
       "      <td>2</td>\n",
       "    </tr>\n",
       "    <tr>\n",
       "      <th>3</th>\n",
       "      <td>HAM_0002730</td>\n",
       "      <td>ISIC_0025661</td>\n",
       "      <td>bkl</td>\n",
       "      <td>histo</td>\n",
       "      <td>80.0</td>\n",
       "      <td>male</td>\n",
       "      <td>scalp</td>\n",
       "      <td>vidir_modern</td>\n",
       "      <td>images\\ISIC_0025661.jpg</td>\n",
       "      <td>Benign keratosis-like lesions</td>\n",
       "      <td>2</td>\n",
       "    </tr>\n",
       "    <tr>\n",
       "      <th>4</th>\n",
       "      <td>HAM_0001466</td>\n",
       "      <td>ISIC_0031633</td>\n",
       "      <td>bkl</td>\n",
       "      <td>histo</td>\n",
       "      <td>75.0</td>\n",
       "      <td>male</td>\n",
       "      <td>ear</td>\n",
       "      <td>vidir_modern</td>\n",
       "      <td>images\\ISIC_0031633.jpg</td>\n",
       "      <td>Benign keratosis-like lesions</td>\n",
       "      <td>2</td>\n",
       "    </tr>\n",
       "    <tr>\n",
       "      <th>...</th>\n",
       "      <td>...</td>\n",
       "      <td>...</td>\n",
       "      <td>...</td>\n",
       "      <td>...</td>\n",
       "      <td>...</td>\n",
       "      <td>...</td>\n",
       "      <td>...</td>\n",
       "      <td>...</td>\n",
       "      <td>...</td>\n",
       "      <td>...</td>\n",
       "      <td>...</td>\n",
       "    </tr>\n",
       "    <tr>\n",
       "      <th>10010</th>\n",
       "      <td>HAM_0002867</td>\n",
       "      <td>ISIC_0033084</td>\n",
       "      <td>akiec</td>\n",
       "      <td>histo</td>\n",
       "      <td>40.0</td>\n",
       "      <td>male</td>\n",
       "      <td>abdomen</td>\n",
       "      <td>vidir_modern</td>\n",
       "      <td>images\\ISIC_0033084.jpg</td>\n",
       "      <td>Actinic keratoses</td>\n",
       "      <td>0</td>\n",
       "    </tr>\n",
       "    <tr>\n",
       "      <th>10011</th>\n",
       "      <td>HAM_0002867</td>\n",
       "      <td>ISIC_0033550</td>\n",
       "      <td>akiec</td>\n",
       "      <td>histo</td>\n",
       "      <td>40.0</td>\n",
       "      <td>male</td>\n",
       "      <td>abdomen</td>\n",
       "      <td>vidir_modern</td>\n",
       "      <td>images\\ISIC_0033550.jpg</td>\n",
       "      <td>Actinic keratoses</td>\n",
       "      <td>0</td>\n",
       "    </tr>\n",
       "    <tr>\n",
       "      <th>10012</th>\n",
       "      <td>HAM_0002867</td>\n",
       "      <td>ISIC_0033536</td>\n",
       "      <td>akiec</td>\n",
       "      <td>histo</td>\n",
       "      <td>40.0</td>\n",
       "      <td>male</td>\n",
       "      <td>abdomen</td>\n",
       "      <td>vidir_modern</td>\n",
       "      <td>images\\ISIC_0033536.jpg</td>\n",
       "      <td>Actinic keratoses</td>\n",
       "      <td>0</td>\n",
       "    </tr>\n",
       "    <tr>\n",
       "      <th>10013</th>\n",
       "      <td>HAM_0000239</td>\n",
       "      <td>ISIC_0032854</td>\n",
       "      <td>akiec</td>\n",
       "      <td>histo</td>\n",
       "      <td>80.0</td>\n",
       "      <td>male</td>\n",
       "      <td>face</td>\n",
       "      <td>vidir_modern</td>\n",
       "      <td>images\\ISIC_0032854.jpg</td>\n",
       "      <td>Actinic keratoses</td>\n",
       "      <td>0</td>\n",
       "    </tr>\n",
       "    <tr>\n",
       "      <th>10014</th>\n",
       "      <td>HAM_0003521</td>\n",
       "      <td>ISIC_0032258</td>\n",
       "      <td>mel</td>\n",
       "      <td>histo</td>\n",
       "      <td>70.0</td>\n",
       "      <td>female</td>\n",
       "      <td>back</td>\n",
       "      <td>vidir_modern</td>\n",
       "      <td>images\\ISIC_0032258.jpg</td>\n",
       "      <td>Melanoma</td>\n",
       "      <td>5</td>\n",
       "    </tr>\n",
       "  </tbody>\n",
       "</table>\n",
       "<p>10015 rows × 11 columns</p>\n",
       "</div>"
      ],
      "text/plain": [
       "         lesion_id      image_id     dx dx_type   age     sex localization  \\\n",
       "0      HAM_0000118  ISIC_0027419    bkl   histo  80.0    male        scalp   \n",
       "1      HAM_0000118  ISIC_0025030    bkl   histo  80.0    male        scalp   \n",
       "2      HAM_0002730  ISIC_0026769    bkl   histo  80.0    male        scalp   \n",
       "3      HAM_0002730  ISIC_0025661    bkl   histo  80.0    male        scalp   \n",
       "4      HAM_0001466  ISIC_0031633    bkl   histo  75.0    male          ear   \n",
       "...            ...           ...    ...     ...   ...     ...          ...   \n",
       "10010  HAM_0002867  ISIC_0033084  akiec   histo  40.0    male      abdomen   \n",
       "10011  HAM_0002867  ISIC_0033550  akiec   histo  40.0    male      abdomen   \n",
       "10012  HAM_0002867  ISIC_0033536  akiec   histo  40.0    male      abdomen   \n",
       "10013  HAM_0000239  ISIC_0032854  akiec   histo  80.0    male         face   \n",
       "10014  HAM_0003521  ISIC_0032258    mel   histo  70.0  female         back   \n",
       "\n",
       "            dataset                     path                       cell_type  \\\n",
       "0      vidir_modern  images\\ISIC_0027419.jpg  Benign keratosis-like lesions    \n",
       "1      vidir_modern  images\\ISIC_0025030.jpg  Benign keratosis-like lesions    \n",
       "2      vidir_modern  images\\ISIC_0026769.jpg  Benign keratosis-like lesions    \n",
       "3      vidir_modern  images\\ISIC_0025661.jpg  Benign keratosis-like lesions    \n",
       "4      vidir_modern  images\\ISIC_0031633.jpg  Benign keratosis-like lesions    \n",
       "...             ...                      ...                             ...   \n",
       "10010  vidir_modern  images\\ISIC_0033084.jpg               Actinic keratoses   \n",
       "10011  vidir_modern  images\\ISIC_0033550.jpg               Actinic keratoses   \n",
       "10012  vidir_modern  images\\ISIC_0033536.jpg               Actinic keratoses   \n",
       "10013  vidir_modern  images\\ISIC_0032854.jpg               Actinic keratoses   \n",
       "10014  vidir_modern  images\\ISIC_0032258.jpg                        Melanoma   \n",
       "\n",
       "       cell_type_idx  \n",
       "0                  2  \n",
       "1                  2  \n",
       "2                  2  \n",
       "3                  2  \n",
       "4                  2  \n",
       "...              ...  \n",
       "10010              0  \n",
       "10011              0  \n",
       "10012              0  \n",
       "10013              0  \n",
       "10014              5  \n",
       "\n",
       "[10015 rows x 11 columns]"
      ]
     },
     "execution_count": 8,
     "metadata": {},
     "output_type": "execute_result"
    }
   ],
   "source": [
    "skin_df"
   ]
  },
  {
   "cell_type": "code",
   "execution_count": 9,
   "metadata": {
    "colab": {
     "base_uri": "https://localhost:8080/"
    },
    "id": "8pFORH3joGg2",
    "outputId": "c9160f06-8a88-4a3d-adb2-203f6bfc7f48"
   },
   "outputs": [
    {
     "name": "stderr",
     "output_type": "stream",
     "text": [
      "100%|███████████████████████████████████████████████████████████████████████████████████████████████████████████████████████████████████████████████████████████████████████| 10015/10015 [11:41<00:00, 14.28it/s]\n"
     ]
    }
   ],
   "source": [
    "# Attach images to the skin_df Dataframe\n",
    "temp_arr, count = [], 0\n",
    "for path in tqdm(skin_df['path']):\n",
    "  temp_arr.append(np.asarray( Image.open(path).resize((100,75)) ))\n",
    "  count += 1\n",
    "  # print(f\"Processed images: {count}\")\n",
    "  # if count % 10 == 0: clear_output()\n",
    "\n",
    "skin_df['image'] = temp_arr\n",
    "\n",
    "\n",
    "# skin_df['image'] = skin_df['path'].map(lambda x: np.asarray(Image.open(x).resize((100,75))))"
   ]
  },
  {
   "cell_type": "code",
   "execution_count": 10,
   "metadata": {},
   "outputs": [],
   "source": [
    "# Create a backup of the created skin_df\n",
    "\n",
    "backup_skin_df = skin_df"
   ]
  },
  {
   "cell_type": "code",
   "execution_count": 11,
   "metadata": {},
   "outputs": [],
   "source": [
    "# Checkpoint. Start From Here\n",
    "\n",
    "skin_df = backup_skin_df"
   ]
  },
  {
   "cell_type": "code",
   "execution_count": 43,
   "metadata": {},
   "outputs": [
    {
     "name": "stdout",
     "output_type": "stream",
     "text": [
      "(500, 12)\n",
      "(10015, 12)\n",
      "(3310, 12)\n",
      "(3810, 12)\n"
     ]
    }
   ],
   "source": [
    "# WARNING: CHANGES THE ORIGINAL DATASET ABOVE\n",
    "# RUN ONLY WHEN YOU REQUIRE TO IMPLEMENT OVERSAMPLING FOR CLASS IMBALANCE!\n",
    "# Under sampling\n",
    "final_samples = 500\n",
    "\n",
    "temp_nv_df = skin_df.loc[skin_df['cell_type_idx'] == 4]\n",
    "temp_nv_df = temp_nv_df.sample(n=final_samples, replace=False, random_state=15)\n",
    "print(temp_nv_df.shape)\n",
    "print(skin_df.shape)\n",
    "skin_df = skin_df[skin_df['cell_type_idx'] != 4]\n",
    "print(skin_df.shape)\n",
    "skin_df = pd.concat([skin_df, temp_nv_df])\n",
    "print(skin_df.shape)"
   ]
  },
  {
   "cell_type": "code",
   "execution_count": 11,
   "metadata": {
    "scrolled": true
   },
   "outputs": [
    {
     "name": "stdout",
     "output_type": "stream",
     "text": [
      "For class: 0\n",
      "(327, 12)\n",
      "(4327, 12)\n",
      "For class: 1\n",
      "(514, 12)\n",
      "(4514, 12)\n",
      "For class: 2\n",
      "(1099, 12)\n",
      "(5099, 12)\n",
      "For class: 3\n",
      "(115, 12)\n",
      "(4115, 12)\n",
      "For class: 5\n",
      "(1113, 12)\n",
      "(5113, 12)\n",
      "For class: 6\n",
      "(142, 12)\n",
      "(4142, 12)\n",
      "Final skin_df shape: (34015, 12)\n",
      "27310\n"
     ]
    }
   ],
   "source": [
    "# WARNING: CHANGES THE ORIGINAL DATASET ABOVE\n",
    "# RUN ONLY WHEN YOU REQUIRE TO IMPLEMENT OVERSAMPLING FOR CLASS IMBALANCE!\n",
    "# Over sampling\n",
    "additional_samples = 4000\n",
    "new_skin_df = skin_df.loc[skin_df['cell_type_idx'] == 4]\n",
    "\n",
    "count = 0\n",
    "for i in range(0, 7):\n",
    "    if i == 4: continue\n",
    "    print(f'For class: {i}')\n",
    "    \n",
    "    temp_class_df = skin_df.loc[skin_df['cell_type_idx'] == i]\n",
    "    print(temp_class_df.shape)\n",
    "    temp_class_df_oversampled = temp_class_df.sample(n=len(temp_class_df)+additional_samples, replace=True, random_state=15)\n",
    "    print(temp_class_df_oversampled.shape)\n",
    "    count += temp_class_df_oversampled.shape[0]\n",
    "    \n",
    "    new_skin_df = pd.concat([new_skin_df, temp_class_df_oversampled])\n",
    "\n",
    "skin_df = new_skin_df\n",
    "print(f'Final skin_df shape: {skin_df.shape}')\n",
    "print(count)"
   ]
  },
  {
   "cell_type": "code",
   "execution_count": 12,
   "metadata": {
    "id": "raUm2J0PgXYL"
   },
   "outputs": [],
   "source": [
    "# Separate the dataframe into Features and Targets data\n",
    "features = skin_df.drop(columns=['cell_type_idx','dx'],axis=1)\n",
    "target = skin_df['cell_type_idx']"
   ]
  },
  {
   "cell_type": "code",
   "execution_count": 28,
   "metadata": {},
   "outputs": [],
   "source": [
    "# Create First Train and Test sets\n",
    "x_train_o, x_test_o, y_train_o, y_test_o = train_test_split(features, target, test_size=0.20, random_state=1)"
   ]
  },
  {
   "cell_type": "code",
   "execution_count": 29,
   "metadata": {},
   "outputs": [],
   "source": [
    "# Create image arrays from the train and test sets\n",
    "x_train = np.asarray(x_train_o['image'].tolist())\n",
    "x_test = np.asarray(x_test_o['image'].tolist())"
   ]
  },
  {
   "cell_type": "code",
   "execution_count": 30,
   "metadata": {
    "scrolled": false
   },
   "outputs": [
    {
     "name": "stdout",
     "output_type": "stream",
     "text": [
      "4    5378\n",
      "5     891\n",
      "2     871\n",
      "1     418\n",
      "0     266\n",
      "6     110\n",
      "3      78\n",
      "Name: cell_type_idx, dtype: int64\n",
      "Total images: 8012\n"
     ]
    }
   ],
   "source": [
    "# Class distribution before data augmentation\n",
    "train_value_counts = y_train_o.value_counts()\n",
    "print(train_value_counts)\n",
    "print(f'Total images: {train_value_counts.sum()}')"
   ]
  },
  {
   "cell_type": "code",
   "execution_count": 142,
   "metadata": {},
   "outputs": [
    {
     "name": "stdout",
     "output_type": "stream",
     "text": [
      "(5378,)\n",
      "(5378, 75, 100, 3)\n",
      "(1000, 75, 100, 3)\n",
      "(2634, 75, 100, 3)\n",
      "(3634, 75, 100, 3)\n",
      "(2634,)\n",
      "(3634,)\n"
     ]
    }
   ],
   "source": [
    "# Under sampling\n",
    "\n",
    "# Prepare x_train\n",
    "x_train_nv_indices = y_train_o.reset_index(drop=True).index[y_train_o == 4]\n",
    "print(x_train_nv_indices.shape)\n",
    "x_train_nv = x_train[x_train_nv_indices]\n",
    "print(x_train_nv.shape)\n",
    "\n",
    "nv_downsampled = resample(x_train_nv,\n",
    "                            replace = False, # sample without replacement\n",
    "                            n_samples = 1000, # match minority n\n",
    "                            random_state = 27) # reproducible results\n",
    "\n",
    "print(nv_downsampled.shape)\n",
    "x_train_wo_nv = np.delete(x_train,x_train_nv_indices, axis=0)\n",
    "# print(x_train_wo_nv)\n",
    "print(x_train_wo_nv.shape)\n",
    "\n",
    "new_x_train = np.concatenate((nv_downsampled, x_train_wo_nv))\n",
    "print(new_x_train.shape)\n",
    "\n",
    "# Prepare y_train\n",
    "y_train_nv_indices = y_train_o.index[y_train_o == 4]\n",
    "y_train_o_wo_nv = y_train_o.drop(y_train_nv_indices)\n",
    "print(y_train_o_wo_nv.shape)\n",
    "new_y_train_o = y_train_o_wo_nv.append(pd.Series([4 for i in range(0, 1000)]))\n",
    "print(new_y_train_o.shape)\n",
    "\n",
    "x_train = new_x_train\n",
    "y_train_o = new_y_train_o"
   ]
  },
  {
   "cell_type": "code",
   "execution_count": 175,
   "metadata": {
    "id": "zFaa1RBfgE_B"
   },
   "outputs": [],
   "source": [
    "# Data Augmentation\n",
    "# Image data generator is used to generate the possible versions of data as given below.\n",
    "\n",
    "dataaugment = ImageDataGenerator(\n",
    "        featurewise_center=False,  # set input mean to 0 over the dataset\n",
    "        samplewise_center=False,  # set each sample mean to 0\n",
    "        featurewise_std_normalization=False,  # divide inputs by std of the dataset\n",
    "        samplewise_std_normalization=False,  # divide each input by its std\n",
    "        zca_whitening=False,  # apply ZCA whitening\n",
    "        rotation_range=90,  # randomly rotate images in the range (degrees, 0 to 180)\n",
    "        zoom_range = 0.1, # Randomly zoom image \n",
    "        width_shift_range=0.1,  # randomly shift images horizontally (fraction of total width)\n",
    "        height_shift_range=0.1,  # randomly shift images vertically (fraction of total height)\n",
    "        horizontal_flip=True,  # randomly flip images\n",
    "        vertical_flip=True,  # randomly flip images\n",
    "        shear_range = 10\n",
    "    ) "
   ]
  },
  {
   "cell_type": "code",
   "execution_count": 166,
   "metadata": {},
   "outputs": [
    {
     "name": "stdout",
     "output_type": "stream",
     "text": [
      "8012\n"
     ]
    }
   ],
   "source": []
  },
  {
   "cell_type": "code",
   "execution_count": 168,
   "metadata": {
    "scrolled": true
   },
   "outputs": [
    {
     "name": "stderr",
     "output_type": "stream",
     "text": [
      "  0%|                                                                                                                                                                                      | 0/7 [00:00<?, ?it/s]"
     ]
    },
    {
     "name": "stdout",
     "output_type": "stream",
     "text": [
      "class = 0\n"
     ]
    },
    {
     "name": "stderr",
     "output_type": "stream",
     "text": [
      "\n"
     ]
    },
    {
     "ename": "ValueError",
     "evalue": "cannot reshape array of size 22500 into shape (75,75,100,3)",
     "output_type": "error",
     "traceback": [
      "\u001b[1;31m---------------------------------------------------------------------------\u001b[0m",
      "\u001b[1;31mValueError\u001b[0m                                Traceback (most recent call last)",
      "\u001b[1;32m<ipython-input-168-0d5f7d65cd57>\u001b[0m in \u001b[0;36m<module>\u001b[1;34m\u001b[0m\n\u001b[0;32m     10\u001b[0m \u001b[1;33m\u001b[0m\u001b[0m\n\u001b[0;32m     11\u001b[0m     \u001b[0mimages_array\u001b[0m \u001b[1;33m=\u001b[0m \u001b[0mnp\u001b[0m\u001b[1;33m.\u001b[0m\u001b[0masarray\u001b[0m\u001b[1;33m(\u001b[0m\u001b[0mimage_series\u001b[0m\u001b[1;33m.\u001b[0m\u001b[0mtolist\u001b[0m\u001b[1;33m(\u001b[0m\u001b[1;33m)\u001b[0m\u001b[1;33m)\u001b[0m\u001b[1;33m\u001b[0m\u001b[1;33m\u001b[0m\u001b[0m\n\u001b[1;32m---> 12\u001b[1;33m     \u001b[0mimages_array\u001b[0m \u001b[1;33m=\u001b[0m \u001b[0mimages_array\u001b[0m\u001b[1;33m.\u001b[0m\u001b[0mreshape\u001b[0m\u001b[1;33m(\u001b[0m\u001b[0mimages_array\u001b[0m\u001b[1;33m.\u001b[0m\u001b[0mshape\u001b[0m\u001b[1;33m[\u001b[0m\u001b[1;36m0\u001b[0m\u001b[1;33m]\u001b[0m\u001b[1;33m,\u001b[0m \u001b[1;33m*\u001b[0m\u001b[1;33m(\u001b[0m\u001b[1;36m75\u001b[0m\u001b[1;33m,\u001b[0m \u001b[1;36m100\u001b[0m\u001b[1;33m,\u001b[0m \u001b[1;36m3\u001b[0m\u001b[1;33m)\u001b[0m\u001b[1;33m)\u001b[0m\u001b[1;33m\u001b[0m\u001b[1;33m\u001b[0m\u001b[0m\n\u001b[0m\u001b[0;32m     13\u001b[0m \u001b[1;33m\u001b[0m\u001b[0m\n\u001b[0;32m     14\u001b[0m     \u001b[0mimg_count\u001b[0m\u001b[1;33m,\u001b[0m \u001b[0mbatch_count\u001b[0m \u001b[1;33m=\u001b[0m \u001b[1;36m0\u001b[0m\u001b[1;33m,\u001b[0m \u001b[1;36m0\u001b[0m\u001b[1;33m\u001b[0m\u001b[1;33m\u001b[0m\u001b[0m\n",
      "\u001b[1;31mValueError\u001b[0m: cannot reshape array of size 22500 into shape (75,75,100,3)"
     ]
    }
   ],
   "source": [
    "# Perform the data augmentation.\n",
    "# Store the result in a directory as well as the training images and classes arrays.\n",
    "\n",
    "# For each lesion code != 4, get the indices in y_train_o.\n",
    "# For the same indices in x_train_o, augment the image present in the row.\n",
    "reset_y_train_o = y_train_o.reset_index(drop=True)\n",
    "reset_index = reset_y_train_o.index\n",
    "\n",
    "print(len(y_train_o))\n",
    "\n",
    "for i in tqdm(range(0, 7)):\n",
    "    if i == 4: continue\n",
    "    print(f'class = {i}')\n",
    "    \n",
    "    indices = reset_index[reset_y_train_o == i]\n",
    "    image_series = x_train_o.iloc[0]['image']\n",
    "    \n",
    "    images_array = np.asarray(image_series.tolist())\n",
    "    images_array = images_array.reshape(images_array.shape[0], *(75, 100, 3))\n",
    "    \n",
    "    img_count, batch_count = 0, 0\n",
    "    for batch in dataaugment.flow(images_array, batch_size=500, save_to_dir='aug/', save_prefix='aug'):\n",
    "        img_count += len(batch)\n",
    "        batch_count += 1\n",
    "        \n",
    "        print(f'Batch {batch_count} size: {len(batch)} :: total images generated: {img_count}')\n",
    "        \n",
    "        # x_train = np.append(x_train, batch)\n",
    "        x_train = np.concatenate((x_train, batch), axis=0)\n",
    "        print(f'Appended to x_train: {len(batch)} :: x_train.shape : {x_train.shape} ')\n",
    "        \n",
    "        temp_series = pd.Series([i for j in range(0, len(batch))])\n",
    "        y_train_o = y_train_o.append(temp_series, ignore_index=True)\n",
    "        print(f'Appended to y_train_o: {len(temp_series)}')\n",
    "        \n",
    "        if img_count > 3000: break"
   ]
  },
  {
   "cell_type": "code",
   "execution_count": 48,
   "metadata": {
    "scrolled": true
   },
   "outputs": [
    {
     "name": "stdout",
     "output_type": "stream",
     "text": [
      "3048\n"
     ]
    }
   ],
   "source": [
    "print(len(x_train))"
   ]
  },
  {
   "cell_type": "code",
   "execution_count": 49,
   "metadata": {
    "scrolled": false
   },
   "outputs": [
    {
     "name": "stdout",
     "output_type": "stream",
     "text": [
      "5    902\n",
      "2    863\n",
      "1    412\n",
      "4    406\n",
      "0    264\n",
      "6    115\n",
      "3     86\n",
      "Name: cell_type_idx, dtype: int64\n",
      "Total images: 3048\n"
     ]
    }
   ],
   "source": [
    "# Class distribution after handling class imbalance\n",
    "train_value_counts = y_train_o.value_counts()\n",
    "print(train_value_counts)\n",
    "print(f'Total images: {train_value_counts.sum()}')"
   ]
  },
  {
   "cell_type": "code",
   "execution_count": 31,
   "metadata": {},
   "outputs": [
    {
     "name": "stdout",
     "output_type": "stream",
     "text": [
      "[[199 142 149]\n",
      " [198 143 148]\n",
      " [201 144 153]\n",
      " [202 145 153]\n",
      " [203 145 150]\n",
      " [204 145 152]\n",
      " [204 143 151]\n",
      " [206 145 153]\n",
      " [206 148 164]\n",
      " [208 150 166]\n",
      " [212 153 165]\n",
      " [211 150 164]\n",
      " [214 152 170]\n",
      " [215 153 168]\n",
      " [211 151 166]\n",
      " [212 151 166]\n",
      " [212 149 166]\n",
      " [211 151 164]\n",
      " [209 148 158]\n",
      " [211 148 165]\n",
      " [210 148 165]\n",
      " [210 149 167]\n",
      " [210 148 162]\n",
      " [211 149 160]\n",
      " [214 154 170]\n",
      " [215 156 171]\n",
      " [216 154 169]\n",
      " [212 150 160]\n",
      " [213 152 165]\n",
      " [214 153 162]\n",
      " [212 152 162]\n",
      " [214 151 161]\n",
      " [214 152 164]\n",
      " [217 155 168]\n",
      " [216 156 164]\n",
      " [216 156 165]\n",
      " [216 157 167]\n",
      " [217 156 167]\n",
      " [216 153 168]\n",
      " [214 152 163]\n",
      " [215 154 168]\n",
      " [215 153 166]\n",
      " [213 152 165]\n",
      " [214 153 167]\n",
      " [214 154 169]\n",
      " [214 153 169]\n",
      " [213 150 166]\n",
      " [213 150 165]\n",
      " [213 149 163]\n",
      " [209 145 153]\n",
      " [210 150 160]\n",
      " [212 151 162]\n",
      " [212 151 164]\n",
      " [210 148 157]\n",
      " [208 145 156]\n",
      " [209 146 158]\n",
      " [209 144 158]\n",
      " [208 148 163]\n",
      " [209 151 165]\n",
      " [209 149 163]\n",
      " [210 150 163]\n",
      " [209 150 164]\n",
      " [209 147 160]\n",
      " [206 148 162]\n",
      " [210 150 164]\n",
      " [208 150 164]\n",
      " [206 148 162]\n",
      " [208 148 164]\n",
      " [207 145 158]\n",
      " [206 145 156]\n",
      " [205 145 157]\n",
      " [207 146 161]\n",
      " [206 145 163]\n",
      " [204 146 161]\n",
      " [203 145 157]\n",
      " [204 144 158]\n",
      " [204 143 162]\n",
      " [206 144 160]\n",
      " [204 143 158]\n",
      " [202 142 155]\n",
      " [204 144 159]\n",
      " [202 141 151]\n",
      " [202 143 151]\n",
      " [202 142 156]\n",
      " [202 142 155]\n",
      " [202 144 157]\n",
      " [200 140 151]\n",
      " [202 141 150]\n",
      " [204 146 156]\n",
      " [199 142 150]\n",
      " [200 142 154]\n",
      " [198 142 156]\n",
      " [195 139 155]\n",
      " [194 138 152]\n",
      " [197 141 151]\n",
      " [193 137 145]\n",
      " [190 135 145]\n",
      " [193 137 149]\n",
      " [193 139 150]\n",
      " [192 139 150]]\n"
     ]
    }
   ],
   "source": [
    "print(x_train[0][0])"
   ]
  },
  {
   "cell_type": "code",
   "execution_count": 23,
   "metadata": {
    "id": "VvfAsDIGhnEx"
   },
   "outputs": [],
   "source": [
    "# The normalisation is done using the training set Mean and Std. Deviation as reference\n",
    "x_train_mean = np.mean(x_train)\n",
    "x_train_std = np.std(x_train)\n",
    "\n",
    "x_train = (x_train - x_train_mean) / x_train_std\n",
    "x_test = (x_test - x_train_mean) / x_train_std"
   ]
  },
  {
   "cell_type": "code",
   "execution_count": 27,
   "metadata": {
    "scrolled": true
   },
   "outputs": [
    {
     "name": "stdout",
     "output_type": "stream",
     "text": [
      "[[ 0.84198702 -0.38498166 -0.23430129]\n",
      " [ 0.82046125 -0.36345589 -0.25582706]\n",
      " [ 0.88503855 -0.34193012 -0.14819823]\n",
      " [ 0.90656432 -0.32040436 -0.14819823]\n",
      " [ 0.92809009 -0.32040436 -0.21277553]\n",
      " [ 0.94961585 -0.32040436 -0.16972399]\n",
      " [ 0.94961585 -0.36345589 -0.19124976]\n",
      " [ 0.99266738 -0.32040436 -0.14819823]\n",
      " [ 0.99266738 -0.25582706  0.0885852 ]\n",
      " [ 1.03571892 -0.21277553  0.13163673]\n",
      " [ 1.12182198 -0.14819823  0.11011097]\n",
      " [ 1.10029622 -0.21277553  0.0885852 ]\n",
      " [ 1.16487352 -0.16972399  0.2177398 ]\n",
      " [ 1.18639928 -0.14819823  0.17468827]\n",
      " [ 1.10029622 -0.19124976  0.13163673]\n",
      " [ 1.12182198 -0.19124976  0.13163673]\n",
      " [ 1.12182198 -0.23430129  0.13163673]\n",
      " [ 1.10029622 -0.19124976  0.0885852 ]\n",
      " [ 1.05724468 -0.25582706 -0.0405694 ]\n",
      " [ 1.10029622 -0.25582706  0.11011097]\n",
      " [ 1.07877045 -0.25582706  0.11011097]\n",
      " [ 1.07877045 -0.23430129  0.1531625 ]\n",
      " [ 1.07877045 -0.25582706  0.04553367]\n",
      " [ 1.10029622 -0.23430129  0.00248214]\n",
      " [ 1.16487352 -0.12667246  0.2177398 ]\n",
      " [ 1.18639928 -0.08362093  0.23926557]\n",
      " [ 1.20792505 -0.12667246  0.19621403]\n",
      " [ 1.12182198 -0.21277553  0.00248214]\n",
      " [ 1.14334775 -0.16972399  0.11011097]\n",
      " [ 1.16487352 -0.14819823  0.04553367]\n",
      " [ 1.12182198 -0.16972399  0.04553367]\n",
      " [ 1.16487352 -0.19124976  0.0240079 ]\n",
      " [ 1.16487352 -0.16972399  0.0885852 ]\n",
      " [ 1.22945081 -0.1051467   0.17468827]\n",
      " [ 1.20792505 -0.08362093  0.0885852 ]\n",
      " [ 1.20792505 -0.08362093  0.11011097]\n",
      " [ 1.20792505 -0.06209516  0.1531625 ]\n",
      " [ 1.22945081 -0.08362093  0.1531625 ]\n",
      " [ 1.20792505 -0.14819823  0.17468827]\n",
      " [ 1.16487352 -0.16972399  0.06705944]\n",
      " [ 1.18639928 -0.12667246  0.17468827]\n",
      " [ 1.18639928 -0.14819823  0.13163673]\n",
      " [ 1.14334775 -0.16972399  0.11011097]\n",
      " [ 1.16487352 -0.14819823  0.1531625 ]\n",
      " [ 1.16487352 -0.12667246  0.19621403]\n",
      " [ 1.16487352 -0.14819823  0.19621403]\n",
      " [ 1.14334775 -0.21277553  0.13163673]\n",
      " [ 1.14334775 -0.21277553  0.11011097]\n",
      " [ 1.14334775 -0.23430129  0.06705944]\n",
      " [ 1.05724468 -0.32040436 -0.14819823]\n",
      " [ 1.07877045 -0.21277553  0.00248214]\n",
      " [ 1.12182198 -0.19124976  0.04553367]\n",
      " [ 1.12182198 -0.19124976  0.0885852 ]\n",
      " [ 1.07877045 -0.25582706 -0.06209516]\n",
      " [ 1.03571892 -0.32040436 -0.08362093]\n",
      " [ 1.05724468 -0.29887859 -0.0405694 ]\n",
      " [ 1.05724468 -0.34193012 -0.0405694 ]\n",
      " [ 1.03571892 -0.25582706  0.06705944]\n",
      " [ 1.05724468 -0.19124976  0.11011097]\n",
      " [ 1.05724468 -0.23430129  0.06705944]\n",
      " [ 1.07877045 -0.21277553  0.06705944]\n",
      " [ 1.05724468 -0.21277553  0.0885852 ]\n",
      " [ 1.05724468 -0.27735283  0.00248214]\n",
      " [ 0.99266738 -0.25582706  0.04553367]\n",
      " [ 1.07877045 -0.21277553  0.0885852 ]\n",
      " [ 1.03571892 -0.21277553  0.0885852 ]\n",
      " [ 0.99266738 -0.25582706  0.04553367]\n",
      " [ 1.03571892 -0.25582706  0.0885852 ]\n",
      " [ 1.01419315 -0.32040436 -0.0405694 ]\n",
      " [ 0.99266738 -0.32040436 -0.08362093]\n",
      " [ 0.97114162 -0.32040436 -0.06209516]\n",
      " [ 1.01419315 -0.29887859  0.0240079 ]\n",
      " [ 0.99266738 -0.32040436  0.06705944]\n",
      " [ 0.94961585 -0.29887859  0.0240079 ]\n",
      " [ 0.92809009 -0.32040436 -0.06209516]\n",
      " [ 0.94961585 -0.34193012 -0.0405694 ]\n",
      " [ 0.94961585 -0.36345589  0.04553367]\n",
      " [ 0.99266738 -0.34193012  0.00248214]\n",
      " [ 0.94961585 -0.36345589 -0.0405694 ]\n",
      " [ 0.90656432 -0.38498166 -0.1051467 ]\n",
      " [ 0.94961585 -0.34193012 -0.01904363]\n",
      " [ 0.90656432 -0.40650742 -0.19124976]\n",
      " [ 0.90656432 -0.36345589 -0.19124976]\n",
      " [ 0.90656432 -0.38498166 -0.08362093]\n",
      " [ 0.90656432 -0.38498166 -0.1051467 ]\n",
      " [ 0.90656432 -0.34193012 -0.06209516]\n",
      " [ 0.86351279 -0.42803319 -0.19124976]\n",
      " [ 0.90656432 -0.40650742 -0.21277553]\n",
      " [ 0.94961585 -0.29887859 -0.08362093]\n",
      " [ 0.84198702 -0.38498166 -0.21277553]\n",
      " [ 0.86351279 -0.38498166 -0.12667246]\n",
      " [ 0.82046125 -0.38498166 -0.08362093]\n",
      " [ 0.75588396 -0.44955896 -0.1051467 ]\n",
      " [ 0.73435819 -0.47108472 -0.16972399]\n",
      " [ 0.79893549 -0.40650742 -0.19124976]\n",
      " [ 0.71283242 -0.49261049 -0.32040436]\n",
      " [ 0.64825512 -0.53566202 -0.32040436]\n",
      " [ 0.71283242 -0.49261049 -0.23430129]\n",
      " [ 0.71283242 -0.44955896 -0.21277553]\n",
      " [ 0.69130666 -0.44955896 -0.21277553]]\n"
     ]
    }
   ],
   "source": [
    "\n",
    "print(x_train[0][0])"
   ]
  },
  {
   "cell_type": "code",
   "execution_count": 51,
   "metadata": {
    "id": "UQ0EFbN5joCo"
   },
   "outputs": [],
   "source": [
    "# Perform one-hot encoding on the labels\n",
    "y_train = to_categorical(y_train_o, num_classes = 7)\n",
    "y_test = to_categorical(y_test_o, num_classes = 7)"
   ]
  },
  {
   "cell_type": "code",
   "execution_count": 52,
   "metadata": {
    "id": "vRrRWy_Njsnp"
   },
   "outputs": [],
   "source": [
    "# Splitting training into Train and Validatation sets\n",
    "x_train, x_validate, y_train, y_validate = train_test_split(x_train, y_train, test_size = 0.1, random_state=1)\n",
    "\n",
    "# Reshaping the Images into 3 channels (RGB)\n",
    "# height = 75, width = 100, canal = 3\n",
    "x_train = x_train.reshape(x_train.shape[0], *(75, 100, 3))\n",
    "x_test = x_test.reshape(x_test.shape[0], *(75, 100, 3))\n",
    "x_validate = x_validate.reshape(x_validate.shape[0], *(75, 100, 3))"
   ]
  },
  {
   "cell_type": "code",
   "execution_count": 53,
   "metadata": {},
   "outputs": [
    {
     "name": "stdout",
     "output_type": "stream",
     "text": [
      "Model: \"sequential_1\"\n",
      "_________________________________________________________________\n",
      "Layer (type)                 Output Shape              Param #   \n",
      "=================================================================\n",
      "conv2d_4 (Conv2D)            (None, 75, 100, 32)       896       \n",
      "_________________________________________________________________\n",
      "conv2d_5 (Conv2D)            (None, 75, 100, 32)       9248      \n",
      "_________________________________________________________________\n",
      "max_pooling2d_2 (MaxPooling2 (None, 37, 50, 32)        0         \n",
      "_________________________________________________________________\n",
      "dropout_3 (Dropout)          (None, 37, 50, 32)        0         \n",
      "_________________________________________________________________\n",
      "conv2d_6 (Conv2D)            (None, 37, 50, 64)        18496     \n",
      "_________________________________________________________________\n",
      "conv2d_7 (Conv2D)            (None, 37, 50, 64)        36928     \n",
      "_________________________________________________________________\n",
      "max_pooling2d_3 (MaxPooling2 (None, 18, 25, 64)        0         \n",
      "_________________________________________________________________\n",
      "dropout_4 (Dropout)          (None, 18, 25, 64)        0         \n",
      "_________________________________________________________________\n",
      "flatten_1 (Flatten)          (None, 28800)             0         \n",
      "_________________________________________________________________\n",
      "dense_2 (Dense)              (None, 128)               3686528   \n",
      "_________________________________________________________________\n",
      "dropout_5 (Dropout)          (None, 128)               0         \n",
      "_________________________________________________________________\n",
      "dense_3 (Dense)              (None, 7)                 903       \n",
      "=================================================================\n",
      "Total params: 3,752,999\n",
      "Trainable params: 3,752,999\n",
      "Non-trainable params: 0\n",
      "_________________________________________________________________\n"
     ]
    }
   ],
   "source": [
    "# New Baseline CNN\n",
    "\n",
    "input_shape = (75, 100, 3)\n",
    "num_classes = 7\n",
    "\n",
    "model = Sequential()\n",
    "model.add(Conv2D(32, kernel_size=(3, 3),activation='relu',padding = 'Same',input_shape=input_shape))\n",
    "model.add(Conv2D(32,kernel_size=(3, 3), activation='relu',padding = 'Same',))\n",
    "model.add(MaxPool2D(pool_size = (2, 2)))\n",
    "model.add(Dropout(0.25))\n",
    "\n",
    "model.add(Conv2D(64, (3, 3), activation='relu',padding = 'Same'))\n",
    "model.add(Conv2D(64, (3, 3), activation='relu',padding = 'Same'))\n",
    "model.add(MaxPool2D(pool_size=(2, 2)))\n",
    "model.add(Dropout(0.40))\n",
    "\n",
    "model.add(Flatten())\n",
    "model.add(Dense(128, activation='relu'))\n",
    "model.add(Dropout(0.5))\n",
    "model.add(Dense(num_classes, activation='softmax'))\n",
    "model.summary()\n"
   ]
  },
  {
   "cell_type": "code",
   "execution_count": 54,
   "metadata": {},
   "outputs": [],
   "source": [
    "# Define metrics \n",
    "\n",
    "def recall_m(y_true, y_pred):\n",
    "    true_positives = K.sum(K.round(K.clip(y_true * y_pred, 0, 1)))\n",
    "    possible_positives = K.sum(K.round(K.clip(y_true, 0, 1)))\n",
    "    recall = true_positives / (possible_positives + K.epsilon())\n",
    "    return recall\n",
    "\n",
    "def precision_m(y_true, y_pred):\n",
    "    true_positives = K.sum(K.round(K.clip(y_true * y_pred, 0, 1)))\n",
    "    predicted_positives = K.sum(K.round(K.clip(y_pred, 0, 1)))\n",
    "    precision = true_positives / (predicted_positives + K.epsilon())\n",
    "    return precision\n",
    "\n",
    "def f1_m(y_true, y_pred):\n",
    "    precision = precision_m(y_true, y_pred)\n",
    "    recall = recall_m(y_true, y_pred)\n",
    "    return 2*((precision*recall)/(precision+recall+K.epsilon()))"
   ]
  },
  {
   "cell_type": "code",
   "execution_count": 55,
   "metadata": {},
   "outputs": [],
   "source": [
    "# New baseline\n",
    "# Define the optimizer\n",
    "optimizer = Adam(learning_rate=0.001, \n",
    "                 beta_1=0.9, \n",
    "                 beta_2=0.999, \n",
    "                 # epsilon=None, \n",
    "                 decay=0.0, \n",
    "                 amsgrad=False)\n",
    "\n",
    "# Compile the model\n",
    "model.compile(optimizer = optimizer , loss = \"categorical_crossentropy\", metrics=[\"accuracy\", f1_m,precision_m, recall_m])\n",
    "\n",
    "# Set a learning rate annealer\n",
    "learning_rate_reduction = ReduceLROnPlateau(monitor='val_accuracy', \n",
    "                                            patience=3, \n",
    "                                            verbose=1, \n",
    "                                            factor=0.5, \n",
    "                                            min_lr=0.00001)"
   ]
  },
  {
   "cell_type": "code",
   "execution_count": 56,
   "metadata": {
    "id": "5WSfybEBiz-W"
   },
   "outputs": [],
   "source": [
    "x_train = np.asarray(x_train)\n",
    "y_train = np.asarray(y_train)\n",
    "x_validate = np.asarray(x_validate)\n",
    "y_validate = np.asarray(y_validate)"
   ]
  },
  {
   "cell_type": "code",
   "execution_count": 57,
   "metadata": {},
   "outputs": [
    {
     "name": "stdout",
     "output_type": "stream",
     "text": [
      "Epoch 1/30\n",
      "274/274 [==============================] - 64s 219ms/step - loss: 1.6765 - accuracy: 0.3453 - f1_m: 0.1443 - precision_m: 0.4107 - recall_m: 0.0934 - val_loss: 1.3627 - val_accuracy: 0.4918 - val_f1_m: 0.2470 - val_precision_m: 0.8967 - val_recall_m: 0.1461\n",
      "Epoch 2/30\n",
      "274/274 [==============================] - 62s 227ms/step - loss: 1.4619 - accuracy: 0.4333 - f1_m: 0.2404 - precision_m: 0.5972 - recall_m: 0.1608 - val_loss: 1.3504 - val_accuracy: 0.4754 - val_f1_m: 0.3990 - val_precision_m: 0.6251 - val_recall_m: 0.2950\n",
      "Epoch 3/30\n",
      "274/274 [==============================] - 61s 222ms/step - loss: 1.3843 - accuracy: 0.4615 - f1_m: 0.2876 - precision_m: 0.6011 - recall_m: 0.2010 - val_loss: 1.2551 - val_accuracy: 0.4951 - val_f1_m: 0.4080 - val_precision_m: 0.7591 - val_recall_m: 0.2818\n",
      "Epoch 4/30\n",
      "274/274 [==============================] - 62s 226ms/step - loss: 1.3083 - accuracy: 0.4918 - f1_m: 0.3576 - precision_m: 0.6315 - recall_m: 0.2611 - val_loss: 1.1417 - val_accuracy: 0.5574 - val_f1_m: 0.4605 - val_precision_m: 0.7005 - val_recall_m: 0.3474\n",
      "Epoch 5/30\n",
      "274/274 [==============================] - 62s 228ms/step - loss: 1.2090 - accuracy: 0.5141 - f1_m: 0.4082 - precision_m: 0.6471 - recall_m: 0.3108 - val_loss: 1.1425 - val_accuracy: 0.5508 - val_f1_m: 0.4647 - val_precision_m: 0.6744 - val_recall_m: 0.3585\n",
      "Epoch 6/30\n",
      "274/274 [==============================] - 62s 226ms/step - loss: 1.1323 - accuracy: 0.5490 - f1_m: 0.4629 - precision_m: 0.6710 - recall_m: 0.3643 - val_loss: 1.1119 - val_accuracy: 0.5803 - val_f1_m: 0.4876 - val_precision_m: 0.6365 - val_recall_m: 0.3974\n",
      "Epoch 7/30\n",
      "274/274 [==============================] - 63s 230ms/step - loss: 1.0404 - accuracy: 0.6067 - f1_m: 0.5421 - precision_m: 0.7206 - recall_m: 0.4467 - val_loss: 1.1816 - val_accuracy: 0.5639 - val_f1_m: 0.5250 - val_precision_m: 0.6672 - val_recall_m: 0.4369\n",
      "Epoch 8/30\n",
      "274/274 [==============================] - 64s 234ms/step - loss: 0.9853 - accuracy: 0.6268 - f1_m: 0.5844 - precision_m: 0.7361 - recall_m: 0.4929 - val_loss: 1.1595 - val_accuracy: 0.5869 - val_f1_m: 0.5457 - val_precision_m: 0.6755 - val_recall_m: 0.4596\n",
      "Epoch 9/30\n",
      "274/274 [==============================] - 66s 243ms/step - loss: 0.8372 - accuracy: 0.6792 - f1_m: 0.6513 - precision_m: 0.7708 - recall_m: 0.5719 - val_loss: 1.1855 - val_accuracy: 0.6033 - val_f1_m: 0.5372 - val_precision_m: 0.6531 - val_recall_m: 0.4592\n",
      "Epoch 10/30\n",
      "274/274 [==============================] - 64s 233ms/step - loss: 0.7663 - accuracy: 0.7027 - f1_m: 0.6868 - precision_m: 0.7868 - recall_m: 0.6180 - val_loss: 1.2010 - val_accuracy: 0.5967 - val_f1_m: 0.5306 - val_precision_m: 0.6343 - val_recall_m: 0.4623\n",
      "Epoch 11/30\n",
      "274/274 [==============================] - 61s 224ms/step - loss: 0.6794 - accuracy: 0.7386 - f1_m: 0.7270 - precision_m: 0.8144 - recall_m: 0.6644 - val_loss: 1.2377 - val_accuracy: 0.6066 - val_f1_m: 0.5689 - val_precision_m: 0.6575 - val_recall_m: 0.5033\n",
      "Epoch 12/30\n",
      "274/274 [==============================] - 62s 227ms/step - loss: 0.5699 - accuracy: 0.7943 - f1_m: 0.7819 - precision_m: 0.8448 - recall_m: 0.7329 - val_loss: 1.4245 - val_accuracy: 0.5639 - val_f1_m: 0.5510 - val_precision_m: 0.6025 - val_recall_m: 0.5096\n",
      "Epoch 13/30\n",
      "274/274 [==============================] - 61s 224ms/step - loss: 0.5665 - accuracy: 0.7934 - f1_m: 0.7832 - precision_m: 0.8393 - recall_m: 0.7394 - val_loss: 1.5144 - val_accuracy: 0.5770 - val_f1_m: 0.5459 - val_precision_m: 0.6005 - val_recall_m: 0.5026\n",
      "Epoch 14/30\n",
      "274/274 [==============================] - 69s 251ms/step - loss: 0.5112 - accuracy: 0.7997 - f1_m: 0.7994 - precision_m: 0.8498 - recall_m: 0.7581 - val_loss: 1.6253 - val_accuracy: 0.5803 - val_f1_m: 0.5753 - val_precision_m: 0.6172 - val_recall_m: 0.5401\n",
      "\n",
      "Epoch 00014: ReduceLROnPlateau reducing learning rate to 0.0005000000237487257.\n",
      "Epoch 15/30\n",
      "274/274 [==============================] - 74s 270ms/step - loss: 0.4202 - accuracy: 0.8375 - f1_m: 0.8284 - precision_m: 0.8672 - recall_m: 0.7959 - val_loss: 1.6370 - val_accuracy: 0.6098 - val_f1_m: 0.6015 - val_precision_m: 0.6363 - val_recall_m: 0.5713\n",
      "Epoch 16/30\n",
      "274/274 [==============================] - 64s 233ms/step - loss: 0.3497 - accuracy: 0.8691 - f1_m: 0.8647 - precision_m: 0.8941 - recall_m: 0.8398 - val_loss: 1.7189 - val_accuracy: 0.6033 - val_f1_m: 0.5821 - val_precision_m: 0.6161 - val_recall_m: 0.5526\n",
      "Epoch 17/30\n",
      "274/274 [==============================] - 68s 250ms/step - loss: 0.3134 - accuracy: 0.8815 - f1_m: 0.8781 - precision_m: 0.9031 - recall_m: 0.8570 - val_loss: 1.6772 - val_accuracy: 0.6295 - val_f1_m: 0.6210 - val_precision_m: 0.6479 - val_recall_m: 0.5967\n",
      "Epoch 18/30\n",
      "274/274 [==============================] - 73s 268ms/step - loss: 0.2679 - accuracy: 0.8980 - f1_m: 0.8950 - precision_m: 0.9181 - recall_m: 0.8755 - val_loss: 1.9266 - val_accuracy: 0.6000 - val_f1_m: 0.5847 - val_precision_m: 0.6069 - val_recall_m: 0.5651\n",
      "Epoch 19/30\n",
      "274/274 [==============================] - 62s 227ms/step - loss: 0.2664 - accuracy: 0.8993 - f1_m: 0.8960 - precision_m: 0.9159 - recall_m: 0.8785 - val_loss: 1.8361 - val_accuracy: 0.6197 - val_f1_m: 0.6174 - val_precision_m: 0.6380 - val_recall_m: 0.5987\n",
      "Epoch 20/30\n",
      "274/274 [==============================] - 84s 306ms/step - loss: 0.2471 - accuracy: 0.9069 - f1_m: 0.9065 - precision_m: 0.9238 - recall_m: 0.8914 - val_loss: 1.7205 - val_accuracy: 0.6230 - val_f1_m: 0.5998 - val_precision_m: 0.6285 - val_recall_m: 0.5744\n",
      "\n",
      "Epoch 00020: ReduceLROnPlateau reducing learning rate to 0.0002500000118743628.\n",
      "Epoch 21/30\n",
      "274/274 [==============================] - 61s 224ms/step - loss: 0.2183 - accuracy: 0.9220 - f1_m: 0.9229 - precision_m: 0.9379 - recall_m: 0.9097 - val_loss: 2.0041 - val_accuracy: 0.6164 - val_f1_m: 0.6099 - val_precision_m: 0.6280 - val_recall_m: 0.5932\n",
      "Epoch 22/30\n",
      "274/274 [==============================] - 62s 225ms/step - loss: 0.1811 - accuracy: 0.9349 - f1_m: 0.9337 - precision_m: 0.9451 - recall_m: 0.9235 - val_loss: 2.0583 - val_accuracy: 0.6295 - val_f1_m: 0.6219 - val_precision_m: 0.6393 - val_recall_m: 0.6061\n",
      "Epoch 23/30\n",
      "274/274 [==============================] - 63s 229ms/step - loss: 0.1595 - accuracy: 0.9467 - f1_m: 0.9449 - precision_m: 0.9560 - recall_m: 0.9351 - val_loss: 2.0315 - val_accuracy: 0.6262 - val_f1_m: 0.6146 - val_precision_m: 0.6384 - val_recall_m: 0.5932\n",
      "\n",
      "Epoch 00023: ReduceLROnPlateau reducing learning rate to 0.0001250000059371814.\n",
      "Epoch 24/30\n",
      "274/274 [==============================] - 62s 227ms/step - loss: 0.1480 - accuracy: 0.9514 - f1_m: 0.9490 - precision_m: 0.9587 - recall_m: 0.9403 - val_loss: 2.0623 - val_accuracy: 0.6328 - val_f1_m: 0.6273 - val_precision_m: 0.6480 - val_recall_m: 0.6092\n",
      "Epoch 25/30\n",
      "274/274 [==============================] - 62s 228ms/step - loss: 0.1641 - accuracy: 0.9449 - f1_m: 0.9438 - precision_m: 0.9545 - recall_m: 0.9344 - val_loss: 2.1461 - val_accuracy: 0.6230 - val_f1_m: 0.6164 - val_precision_m: 0.6308 - val_recall_m: 0.6029\n",
      "Epoch 26/30\n",
      "274/274 [==============================] - 60s 219ms/step - loss: 0.1425 - accuracy: 0.9484 - f1_m: 0.9495 - precision_m: 0.9593 - recall_m: 0.9408 - val_loss: 2.1142 - val_accuracy: 0.6197 - val_f1_m: 0.6198 - val_precision_m: 0.6386 - val_recall_m: 0.6026\n",
      "Epoch 27/30\n",
      "274/274 [==============================] - 60s 219ms/step - loss: 0.1458 - accuracy: 0.9470 - f1_m: 0.9463 - precision_m: 0.9532 - recall_m: 0.9401 - val_loss: 2.2615 - val_accuracy: 0.6164 - val_f1_m: 0.6079 - val_precision_m: 0.6196 - val_recall_m: 0.5967\n",
      "\n",
      "Epoch 00027: ReduceLROnPlateau reducing learning rate to 6.25000029685907e-05.\n",
      "Epoch 28/30\n",
      "102/274 [==========>...................] - ETA: 36s - loss: 0.1149 - accuracy: 0.9616 - f1_m: 0.9631 - precision_m: 0.9693 - recall_m: 0.9576WARNING:tensorflow:Your input ran out of data; interrupting training. Make sure that your dataset or generator can generate at least `steps_per_epoch * epochs` batches (in this case, 8220 batches). You may need to use the repeat() function when building your dataset.\n",
      "274/274 [==============================] - 24s 86ms/step - loss: 0.1262 - accuracy: 0.9564 - f1_m: 0.9580 - precision_m: 0.9649 - recall_m: 0.9518 - val_loss: 2.2557 - val_accuracy: 0.6066 - val_f1_m: 0.6103 - val_precision_m: 0.6251 - val_recall_m: 0.5967\n"
     ]
    }
   ],
   "source": [
    "# New baseline\n",
    "# Fit the model\n",
    "epochs = 30\n",
    "batch_size = 10\n",
    "# history = model.fit_generator(dataaugment.flow(x_train,y_train, batch_size=batch_size),\n",
    "#                               epochs = epochs, validation_data = (x_validate,y_validate),\n",
    "#                               verbose = 1, steps_per_epoch=x_train.shape[0] // batch_size\n",
    "#                               , callbacks=[learning_rate_reduction])\n",
    "\n",
    "history = model.fit(x=x_train, y=y_train,\n",
    "                              epochs = epochs, validation_data = (x_validate,y_validate),\n",
    "                              verbose = 1, steps_per_epoch=x_train.shape[0] // batch_size\n",
    "                              , callbacks=[learning_rate_reduction])"
   ]
  },
  {
   "cell_type": "code",
   "execution_count": 58,
   "metadata": {
    "scrolled": true
   },
   "outputs": [
    {
     "name": "stdout",
     "output_type": "stream",
     "text": [
      "dict_keys(['loss', 'accuracy', 'f1_m', 'precision_m', 'recall_m', 'val_loss', 'val_accuracy', 'val_f1_m', 'val_precision_m', 'val_recall_m', 'lr'])\n",
      "Accuracy: 0.9533632397651672\n",
      "loss: 0.1328534185886383\n",
      "f1_m: 0.9548803567886353\n",
      "precision_m: 0.9622101783752441\n",
      "recall_m: 0.9483062624931335\n"
     ]
    },
    {
     "data": {
      "image/png": "[encoded data removed]",
      "text/plain": [
       "<Figure size 432x288 with 1 Axes>"
      ]
     },
     "metadata": {
      "needs_background": "light"
     },
     "output_type": "display_data"
    },
    {
     "data": {
      "image/png": "[encoded data removed]",
      "text/plain": [
       "<Figure size 432x288 with 1 Axes>"
      ]
     },
     "metadata": {
      "needs_background": "light"
     },
     "output_type": "display_data"
    },
    {
     "data": {
      "image/png": "[encoded data removed]",
      "text/plain": [
       "<Figure size 432x288 with 1 Axes>"
      ]
     },
     "metadata": {
      "needs_background": "light"
     },
     "output_type": "display_data"
    },
    {
     "data": {
      "image/png": "[encoded data removed]",
      "text/plain": [
       "<Figure size 432x288 with 1 Axes>"
      ]
     },
     "metadata": {
      "needs_background": "light"
     },
     "output_type": "display_data"
    }
   ],
   "source": [
    "# plot graphs from history\n",
    "print(history.history.keys())\n",
    "print(f'Accuracy: {history.history[\"accuracy\"][-1]}')\n",
    "print(f'loss: {history.history[\"loss\"][-1]}')\n",
    "print(f'f1_m: {history.history[\"f1_m\"][-1]}')\n",
    "print(f'precision_m: {history.history[\"precision_m\"][-1]}')\n",
    "print(f'recall_m: {history.history[\"recall_m\"][-1]}')\n",
    "\n",
    "plt.plot(history.history[\"accuracy\"], label='accuracy')\n",
    "plt.plot(history.history[\"val_accuracy\"], label='Validaion accuracy')\n",
    "plt.ylabel('accuracy')\n",
    "plt.xlabel('epoch')\n",
    "plt.legend(['train', 'val'])\n",
    "plt.show()\n",
    "\n",
    "plt.plot(history.history[\"f1_m\"], label='F1_score')\n",
    "plt.plot(history.history[\"val_f1_m\"], label='Validaion F1_score')\n",
    "plt.ylabel('F1_score')\n",
    "plt.xlabel('epoch')\n",
    "plt.legend(['train', 'val'])\n",
    "plt.show()\n",
    "\n",
    "plt.plot(history.history[\"precision_m\"], label='Precision')\n",
    "plt.plot(history.history[\"val_precision_m\"], label='Validaion Precision')\n",
    "plt.ylabel('Precision')\n",
    "plt.xlabel('epoch')\n",
    "plt.legend(['train', 'val'])\n",
    "plt.show()\n",
    "\n",
    "plt.plot(history.history[\"recall_m\"], label='Recall')\n",
    "plt.plot(history.history[\"val_recall_m\"], label='Validaion Recall')\n",
    "plt.ylabel('Recall')\n",
    "plt.xlabel('epoch')\n",
    "plt.legend(['train', 'val'])\n",
    "plt.show()"
   ]
  },
  {
   "cell_type": "code",
   "execution_count": 28,
   "metadata": {
    "scrolled": true
   },
   "outputs": [
    {
     "name": "stdout",
     "output_type": "stream",
     "text": [
      "213/213 [==============================] - 30s 141ms/step - loss: 0.1335 - accuracy: 0.9727 - f1_m: 0.9725 - precision_m: 0.9740 - recall_m: 0.9711\n",
      "86/86 [==============================] - 13s 146ms/step - loss: 0.1037 - accuracy: 0.9732 - f1_m: 0.9736 - precision_m: 0.9749 - recall_m: 0.9724\n"
     ]
    }
   ],
   "source": [
    "# Evaluate model\n",
    "test_eval = model.evaluate(x_test, y_test, verbose=1, return_dict=True)\n",
    "validation_eval = model.evaluate(x_validate, y_validate, verbose=1, return_dict=True)\n",
    "# model.save(\"model.h5\")"
   ]
  },
  {
   "cell_type": "code",
   "execution_count": 29,
   "metadata": {
    "scrolled": false
   },
   "outputs": [
    {
     "name": "stdout",
     "output_type": "stream",
     "text": [
      "loss: 0.1037459671497345\n",
      "accuracy: 0.9731814861297607\n",
      "f1_m: 0.9736060500144958\n",
      "precision_m: 0.9748914241790771\n",
      "recall_m: 0.9723837375640869\n"
     ]
    }
   ],
   "source": [
    "for i, j in validation_eval.items():\n",
    "    print(f'{i}: {j}')"
   ]
  },
  {
   "cell_type": "code",
   "execution_count": 30,
   "metadata": {
    "scrolled": true
   },
   "outputs": [
    {
     "name": "stdout",
     "output_type": "stream",
     "text": [
      "loss: 0.13353893160820007\n",
      "accuracy: 0.9726591110229492\n",
      "f1_m: 0.9725062251091003\n",
      "precision_m: 0.9739606976509094\n",
      "recall_m: 0.9710974097251892\n"
     ]
    }
   ],
   "source": [
    "for i, j in test_eval.items():\n",
    "    print(f'{i}: {j}')"
   ]
  },
  {
   "cell_type": "code",
   "execution_count": 189,
   "metadata": {},
   "outputs": [
    {
     "name": "stdout",
     "output_type": "stream",
     "text": [
      "63/63 [==============================] - 9s 141ms/step\n"
     ]
    }
   ],
   "source": [
    "# Get predictions for plotting the confusion matrix\n",
    "predictions = model.predict(x_test, verbose=1)"
   ]
  },
  {
   "cell_type": "code",
   "execution_count": 190,
   "metadata": {
    "scrolled": true
   },
   "outputs": [
    {
     "data": {
      "image/png": "[encoded data removed]",
      "text/plain": [
       "<Figure size 432x288 with 2 Axes>"
      ]
     },
     "metadata": {
      "needs_background": "light"
     },
     "output_type": "display_data"
    }
   ],
   "source": [
    "# Plot the confusion matrix\n",
    "predictions = np.argmax(predictions, axis=0)\n",
    "y_test = np.argmax(y_test, axis=0)\n",
    "\n",
    "sns.heatmap(confusion_matrix(y_test, predictions), annot=True, cmap = 'coolwarm', fmt='.0f')\n",
    "plt.show()"
   ]
  },
  {
   "cell_type": "code",
   "execution_count": null,
   "metadata": {},
   "outputs": [],
   "source": [
    "# New Baseline CNN 2\n",
    "\n",
    "input_shape = (75, 100, 3)\n",
    "num_classes = 7\n",
    "\n",
    "model = Sequential()\n",
    "model.add(Conv2D(128, kernel_size=(3, 3),activation='relu',padding = 'Same',input_shape=input_shape))\n",
    "model.add(MaxPool2D(pool_size = (2, 2)))\n",
    "model.add(Dropout(0.1))\n",
    "model.add(Dense(500))\n",
    "\n",
    "model.add(Conv2D(128, (3, 3), activation='relu',padding = 'Same'))\n",
    "model.add(MaxPool2D(pool_size=(2, 2)))\n",
    "model.add(Dropout(0.1))\n",
    "model.add(Dense(250))\n",
    "\n",
    "model.add(Conv2D(128, (3, 3), activation='relu',padding = 'Same'))\n",
    "model.add(MaxPool2D(pool_size=(2, 2)))\n",
    "\n",
    "model.add(Flatten())\n",
    "model.add(Dense(128, activation='relu'))\n",
    "model.add(Dropout(0.1))\n",
    "model.add(Dense(num_classes, activation='softmax'))\n",
    "model.summary()\n"
   ]
  },
  {
   "cell_type": "code",
   "execution_count": 91,
   "metadata": {
    "id": "p-5mIa3d9xNG"
   },
   "outputs": [],
   "source": [
    "# Old Baseline CNN\n",
    "\n",
    "# After considering one input and one output per tensor\n",
    "# Initializing CNN\n",
    "model = Sequential()\n",
    "\n",
    "# 1 - Convolution\n",
    "model.add(Conv2D(64, (3,3), padding='Same', input_shape=input_shape))\n",
    "model.add(BatchNormalization())\n",
    "model.add(Activation('relu'))\n",
    "model.add(MaxPooling2D(pool_size=(2, 2)))\n",
    "model.add(Dropout(0.25))\n",
    "\n",
    "# 2nd Convolution layer\n",
    "model.add(Conv2D(64,(3,3), padding='same'))\n",
    "model.add(BatchNormalization())\n",
    "model.add(Activation('relu'))\n",
    "model.add(MaxPooling2D(pool_size=(2, 2)))\n",
    "model.add(Dropout(0.25))\n",
    "\n",
    "# 3rd Convolution layer\n",
    "model.add(Conv2D(64,(3,3), padding='same'))\n",
    "model.add(BatchNormalization())\n",
    "model.add(Activation('relu'))\n",
    "model.add(MaxPooling2D(pool_size=(2, 2)))\n",
    "model.add(Dropout(0.25))\n",
    "\n",
    "# 4th Convolution layer\n",
    "model.add(Conv2D(64,(3,3), padding='same'))\n",
    "model.add(BatchNormalization())\n",
    "model.add(Activation('relu'))\n",
    "model.add(MaxPooling2D(pool_size=(2, 2)))\n",
    "model.add(Dropout(0.25))\n",
    "\n",
    "# Flattening\n",
    "model.add(Flatten())\n",
    "\n",
    "# Fully connected layer 1st layer\n",
    "model.add(Dense(256))\n",
    "model.add(BatchNormalization())\n",
    "model.add(Activation('relu'))\n",
    "model.add(Dropout(0.25))\n",
    "\n",
    "# Fully connected layer 2nd layer\n",
    "model.add(Dense(512))\n",
    "model.add(BatchNormalization())\n",
    "model.add(Activation('relu'))\n",
    "model.add(Dropout(0.25))\n",
    "\n",
    "model.add(Dense(num_classes, activation='softmax'))\n",
    "\n",
    "# model.compile(optimizer=optimizer, loss='categorical_crossentropy', metrics=['accuracy'])\n",
    "# model.summary()\n",
    "\n",
    "#Output\n",
    "model.add(BatchNormalization())\n",
    "model.add(Dense(num_classes, activation='softmax'))"
   ]
  },
  {
   "cell_type": "raw",
   "metadata": {
    "id": "-6ys5M0w8SSm"
   },
   "source": [
    "# Model Parameters\n",
    "input_shape = (75, 100, 3)\n",
    "\n",
    "# Number of classes\n",
    "num_classes = 7\n",
    "\n",
    "# Optimizer\n",
    "optimizer = Adam(lr=0.001, beta_1=0.9, beta_2=0.999, epsilon=None, decay=0.0, amsgrad=False)\n",
    "\n",
    "# Epoch is number of times a node is trained\n",
    "epochs = 9\n",
    "batch_size = 20\n",
    "\n",
    "# Callback functions (To follow the path of gradient descent)\n",
    "learning_rate_reduction = ReduceLROnPlateau(monitor='val_accuracy', patience=5, verbose=0, factor=0.5, min_lr=0.00001)\n",
    "early_stopping_monitor = EarlyStopping(patience=20, monitor='val_accuracy')\n"
   ]
  },
  {
   "cell_type": "raw",
   "metadata": {
    "colab": {
     "background_save": true
    },
    "id": "B3COod77Db5c",
    "outputId": "e99a24fe-b6a1-428d-9c8c-64e007fa7e2d"
   },
   "source": [
    "# dataaugment.flow(x_train,y_train, batch_size=batch_size),\n",
    "# callbacks=[learning_rate_reduction,early_stopping_monitor]\n",
    "history = model.fit(\n",
    "    x = x_train,\n",
    "    y = y_train, \n",
    "    batch_size=batch_size,\n",
    "    verbose = 0, \n",
    "    steps_per_epoch=x_train.shape[0] // batch_size,\n",
    "    epochs=10,\n",
    "    validation_data = (x_validate, y_validate)\n",
    ")\n",
    "\n",
    "loss, accuracy = model.evaluate(x_test, y_test, verbose=0)\n",
    "predictions = model.predict(x_test)\n",
    "loss_v, accuracy_v = model.evaluate(x_validate, y_validate, verbose=0)\n",
    "loss_t, accuracy_t = model.evaluate(x_train, y_train, verbose=0)\n",
    "\n",
    "print(\"Training: accuracy = %f\" % (accuracy_t))\n",
    "print(\"Validation: accuracy = %f\" % (accuracy_v))\n",
    "print(\"Test: accuracy = %f\" % (accuracy))"
   ]
  },
  {
   "cell_type": "raw",
   "metadata": {
    "colab": {
     "base_uri": "https://localhost:8080/",
     "height": 341
    },
    "id": "7l6D3elvzeOc",
    "outputId": "aa5f62ba-4636-4e80-c7ac-f7d814fbbb25"
   },
   "source": [
    "predictions = np.argmax(predictions, axis=1)"
   ]
  },
  {
   "cell_type": "raw",
   "metadata": {
    "id": "NVVDXdOHxYcY"
   },
   "source": [
    "y_test = np.argmax(y_test, axis=1)"
   ]
  },
  {
   "cell_type": "raw",
   "metadata": {
    "colab": {
     "base_uri": "https://localhost:8080/",
     "height": 265
    },
    "id": "IAGYMa0HxUsy",
    "outputId": "f3c2f649-b11b-4c68-efdc-1b9c627d14c6"
   },
   "source": [
    "\n",
    "sns.heatmap(confusion_matrix(y_test, predictions), annot=True, cmap = 'coolwarm', fmt='.0f')\n",
    "plt.show()"
   ]
  },
  {
   "cell_type": "raw",
   "metadata": {
    "colab": {
     "base_uri": "https://localhost:8080/"
    },
    "id": "jL1zPJ27xXmE",
    "outputId": "18204e51-7a3b-4c0f-df3f-bd99c34f6d58"
   },
   "source": [
    "len(predictions)"
   ]
  },
  {
   "cell_type": "raw",
   "metadata": {
    "colab": {
     "base_uri": "https://localhost:8080/"
    },
    "id": "qj27aH_-z1f4",
    "outputId": "db34107b-edb9-436e-aa12-b978a68a1074"
   },
   "source": [
    "target.value_counts()\n",
    "len(x_train)\n",
    "len(x_validate)"
   ]
  }
 ],
 "metadata": {
  "colab": {
   "collapsed_sections": [],
   "name": "G04.ipynb",
   "provenance": []
  },
  "kernelspec": {
   "display_name": "Python 3",
   "language": "python",
   "name": "python3"
  },
  "language_info": {
   "codemirror_mode": {
    "name": "ipython",
    "version": 3
   },
   "file_extension": ".py",
   "mimetype": "text/x-python",
   "name": "python",
   "nbconvert_exporter": "python",
   "pygments_lexer": "ipython3",
   "version": "3.9.4"
  }
 },
 "nbformat": 4,
 "nbformat_minor": 1
}
