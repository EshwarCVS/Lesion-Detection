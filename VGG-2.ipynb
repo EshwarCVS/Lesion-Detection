{
  "nbformat": 4,
  "nbformat_minor": 0,
  "metadata": {
    "colab": {
      "name": "VGG.ipynb",
      "provenance": [],
      "collapsed_sections": []
    },
    "kernelspec": {
      "display_name": "Python 3",
      "language": "python",
      "name": "python3"
    },
    "language_info": {
      "codemirror_mode": {
        "name": "ipython",
        "version": 3
      },
      "file_extension": ".py",
      "mimetype": "text/x-python",
      "name": "python",
      "nbconvert_exporter": "python",
      "pygments_lexer": "ipython3",
      "version": "3.9.4"
    },
    "accelerator": "GPU"
  },
  "cells": [
    {
      "cell_type": "code",
      "metadata": {
        "id": "Ewa5uOvRx-Tt"
      },
      "source": [
        "import os \n",
        "import zipfile \n",
        "\n",
        "import tensorflow as tf \n",
        "from tensorflow.keras.preprocessing.image import ImageDataGenerator \n",
        "from tensorflow.keras import layers\n",
        "from tensorflow.keras.layers import Dense, Input, Dropout,Flatten, Conv2D, MaxPool2D\n",
        "from tensorflow.keras.layers import BatchNormalization, Activation, MaxPooling2D\n",
        "from tensorflow.keras.models import Model, Sequential\n",
        "from tensorflow.keras.callbacks import EarlyStopping, ReduceLROnPlateau\n",
        "from tensorflow.keras.optimizers import Adam\n",
        "\n",
        "import matplotlib.pyplot as plt\n",
        "import numpy as np\n",
        "import pandas as pd\n",
        "\n",
        "import torchvision\n",
        "import torchvision.transforms as transforms\n",
        "\n",
        "import glob\n",
        "from PIL import Image\n",
        "\n",
        "from sklearn.model_selection import train_test_split\n",
        "\n",
        "from keras.utils.np_utils import to_categorical # convert to one-hot-encoding\n",
        "\n",
        "from IPython.display import clear_output\n",
        "from tqdm import tqdm\n",
        "\n",
        "from sklearn.metrics import confusion_matrix\n",
        "import seaborn as sns\n",
        "\n",
        "from keras import backend as K\n",
        "\n",
        "from sklearn.utils import resample"
      ],
      "execution_count": 1,
      "outputs": []
    },
    {
      "cell_type": "code",
      "metadata": {
        "colab": {
          "base_uri": "https://localhost:8080/"
        },
        "id": "sOSKOnc3OkVX",
        "outputId": "f9593d86-f468-4aaf-fa4a-26056f46e29c"
      },
      "source": [
        "from google.colab import drive\n",
        "drive.mount('/content/drive/')"
      ],
      "execution_count": 2,
      "outputs": [
        {
          "output_type": "stream",
          "text": [
            "Mounted at /content/drive/\n"
          ],
          "name": "stdout"
        }
      ]
    },
    {
      "cell_type": "code",
      "metadata": {
        "id": "5HyWq_mhW75S"
      },
      "source": [
        "# data_dir = \"images/\"\n",
        "# metadata_path = \"HAM10000_metadata.csv\"\n",
        "data_dir = \"/content/drive/MyDrive/Colab Notebooks/images/\"\n",
        "metadata_path = \"/content/drive/MyDrive/Colab Notebooks/HAM10000_metadata\""
      ],
      "execution_count": 3,
      "outputs": []
    },
    {
      "cell_type": "code",
      "metadata": {
        "id": "Gf2eWAukQrVe"
      },
      "source": [
        "#Lesion Dictionary\n",
        "lesion_type_dict = {\n",
        "    'nv': 'Melanocytic nevi',\n",
        "    'mel': 'Melanoma',\n",
        "    'bkl': 'Benign keratosis-like lesions ',\n",
        "    'bcc': 'Basal cell carcinoma',\n",
        "    'akiec': 'Actinic keratoses',\n",
        "    'vasc': 'Vascular lesions',\n",
        "    'df': 'Dermatofibroma'\n",
        "}"
      ],
      "execution_count": 4,
      "outputs": []
    },
    {
      "cell_type": "code",
      "metadata": {
        "id": "GEXRn0E25KCy"
      },
      "source": [
        "# Read metadata into dataframe\n",
        "metadata = pd.read_csv(metadata_path)\n",
        "skin_df = metadata"
      ],
      "execution_count": 5,
      "outputs": []
    },
    {
      "cell_type": "code",
      "metadata": {
        "id": "ZvxnWcZt5KCy"
      },
      "source": [
        "# Dictionary for Image Names\n",
        "imageid_path_dict = {os.path.splitext(os.path.basename(x))[0]: x for x in glob.glob(os.path.join(data_dir, '*.jpg'))}"
      ],
      "execution_count": 6,
      "outputs": []
    },
    {
      "cell_type": "code",
      "metadata": {
        "id": "VNqP0ahB5KCy"
      },
      "source": [
        "#Create useful Columns - Images Path, Lesion Type and Lesion Categorical Code\n",
        "skin_df['path'] = skin_df['image_id'].map(imageid_path_dict.get)\n",
        "skin_df['cell_type'] = skin_df['dx'].map(lesion_type_dict.get) \n",
        "skin_df['cell_type_idx'] = pd.Categorical(skin_df['cell_type']).codes"
      ],
      "execution_count": 7,
      "outputs": []
    },
    {
      "cell_type": "code",
      "metadata": {
        "colab": {
          "base_uri": "https://localhost:8080/"
        },
        "id": "0POOFz2V5KCz",
        "outputId": "0277dcfb-6ffd-46f6-fafd-2e412fc45e17"
      },
      "source": [
        "# Lesion code dictionary\n",
        "lesion_code_dict = pd.Series(skin_df.dx.values,index=skin_df.cell_type_idx).to_dict()\n",
        "\n",
        "lesion_code_dict"
      ],
      "execution_count": 8,
      "outputs": [
        {
          "output_type": "execute_result",
          "data": {
            "text/plain": [
              "{0: 'akiec', 1: 'bcc', 2: 'bkl', 3: 'df', 4: 'nv', 5: 'mel', 6: 'vasc'}"
            ]
          },
          "metadata": {
            "tags": []
          },
          "execution_count": 8
        }
      ]
    },
    {
      "cell_type": "code",
      "metadata": {
        "scrolled": true,
        "colab": {
          "base_uri": "https://localhost:8080/",
          "height": 589
        },
        "id": "hqAIozEF5KCz",
        "outputId": "91d6d13d-2539-45e7-e3b9-67607ad09e4c"
      },
      "source": [
        "skin_df"
      ],
      "execution_count": 9,
      "outputs": [
        {
          "output_type": "execute_result",
          "data": {
            "text/html": [
              "<div>\n",
              "<style scoped>\n",
              "    .dataframe tbody tr th:only-of-type {\n",
              "        vertical-align: middle;\n",
              "    }\n",
              "\n",
              "    .dataframe tbody tr th {\n",
              "        vertical-align: top;\n",
              "    }\n",
              "\n",
              "    .dataframe thead th {\n",
              "        text-align: right;\n",
              "    }\n",
              "</style>\n",
              "<table border=\"1\" class=\"dataframe\">\n",
              "  <thead>\n",
              "    <tr style=\"text-align: right;\">\n",
              "      <th></th>\n",
              "      <th>lesion_id</th>\n",
              "      <th>image_id</th>\n",
              "      <th>dx</th>\n",
              "      <th>dx_type</th>\n",
              "      <th>age</th>\n",
              "      <th>sex</th>\n",
              "      <th>localization</th>\n",
              "      <th>dataset</th>\n",
              "      <th>path</th>\n",
              "      <th>cell_type</th>\n",
              "      <th>cell_type_idx</th>\n",
              "    </tr>\n",
              "  </thead>\n",
              "  <tbody>\n",
              "    <tr>\n",
              "      <th>0</th>\n",
              "      <td>HAM_0000118</td>\n",
              "      <td>ISIC_0027419</td>\n",
              "      <td>bkl</td>\n",
              "      <td>histo</td>\n",
              "      <td>80.0</td>\n",
              "      <td>male</td>\n",
              "      <td>scalp</td>\n",
              "      <td>vidir_modern</td>\n",
              "      <td>/content/drive/MyDrive/Colab Notebooks/images/...</td>\n",
              "      <td>Benign keratosis-like lesions</td>\n",
              "      <td>2</td>\n",
              "    </tr>\n",
              "    <tr>\n",
              "      <th>1</th>\n",
              "      <td>HAM_0000118</td>\n",
              "      <td>ISIC_0025030</td>\n",
              "      <td>bkl</td>\n",
              "      <td>histo</td>\n",
              "      <td>80.0</td>\n",
              "      <td>male</td>\n",
              "      <td>scalp</td>\n",
              "      <td>vidir_modern</td>\n",
              "      <td>/content/drive/MyDrive/Colab Notebooks/images/...</td>\n",
              "      <td>Benign keratosis-like lesions</td>\n",
              "      <td>2</td>\n",
              "    </tr>\n",
              "    <tr>\n",
              "      <th>2</th>\n",
              "      <td>HAM_0002730</td>\n",
              "      <td>ISIC_0026769</td>\n",
              "      <td>bkl</td>\n",
              "      <td>histo</td>\n",
              "      <td>80.0</td>\n",
              "      <td>male</td>\n",
              "      <td>scalp</td>\n",
              "      <td>vidir_modern</td>\n",
              "      <td>/content/drive/MyDrive/Colab Notebooks/images/...</td>\n",
              "      <td>Benign keratosis-like lesions</td>\n",
              "      <td>2</td>\n",
              "    </tr>\n",
              "    <tr>\n",
              "      <th>3</th>\n",
              "      <td>HAM_0002730</td>\n",
              "      <td>ISIC_0025661</td>\n",
              "      <td>bkl</td>\n",
              "      <td>histo</td>\n",
              "      <td>80.0</td>\n",
              "      <td>male</td>\n",
              "      <td>scalp</td>\n",
              "      <td>vidir_modern</td>\n",
              "      <td>/content/drive/MyDrive/Colab Notebooks/images/...</td>\n",
              "      <td>Benign keratosis-like lesions</td>\n",
              "      <td>2</td>\n",
              "    </tr>\n",
              "    <tr>\n",
              "      <th>4</th>\n",
              "      <td>HAM_0001466</td>\n",
              "      <td>ISIC_0031633</td>\n",
              "      <td>bkl</td>\n",
              "      <td>histo</td>\n",
              "      <td>75.0</td>\n",
              "      <td>male</td>\n",
              "      <td>ear</td>\n",
              "      <td>vidir_modern</td>\n",
              "      <td>/content/drive/MyDrive/Colab Notebooks/images/...</td>\n",
              "      <td>Benign keratosis-like lesions</td>\n",
              "      <td>2</td>\n",
              "    </tr>\n",
              "    <tr>\n",
              "      <th>...</th>\n",
              "      <td>...</td>\n",
              "      <td>...</td>\n",
              "      <td>...</td>\n",
              "      <td>...</td>\n",
              "      <td>...</td>\n",
              "      <td>...</td>\n",
              "      <td>...</td>\n",
              "      <td>...</td>\n",
              "      <td>...</td>\n",
              "      <td>...</td>\n",
              "      <td>...</td>\n",
              "    </tr>\n",
              "    <tr>\n",
              "      <th>10010</th>\n",
              "      <td>HAM_0002867</td>\n",
              "      <td>ISIC_0033084</td>\n",
              "      <td>akiec</td>\n",
              "      <td>histo</td>\n",
              "      <td>40.0</td>\n",
              "      <td>male</td>\n",
              "      <td>abdomen</td>\n",
              "      <td>vidir_modern</td>\n",
              "      <td>/content/drive/MyDrive/Colab Notebooks/images/...</td>\n",
              "      <td>Actinic keratoses</td>\n",
              "      <td>0</td>\n",
              "    </tr>\n",
              "    <tr>\n",
              "      <th>10011</th>\n",
              "      <td>HAM_0002867</td>\n",
              "      <td>ISIC_0033550</td>\n",
              "      <td>akiec</td>\n",
              "      <td>histo</td>\n",
              "      <td>40.0</td>\n",
              "      <td>male</td>\n",
              "      <td>abdomen</td>\n",
              "      <td>vidir_modern</td>\n",
              "      <td>/content/drive/MyDrive/Colab Notebooks/images/...</td>\n",
              "      <td>Actinic keratoses</td>\n",
              "      <td>0</td>\n",
              "    </tr>\n",
              "    <tr>\n",
              "      <th>10012</th>\n",
              "      <td>HAM_0002867</td>\n",
              "      <td>ISIC_0033536</td>\n",
              "      <td>akiec</td>\n",
              "      <td>histo</td>\n",
              "      <td>40.0</td>\n",
              "      <td>male</td>\n",
              "      <td>abdomen</td>\n",
              "      <td>vidir_modern</td>\n",
              "      <td>/content/drive/MyDrive/Colab Notebooks/images/...</td>\n",
              "      <td>Actinic keratoses</td>\n",
              "      <td>0</td>\n",
              "    </tr>\n",
              "    <tr>\n",
              "      <th>10013</th>\n",
              "      <td>HAM_0000239</td>\n",
              "      <td>ISIC_0032854</td>\n",
              "      <td>akiec</td>\n",
              "      <td>histo</td>\n",
              "      <td>80.0</td>\n",
              "      <td>male</td>\n",
              "      <td>face</td>\n",
              "      <td>vidir_modern</td>\n",
              "      <td>/content/drive/MyDrive/Colab Notebooks/images/...</td>\n",
              "      <td>Actinic keratoses</td>\n",
              "      <td>0</td>\n",
              "    </tr>\n",
              "    <tr>\n",
              "      <th>10014</th>\n",
              "      <td>HAM_0003521</td>\n",
              "      <td>ISIC_0032258</td>\n",
              "      <td>mel</td>\n",
              "      <td>histo</td>\n",
              "      <td>70.0</td>\n",
              "      <td>female</td>\n",
              "      <td>back</td>\n",
              "      <td>vidir_modern</td>\n",
              "      <td>/content/drive/MyDrive/Colab Notebooks/images/...</td>\n",
              "      <td>Melanoma</td>\n",
              "      <td>5</td>\n",
              "    </tr>\n",
              "  </tbody>\n",
              "</table>\n",
              "<p>10015 rows × 11 columns</p>\n",
              "</div>"
            ],
            "text/plain": [
              "         lesion_id      image_id  ...                       cell_type cell_type_idx\n",
              "0      HAM_0000118  ISIC_0027419  ...  Benign keratosis-like lesions              2\n",
              "1      HAM_0000118  ISIC_0025030  ...  Benign keratosis-like lesions              2\n",
              "2      HAM_0002730  ISIC_0026769  ...  Benign keratosis-like lesions              2\n",
              "3      HAM_0002730  ISIC_0025661  ...  Benign keratosis-like lesions              2\n",
              "4      HAM_0001466  ISIC_0031633  ...  Benign keratosis-like lesions              2\n",
              "...            ...           ...  ...                             ...           ...\n",
              "10010  HAM_0002867  ISIC_0033084  ...               Actinic keratoses             0\n",
              "10011  HAM_0002867  ISIC_0033550  ...               Actinic keratoses             0\n",
              "10012  HAM_0002867  ISIC_0033536  ...               Actinic keratoses             0\n",
              "10013  HAM_0000239  ISIC_0032854  ...               Actinic keratoses             0\n",
              "10014  HAM_0003521  ISIC_0032258  ...                        Melanoma             5\n",
              "\n",
              "[10015 rows x 11 columns]"
            ]
          },
          "metadata": {
            "tags": []
          },
          "execution_count": 9
        }
      ]
    },
    {
      "cell_type": "code",
      "metadata": {
        "colab": {
          "base_uri": "https://localhost:8080/"
        },
        "id": "8pFORH3joGg2",
        "outputId": "a42ec56a-bb11-404d-92e9-cbe7b419059e"
      },
      "source": [
        "# Attach images to the skin_df Dataframe\n",
        "temp_arr, count = [], 0\n",
        "for path in tqdm(skin_df['path']):\n",
        "  temp_arr.append(np.asarray( Image.open(path).resize((100,75)) ))\n",
        "  count += 1\n",
        "  # print(f\"Processed images: {count}\")\n",
        "  # if count % 10 == 0: clear_output()\n",
        "\n",
        "skin_df['image'] = temp_arr\n",
        "\n",
        "\n",
        "# skin_df['image'] = skin_df['path'].map(lambda x: np.asarray(Image.open(x).resize((100,75))))"
      ],
      "execution_count": 10,
      "outputs": [
        {
          "output_type": "stream",
          "text": [
            "100%|██████████| 10015/10015 [41:46<00:00,  4.00it/s]\n"
          ],
          "name": "stderr"
        }
      ]
    },
    {
      "cell_type": "code",
      "metadata": {
        "id": "raUm2J0PgXYL"
      },
      "source": [
        "# Separate the dataframe into Features and Targets data\n",
        "features = skin_df.drop(columns=['cell_type_idx','dx'],axis=1)\n",
        "target = skin_df['cell_type_idx']"
      ],
      "execution_count": 11,
      "outputs": []
    },
    {
      "cell_type": "code",
      "metadata": {
        "colab": {
          "base_uri": "https://localhost:8080/"
        },
        "id": "yx5DqaAK5KCz",
        "outputId": "4f8814cd-348b-4155-df93-b017c873c97f"
      },
      "source": [
        "# Create First Train and Test sets\n",
        "x_train_o, x_test_o, y_train_o, y_test_o = train_test_split(features, target, test_size=0.20, random_state=1)\n",
        "print(x_train_o.shape)\n",
        "print(y_train_o.shape)"
      ],
      "execution_count": 12,
      "outputs": [
        {
          "output_type": "stream",
          "text": [
            "(8012, 10)\n",
            "(8012,)\n"
          ],
          "name": "stdout"
        }
      ]
    },
    {
      "cell_type": "code",
      "metadata": {
        "colab": {
          "base_uri": "https://localhost:8080/"
        },
        "id": "sbX83-Yp5KCz",
        "outputId": "408cc5fc-31ad-4438-9953-d526972837c0"
      },
      "source": [
        "# Create image arrays from the train and test sets\n",
        "x_train = np.asarray(x_train_o['image'].tolist())\n",
        "x_test = np.asarray(x_test_o['image'].tolist())\n",
        "\n",
        "print(x_train.shape)\n",
        "print(x_test.shape)"
      ],
      "execution_count": 13,
      "outputs": [
        {
          "output_type": "stream",
          "text": [
            "(8012, 75, 100, 3)\n",
            "(2003, 75, 100, 3)\n"
          ],
          "name": "stdout"
        }
      ]
    },
    {
      "cell_type": "code",
      "metadata": {
        "scrolled": true,
        "colab": {
          "base_uri": "https://localhost:8080/"
        },
        "id": "UUJSBhG-5KC0",
        "outputId": "d4439ce1-fc90-4cbb-9499-884fd6d54a24"
      },
      "source": [
        "# Class distribution before data augmentation\n",
        "train_value_counts = y_train_o.value_counts()\n",
        "print(train_value_counts)\n",
        "print(f'Total images: {train_value_counts.sum()}')"
      ],
      "execution_count": 14,
      "outputs": [
        {
          "output_type": "stream",
          "text": [
            "4    5378\n",
            "5     891\n",
            "2     871\n",
            "1     418\n",
            "0     266\n",
            "6     110\n",
            "3      78\n",
            "Name: cell_type_idx, dtype: int64\n",
            "Total images: 8012\n"
          ],
          "name": "stdout"
        }
      ]
    },
    {
      "cell_type": "code",
      "metadata": {
        "id": "zFaa1RBfgE_B"
      },
      "source": [
        "# Data Augmentation\n",
        "# Image data generator is used to generate the possible versions of data as given below.\n",
        "\n",
        "dataaugment = ImageDataGenerator(\n",
        "        featurewise_center=False,  # set input mean to 0 over the dataset\n",
        "        samplewise_center=False,  # set each sample mean to 0\n",
        "        featurewise_std_normalization=False,  # divide inputs by std of the dataset\n",
        "        samplewise_std_normalization=False,  # divide each input by its std\n",
        "        zca_whitening=False,  # apply ZCA whitening\n",
        "        rotation_range=90,  # randomly rotate images in the range (degrees, 0 to 180)\n",
        "        zoom_range = 0.1, # Randomly zoom image \n",
        "        width_shift_range=0.1,  # randomly shift images horizontally (fraction of total width)\n",
        "        height_shift_range=0.1,  # randomly shift images vertically (fraction of total height)\n",
        "        horizontal_flip=True,  # randomly flip images\n",
        "        vertical_flip=True,  # randomly flip images\n",
        "        shear_range = 10\n",
        "    ) "
      ],
      "execution_count": 15,
      "outputs": []
    },
    {
      "cell_type": "code",
      "metadata": {
        "colab": {
          "base_uri": "https://localhost:8080/"
        },
        "id": "1xOuqdLf5KC0",
        "outputId": "15010ab5-5f08-40b6-91b5-98bb2b0412e5"
      },
      "source": [
        "# For each lesion code != 4, get the indices in y_train_o.\n",
        "# For the same indices in x_train_o, augment the image present in the row.\n",
        "reset_y_train_o = y_train_o.reset_index(drop=True)\n",
        "reset_index = reset_y_train_o.index\n",
        "\n",
        "print(len(y_train_o))"
      ],
      "execution_count": 16,
      "outputs": [
        {
          "output_type": "stream",
          "text": [
            "8012\n"
          ],
          "name": "stdout"
        }
      ]
    },
    {
      "cell_type": "code",
      "metadata": {
        "id": "VvfAsDIGhnEx"
      },
      "source": [
        "# The normalisation is done using the training set Mean and Std. Deviation as reference\n",
        "x_train_mean = np.mean(x_train)\n",
        "x_train_std = np.std(x_train)\n",
        "\n",
        "x_train = (x_train - x_train_mean) / x_train_std\n",
        "x_test = (x_test - x_train_mean) / x_train_std"
      ],
      "execution_count": 17,
      "outputs": []
    },
    {
      "cell_type": "code",
      "metadata": {
        "id": "UQ0EFbN5joCo"
      },
      "source": [
        "# Perform one-hot encoding on the labels\n",
        "y_train = to_categorical(y_train_o, num_classes = 7)\n",
        "y_test = to_categorical(y_test_o, num_classes = 7)"
      ],
      "execution_count": 18,
      "outputs": []
    },
    {
      "cell_type": "code",
      "metadata": {
        "id": "vRrRWy_Njsnp"
      },
      "source": [
        "# Splitting training into Train and Validatation sets\n",
        "x_train, x_validate, y_train, y_validate = train_test_split(x_train, y_train, test_size = 0.1, random_state=1)\n",
        "\n",
        "# Reshaping the Images into 3 channels (RGB)\n",
        "# height = 75, width = 100, canal = 3\n",
        "x_train = x_train.reshape(x_train.shape[0], *(75, 100, 3))\n",
        "x_test = x_test.reshape(x_test.shape[0], *(75, 100, 3))\n",
        "x_validate = x_validate.reshape(x_validate.shape[0], *(75, 100, 3))"
      ],
      "execution_count": 19,
      "outputs": []
    },
    {
      "cell_type": "code",
      "metadata": {
        "colab": {
          "base_uri": "https://localhost:8080/"
        },
        "id": "Z9XLCqXO5KC1",
        "outputId": "3e6f3b34-7dd4-4369-924c-68169f3e4116"
      },
      "source": [
        "input_shape = (75, 100, 3)\n",
        "num_classes = 7\n",
        "\n",
        "# VGGNet 16\n",
        "\n",
        "model = Sequential()\n",
        "model.add(Conv2D(input_shape=input_shape,filters=64,kernel_size=(3,3),padding=\"same\", activation=\"relu\"))\n",
        "model.add(Conv2D(filters=64,kernel_size=(3,3),padding=\"same\", activation=\"relu\"))\n",
        "model.add(MaxPooling2D(pool_size=(2,2),strides=(2,2)))\n",
        "model.add(Conv2D(filters=128, kernel_size=(3,3), padding=\"same\", activation=\"relu\"))\n",
        "model.add(Conv2D(filters=128, kernel_size=(3,3), padding=\"same\", activation=\"relu\"))\n",
        "model.add(MaxPooling2D(pool_size=(2,2),strides=(2,2)))\n",
        "model.add(Conv2D(filters=256, kernel_size=(3,3), padding=\"same\", activation=\"relu\"))\n",
        "model.add(Conv2D(filters=256, kernel_size=(3,3), padding=\"same\", activation=\"relu\"))\n",
        "model.add(Conv2D(filters=256, kernel_size=(3,3), padding=\"same\", activation=\"relu\"))\n",
        "model.add(MaxPooling2D(pool_size=(2,2),strides=(2,2)))\n",
        "model.add(Conv2D(filters=512, kernel_size=(3,3), padding=\"same\", activation=\"relu\"))\n",
        "model.add(Conv2D(filters=512, kernel_size=(3,3), padding=\"same\", activation=\"relu\"))\n",
        "model.add(Conv2D(filters=512, kernel_size=(3,3), padding=\"same\", activation=\"relu\"))\n",
        "model.add(MaxPooling2D(pool_size=(2,2),strides=(2,2)))\n",
        "model.add(Conv2D(filters=512, kernel_size=(3,3), padding=\"same\", activation=\"relu\"))\n",
        "model.add(Conv2D(filters=512, kernel_size=(3,3), padding=\"same\", activation=\"relu\"))\n",
        "model.add(Conv2D(filters=512, kernel_size=(3,3), padding=\"same\", activation=\"relu\"))\n",
        "model.add(MaxPooling2D(pool_size=(2,2),strides=(2,2)))\n",
        "\n",
        "model.add(Flatten())\n",
        "model.add(Dense(units=4096,activation=\"relu\"))\n",
        "model.add(Dropout(0.25))\n",
        "model.add(Dense(units=4096,activation=\"relu\"))\n",
        "model.add(Dropout(0.25))\n",
        "model.add(Dense(units=7, activation=\"softmax\"))\n",
        "\n",
        "# from keras.optimizers import Adam\n",
        "# opt = Adam(lr=0.001)\n",
        "# model.compile(optimizer=opt, loss='categorical_crossentropy', metrics=['accuracy'])\n",
        "\n",
        "model.summary()\n"
      ],
      "execution_count": 20,
      "outputs": [
        {
          "output_type": "stream",
          "text": [
            "Model: \"sequential\"\n",
            "_________________________________________________________________\n",
            "Layer (type)                 Output Shape              Param #   \n",
            "=================================================================\n",
            "conv2d (Conv2D)              (None, 75, 100, 64)       1792      \n",
            "_________________________________________________________________\n",
            "conv2d_1 (Conv2D)            (None, 75, 100, 64)       36928     \n",
            "_________________________________________________________________\n",
            "max_pooling2d (MaxPooling2D) (None, 37, 50, 64)        0         \n",
            "_________________________________________________________________\n",
            "conv2d_2 (Conv2D)            (None, 37, 50, 128)       73856     \n",
            "_________________________________________________________________\n",
            "conv2d_3 (Conv2D)            (None, 37, 50, 128)       147584    \n",
            "_________________________________________________________________\n",
            "max_pooling2d_1 (MaxPooling2 (None, 18, 25, 128)       0         \n",
            "_________________________________________________________________\n",
            "conv2d_4 (Conv2D)            (None, 18, 25, 256)       295168    \n",
            "_________________________________________________________________\n",
            "conv2d_5 (Conv2D)            (None, 18, 25, 256)       590080    \n",
            "_________________________________________________________________\n",
            "conv2d_6 (Conv2D)            (None, 18, 25, 256)       590080    \n",
            "_________________________________________________________________\n",
            "max_pooling2d_2 (MaxPooling2 (None, 9, 12, 256)        0         \n",
            "_________________________________________________________________\n",
            "conv2d_7 (Conv2D)            (None, 9, 12, 512)        1180160   \n",
            "_________________________________________________________________\n",
            "conv2d_8 (Conv2D)            (None, 9, 12, 512)        2359808   \n",
            "_________________________________________________________________\n",
            "conv2d_9 (Conv2D)            (None, 9, 12, 512)        2359808   \n",
            "_________________________________________________________________\n",
            "max_pooling2d_3 (MaxPooling2 (None, 4, 6, 512)         0         \n",
            "_________________________________________________________________\n",
            "conv2d_10 (Conv2D)           (None, 4, 6, 512)         2359808   \n",
            "_________________________________________________________________\n",
            "conv2d_11 (Conv2D)           (None, 4, 6, 512)         2359808   \n",
            "_________________________________________________________________\n",
            "conv2d_12 (Conv2D)           (None, 4, 6, 512)         2359808   \n",
            "_________________________________________________________________\n",
            "max_pooling2d_4 (MaxPooling2 (None, 2, 3, 512)         0         \n",
            "_________________________________________________________________\n",
            "flatten (Flatten)            (None, 3072)              0         \n",
            "_________________________________________________________________\n",
            "dense (Dense)                (None, 4096)              12587008  \n",
            "_________________________________________________________________\n",
            "dropout (Dropout)            (None, 4096)              0         \n",
            "_________________________________________________________________\n",
            "dense_1 (Dense)              (None, 4096)              16781312  \n",
            "_________________________________________________________________\n",
            "dropout_1 (Dropout)          (None, 4096)              0         \n",
            "_________________________________________________________________\n",
            "dense_2 (Dense)              (None, 7)                 28679     \n",
            "=================================================================\n",
            "Total params: 44,111,687\n",
            "Trainable params: 44,111,687\n",
            "Non-trainable params: 0\n",
            "_________________________________________________________________\n"
          ],
          "name": "stdout"
        }
      ]
    },
    {
      "cell_type": "code",
      "metadata": {
        "id": "0oFIjDtr5KC2"
      },
      "source": [
        "# Define metrics \n",
        "\n",
        "def recall_m(y_true, y_pred):\n",
        "    true_positives = K.sum(K.round(K.clip(y_true * y_pred, 0, 1)))\n",
        "    possible_positives = K.sum(K.round(K.clip(y_true, 0, 1)))\n",
        "    recall = true_positives / (possible_positives + K.epsilon())\n",
        "    return recall\n",
        "\n",
        "def precision_m(y_true, y_pred):\n",
        "    true_positives = K.sum(K.round(K.clip(y_true * y_pred, 0, 1)))\n",
        "    predicted_positives = K.sum(K.round(K.clip(y_pred, 0, 1)))\n",
        "    precision = true_positives / (predicted_positives + K.epsilon())\n",
        "    return precision\n",
        "\n",
        "def f1_m(y_true, y_pred):\n",
        "    precision = precision_m(y_true, y_pred)\n",
        "    recall = recall_m(y_true, y_pred)\n",
        "    return 2*((precision*recall)/(precision+recall+K.epsilon()))"
      ],
      "execution_count": 21,
      "outputs": []
    },
    {
      "cell_type": "code",
      "metadata": {
        "id": "t2QceAAB5KC2"
      },
      "source": [
        "# New baseline\n",
        "# Define the optimizer\n",
        "optimizer = Adam(learning_rate=0.001)\n",
        "\n",
        "# Compile the model\n",
        "model.compile(optimizer = optimizer , loss = \"categorical_crossentropy\", metrics=[\"accuracy\", f1_m,precision_m, recall_m])\n",
        "\n",
        "# Set a learning rate annealer\n",
        "learning_rate_reduction = ReduceLROnPlateau(monitor='val_accuracy', \n",
        "                                            patience=3, \n",
        "                                            verbose=1, \n",
        "                                            factor=0.5, \n",
        "                                            min_lr=0.00001)\n",
        "early_stopping_monitor = EarlyStopping(patience=20,monitor='val_accuracy')"
      ],
      "execution_count": 22,
      "outputs": []
    },
    {
      "cell_type": "code",
      "metadata": {
        "id": "5WSfybEBiz-W"
      },
      "source": [
        "x_train = np.asarray(x_train)\n",
        "y_train = np.asarray(y_train)\n",
        "x_validate = np.asarray(x_validate)\n",
        "y_validate = np.asarray(y_validate)"
      ],
      "execution_count": 23,
      "outputs": []
    },
    {
      "cell_type": "code",
      "metadata": {
        "id": "VTGRcxtb5KC2",
        "colab": {
          "base_uri": "https://localhost:8080/"
        },
        "outputId": "6b58560a-6e86-4cfc-fc9c-6db1ec7d5db6"
      },
      "source": [
        "# Fit the model\n",
        "\n",
        "epochs = 25\n",
        "batch_size = 10\n",
        "# history = model.fit(dataaugment.flow(x_train,y_train, batch_size=batch_size),\n",
        "#                     epochs = epochs, validation_data = (x_validate,y_validate),\n",
        "#                     verbose = 0, steps_per_epoch=x_train.shape[0] // batch_size\n",
        "#                               , callbacks=[learning_rate_reduction])\n",
        "\n",
        "history = model.fit(x=x_train, y=y_train,\n",
        "                              epochs = epochs, validation_data = (x_validate,y_validate),\n",
        "                              verbose = 1, steps_per_epoch=x_train.shape[0] // batch_size\n",
        "                              , callbacks=[learning_rate_reduction])"
      ],
      "execution_count": 24,
      "outputs": [
        {
          "output_type": "stream",
          "text": [
            "Epoch 1/25\n",
            "721/721 [==============================] - 70s 50ms/step - loss: 1.4285 - accuracy: 0.6537 - f1_m: 0.5748 - precision_m: 0.5877 - recall_m: 0.5709 - val_loss: 1.1396 - val_accuracy: 0.6808 - val_f1_m: 0.6743 - val_precision_m: 0.6743 - val_recall_m: 0.6743\n",
            "Epoch 2/25\n",
            "721/721 [==============================] - 34s 47ms/step - loss: 1.1321 - accuracy: 0.6740 - f1_m: 0.6727 - precision_m: 0.6740 - recall_m: 0.6717 - val_loss: 1.1176 - val_accuracy: 0.6808 - val_f1_m: 0.6743 - val_precision_m: 0.6743 - val_recall_m: 0.6743\n",
            "Epoch 3/25\n",
            "721/721 [==============================] - 35s 48ms/step - loss: 1.1139 - accuracy: 0.6773 - f1_m: 0.6773 - precision_m: 0.6773 - recall_m: 0.6773 - val_loss: 1.1427 - val_accuracy: 0.6808 - val_f1_m: 0.6743 - val_precision_m: 0.6743 - val_recall_m: 0.6743\n",
            "Epoch 4/25\n",
            "721/721 [==============================] - 35s 48ms/step - loss: 1.1441 - accuracy: 0.6666 - f1_m: 0.6666 - precision_m: 0.6666 - recall_m: 0.6666 - val_loss: 1.1257 - val_accuracy: 0.6808 - val_f1_m: 0.6743 - val_precision_m: 0.6743 - val_recall_m: 0.6743\n",
            "\n",
            "Epoch 00004: ReduceLROnPlateau reducing learning rate to 0.0005000000237487257.\n",
            "Epoch 5/25\n",
            "721/721 [==============================] - 35s 49ms/step - loss: 1.1193 - accuracy: 0.6733 - f1_m: 0.6733 - precision_m: 0.6733 - recall_m: 0.6733 - val_loss: 1.1191 - val_accuracy: 0.6808 - val_f1_m: 0.6743 - val_precision_m: 0.6743 - val_recall_m: 0.6743\n",
            "Epoch 6/25\n",
            "721/721 [==============================] - 35s 49ms/step - loss: 1.1133 - accuracy: 0.6772 - f1_m: 0.6772 - precision_m: 0.6772 - recall_m: 0.6772 - val_loss: 1.1206 - val_accuracy: 0.6808 - val_f1_m: 0.6743 - val_precision_m: 0.6743 - val_recall_m: 0.6743\n",
            "Epoch 7/25\n",
            "721/721 [==============================] - 36s 49ms/step - loss: 1.0989 - accuracy: 0.6825 - f1_m: 0.6825 - precision_m: 0.6825 - recall_m: 0.6825 - val_loss: 1.1220 - val_accuracy: 0.6808 - val_f1_m: 0.6743 - val_precision_m: 0.6743 - val_recall_m: 0.6743\n",
            "\n",
            "Epoch 00007: ReduceLROnPlateau reducing learning rate to 0.0002500000118743628.\n",
            "Epoch 8/25\n",
            "721/721 [==============================] - 36s 49ms/step - loss: 1.1424 - accuracy: 0.6585 - f1_m: 0.6585 - precision_m: 0.6585 - recall_m: 0.6585 - val_loss: 1.1187 - val_accuracy: 0.6808 - val_f1_m: 0.6743 - val_precision_m: 0.6743 - val_recall_m: 0.6743\n",
            "Epoch 9/25\n",
            "721/721 [==============================] - 36s 49ms/step - loss: 1.1114 - accuracy: 0.6762 - f1_m: 0.6762 - precision_m: 0.6762 - recall_m: 0.6762 - val_loss: 1.1209 - val_accuracy: 0.6808 - val_f1_m: 0.6743 - val_precision_m: 0.6743 - val_recall_m: 0.6743\n",
            "Epoch 10/25\n",
            "721/721 [==============================] - 36s 50ms/step - loss: 1.1236 - accuracy: 0.6717 - f1_m: 0.6717 - precision_m: 0.6717 - recall_m: 0.6717 - val_loss: 1.1188 - val_accuracy: 0.6808 - val_f1_m: 0.6743 - val_precision_m: 0.6743 - val_recall_m: 0.6743\n",
            "\n",
            "Epoch 00010: ReduceLROnPlateau reducing learning rate to 0.0001250000059371814.\n",
            "Epoch 11/25\n",
            "721/721 [==============================] - 36s 50ms/step - loss: 1.1240 - accuracy: 0.6726 - f1_m: 0.6726 - precision_m: 0.6726 - recall_m: 0.6726 - val_loss: 1.1185 - val_accuracy: 0.6808 - val_f1_m: 0.6743 - val_precision_m: 0.6743 - val_recall_m: 0.6743\n",
            "Epoch 12/25\n",
            "721/721 [==============================] - 36s 50ms/step - loss: 1.1273 - accuracy: 0.6715 - f1_m: 0.6715 - precision_m: 0.6715 - recall_m: 0.6715 - val_loss: 1.1190 - val_accuracy: 0.6808 - val_f1_m: 0.6743 - val_precision_m: 0.6743 - val_recall_m: 0.6743\n",
            "Epoch 13/25\n",
            "721/721 [==============================] - 36s 50ms/step - loss: 1.1053 - accuracy: 0.6784 - f1_m: 0.6784 - precision_m: 0.6784 - recall_m: 0.6784 - val_loss: 1.1195 - val_accuracy: 0.6808 - val_f1_m: 0.6743 - val_precision_m: 0.6743 - val_recall_m: 0.6743\n",
            "\n",
            "Epoch 00013: ReduceLROnPlateau reducing learning rate to 6.25000029685907e-05.\n",
            "Epoch 14/25\n",
            "721/721 [==============================] - 36s 50ms/step - loss: 1.1450 - accuracy: 0.6621 - f1_m: 0.6621 - precision_m: 0.6621 - recall_m: 0.6621 - val_loss: 1.1193 - val_accuracy: 0.6808 - val_f1_m: 0.6743 - val_precision_m: 0.6743 - val_recall_m: 0.6743\n",
            "Epoch 15/25\n",
            "721/721 [==============================] - 36s 50ms/step - loss: 1.1497 - accuracy: 0.6594 - f1_m: 0.6594 - precision_m: 0.6594 - recall_m: 0.6594 - val_loss: 1.1188 - val_accuracy: 0.6808 - val_f1_m: 0.6743 - val_precision_m: 0.6743 - val_recall_m: 0.6743\n",
            "Epoch 16/25\n",
            "721/721 [==============================] - 37s 51ms/step - loss: 1.1377 - accuracy: 0.6656 - f1_m: 0.6656 - precision_m: 0.6656 - recall_m: 0.6656 - val_loss: 1.1186 - val_accuracy: 0.6808 - val_f1_m: 0.6743 - val_precision_m: 0.6743 - val_recall_m: 0.6743\n",
            "\n",
            "Epoch 00016: ReduceLROnPlateau reducing learning rate to 3.125000148429535e-05.\n",
            "Epoch 17/25\n",
            "721/721 [==============================] - 37s 51ms/step - loss: 1.0958 - accuracy: 0.6835 - f1_m: 0.6835 - precision_m: 0.6835 - recall_m: 0.6835 - val_loss: 1.1191 - val_accuracy: 0.6808 - val_f1_m: 0.6743 - val_precision_m: 0.6743 - val_recall_m: 0.6743\n",
            "Epoch 18/25\n",
            "721/721 [==============================] - 37s 51ms/step - loss: 1.1481 - accuracy: 0.6613 - f1_m: 0.6613 - precision_m: 0.6613 - recall_m: 0.6613 - val_loss: 1.1188 - val_accuracy: 0.6808 - val_f1_m: 0.6743 - val_precision_m: 0.6743 - val_recall_m: 0.6743\n",
            "Epoch 19/25\n",
            "721/721 [==============================] - 37s 51ms/step - loss: 1.1406 - accuracy: 0.6647 - f1_m: 0.6647 - precision_m: 0.6647 - recall_m: 0.6647 - val_loss: 1.1187 - val_accuracy: 0.6808 - val_f1_m: 0.6743 - val_precision_m: 0.6743 - val_recall_m: 0.6743\n",
            "\n",
            "Epoch 00019: ReduceLROnPlateau reducing learning rate to 1.5625000742147677e-05.\n",
            "Epoch 20/25\n",
            "721/721 [==============================] - 37s 51ms/step - loss: 1.1222 - accuracy: 0.6724 - f1_m: 0.6724 - precision_m: 0.6724 - recall_m: 0.6724 - val_loss: 1.1187 - val_accuracy: 0.6808 - val_f1_m: 0.6743 - val_precision_m: 0.6743 - val_recall_m: 0.6743\n",
            "Epoch 21/25\n",
            "721/721 [==============================] - 37s 51ms/step - loss: 1.1335 - accuracy: 0.6698 - f1_m: 0.6698 - precision_m: 0.6698 - recall_m: 0.6698 - val_loss: 1.1187 - val_accuracy: 0.6808 - val_f1_m: 0.6743 - val_precision_m: 0.6743 - val_recall_m: 0.6743\n",
            "Epoch 22/25\n",
            "721/721 [==============================] - 37s 51ms/step - loss: 1.1291 - accuracy: 0.6661 - f1_m: 0.6661 - precision_m: 0.6661 - recall_m: 0.6661 - val_loss: 1.1188 - val_accuracy: 0.6808 - val_f1_m: 0.6743 - val_precision_m: 0.6743 - val_recall_m: 0.6743\n",
            "\n",
            "Epoch 00022: ReduceLROnPlateau reducing learning rate to 1e-05.\n",
            "Epoch 23/25\n",
            "721/721 [==============================] - 36s 51ms/step - loss: 1.1246 - accuracy: 0.6728 - f1_m: 0.6728 - precision_m: 0.6728 - recall_m: 0.6728 - val_loss: 1.1188 - val_accuracy: 0.6808 - val_f1_m: 0.6743 - val_precision_m: 0.6743 - val_recall_m: 0.6743\n",
            "Epoch 24/25\n",
            "721/721 [==============================] - 37s 51ms/step - loss: 1.1325 - accuracy: 0.6639 - f1_m: 0.6639 - precision_m: 0.6639 - recall_m: 0.6639 - val_loss: 1.1188 - val_accuracy: 0.6808 - val_f1_m: 0.6743 - val_precision_m: 0.6743 - val_recall_m: 0.6743\n",
            "Epoch 25/25\n",
            "721/721 [==============================] - 37s 51ms/step - loss: 1.1128 - accuracy: 0.6727 - f1_m: 0.6727 - precision_m: 0.6727 - recall_m: 0.6727 - val_loss: 1.1188 - val_accuracy: 0.6808 - val_f1_m: 0.6743 - val_precision_m: 0.6743 - val_recall_m: 0.6743\n"
          ],
          "name": "stdout"
        }
      ]
    },
    {
      "cell_type": "code",
      "metadata": {
        "scrolled": true,
        "id": "C8o3b0Pn5KC2",
        "colab": {
          "base_uri": "https://localhost:8080/",
          "height": 1000
        },
        "outputId": "ebc77a55-7659-43e9-8151-a40bca1910cb"
      },
      "source": [
        "# plot graphs from history\n",
        "print(history.history.keys())\n",
        "print(f'Accuracy: {history.history[\"accuracy\"][-1]}')\n",
        "print(f'loss: {history.history[\"loss\"][-1]}')\n",
        "print(f'f1_m: {history.history[\"f1_m\"][-1]}')\n",
        "print(f'precision_m: {history.history[\"precision_m\"][-1]}')\n",
        "print(f'recall_m: {history.history[\"recall_m\"][-1]}')\n",
        "\n",
        "plt.plot(history.history[\"accuracy\"], label='accuracy')\n",
        "plt.plot(history.history[\"val_accuracy\"], label='Validaion accuracy')\n",
        "plt.ylabel('accuracy')\n",
        "plt.xlabel('epoch')\n",
        "plt.legend(['train', 'val'])\n",
        "plt.show()\n",
        "\n",
        "plt.plot(history.history[\"f1_m\"], label='F1_score')\n",
        "plt.plot(history.history[\"val_f1_m\"], label='Validaion F1_score')\n",
        "plt.ylabel('F1_score')\n",
        "plt.xlabel('epoch')\n",
        "plt.legend(['train', 'val'])\n",
        "plt.show()\n",
        "\n",
        "plt.plot(history.history[\"precision_m\"], label='Precision')\n",
        "plt.plot(history.history[\"val_precision_m\"], label='Validaion Precision')\n",
        "plt.ylabel('Precision')\n",
        "plt.xlabel('epoch')\n",
        "plt.legend(['train', 'val'])\n",
        "plt.show()\n",
        "\n",
        "plt.plot(history.history[\"recall_m\"], label='Recall')\n",
        "plt.plot(history.history[\"val_recall_m\"], label='Validaion Recall')\n",
        "plt.ylabel('Recall')\n",
        "plt.xlabel('epoch')\n",
        "plt.legend(['train', 'val'])\n",
        "plt.show()"
      ],
      "execution_count": 31,
      "outputs": [
        {
          "output_type": "stream",
          "text": [
            "dict_keys(['loss', 'accuracy', 'f1_m', 'precision_m', 'recall_m', 'val_loss', 'val_accuracy', 'val_f1_m', 'val_precision_m', 'val_recall_m', 'lr'])\n",
            "Accuracy: 0.6701803207397461\n",
            "loss: 1.1247905492782593\n",
            "f1_m: 0.6701809763908386\n",
            "precision_m: 0.6701809763908386\n",
            "recall_m: 0.6701809763908386\n"
          ],
          "name": "stdout"
        },
        {
          "output_type": "display_data",
          "data": {
            "image/png": "[encoded data removed]",
            "text/plain": [
              "<Figure size 432x288 with 1 Axes>"
            ]
          },
          "metadata": {
            "tags": [],
            "needs_background": "light"
          }
        },
        {
          "output_type": "display_data",
          "data": {
            "image/png": "[encoded data removed]",
            "text/plain": [
              "<Figure size 432x288 with 1 Axes>"
            ]
          },
          "metadata": {
            "tags": [],
            "needs_background": "light"
          }
        },
        {
          "output_type": "display_data",
          "data": {
            "image/png": "[encoded data removed]",
            "text/plain": [
              "<Figure size 432x288 with 1 Axes>"
            ]
          },
          "metadata": {
            "tags": [],
            "needs_background": "light"
          }
        },
        {
          "output_type": "display_data",
          "data": {
            "image/png": "[encoded data removed]",
            "text/plain": [
              "<Figure size 432x288 with 1 Axes>"
            ]
          },
          "metadata": {
            "tags": [],
            "needs_background": "light"
          }
        }
      ]
    },
    {
      "cell_type": "code",
      "metadata": {
        "id": "52HsGwKn5KC2",
        "colab": {
          "base_uri": "https://localhost:8080/",
          "height": 215
        },
        "outputId": "9589d78f-00ba-46c2-e43d-72ebd9579dd2"
      },
      "source": [
        "# Evaluate model\n",
        "test_eval = model.evaluate(x_test, y_test, verbose=1, return_dict=True)\n",
        "validation_eval = model.evaluate(x_validate, y_validate, verbose=1, return_dict=True)\n",
        "# model.save(\"model.h5\")"
      ],
      "execution_count": 3,
      "outputs": [
        {
          "output_type": "error",
          "ename": "NameError",
          "evalue": "ignored",
          "traceback": [
            "\u001b[0;31m---------------------------------------------------------------------------\u001b[0m",
            "\u001b[0;31mNameError\u001b[0m                                 Traceback (most recent call last)",
            "\u001b[0;32m<ipython-input-3-22bcf2539a46>\u001b[0m in \u001b[0;36m<module>\u001b[0;34m()\u001b[0m\n\u001b[1;32m      1\u001b[0m \u001b[0;31m# Evaluate model\u001b[0m\u001b[0;34m\u001b[0m\u001b[0;34m\u001b[0m\u001b[0;34m\u001b[0m\u001b[0m\n\u001b[0;32m----> 2\u001b[0;31m \u001b[0mtest_eval\u001b[0m \u001b[0;34m=\u001b[0m \u001b[0mmodel\u001b[0m\u001b[0;34m.\u001b[0m\u001b[0mevaluate\u001b[0m\u001b[0;34m(\u001b[0m\u001b[0mx_test\u001b[0m\u001b[0;34m,\u001b[0m \u001b[0my_test\u001b[0m\u001b[0;34m,\u001b[0m \u001b[0mverbose\u001b[0m\u001b[0;34m=\u001b[0m\u001b[0;36m1\u001b[0m\u001b[0;34m,\u001b[0m \u001b[0mreturn_dict\u001b[0m\u001b[0;34m=\u001b[0m\u001b[0;32mTrue\u001b[0m\u001b[0;34m)\u001b[0m\u001b[0;34m\u001b[0m\u001b[0;34m\u001b[0m\u001b[0m\n\u001b[0m\u001b[1;32m      3\u001b[0m \u001b[0mvalidation_eval\u001b[0m \u001b[0;34m=\u001b[0m \u001b[0mmodel\u001b[0m\u001b[0;34m.\u001b[0m\u001b[0mevaluate\u001b[0m\u001b[0;34m(\u001b[0m\u001b[0mx_validate\u001b[0m\u001b[0;34m,\u001b[0m \u001b[0my_validate\u001b[0m\u001b[0;34m,\u001b[0m \u001b[0mverbose\u001b[0m\u001b[0;34m=\u001b[0m\u001b[0;36m1\u001b[0m\u001b[0;34m,\u001b[0m \u001b[0mreturn_dict\u001b[0m\u001b[0;34m=\u001b[0m\u001b[0;32mTrue\u001b[0m\u001b[0;34m)\u001b[0m\u001b[0;34m\u001b[0m\u001b[0;34m\u001b[0m\u001b[0m\n\u001b[1;32m      4\u001b[0m \u001b[0;31m# model.save(\"model.h5\")\u001b[0m\u001b[0;34m\u001b[0m\u001b[0;34m\u001b[0m\u001b[0;34m\u001b[0m\u001b[0m\n",
            "\u001b[0;31mNameError\u001b[0m: name 'model' is not defined"
          ]
        }
      ]
    },
    {
      "cell_type": "code",
      "metadata": {
        "scrolled": true,
        "id": "0tC4GrGl5KC2",
        "colab": {
          "base_uri": "https://localhost:8080/"
        },
        "outputId": "6204dc86-f0c2-4fcf-94e1-1f1ac0faee52"
      },
      "source": [
        "for i, j in validation_eval.items():\n",
        "    print(f'{i}: {j}')"
      ],
      "execution_count": 27,
      "outputs": [
        {
          "output_type": "stream",
          "text": [
            "loss: 1.1187658309936523\n",
            "accuracy: 0.6807979941368103\n",
            "f1_m: 0.6742787957191467\n",
            "precision_m: 0.6742788553237915\n",
            "recall_m: 0.6742788553237915\n"
          ],
          "name": "stdout"
        }
      ]
    },
    {
      "cell_type": "code",
      "metadata": {
        "scrolled": false,
        "id": "BPNXGVMO5KC3",
        "colab": {
          "base_uri": "https://localhost:8080/"
        },
        "outputId": "2cf4d790-e2d4-4852-8fed-8c0a18b05ca4"
      },
      "source": [
        "for i, j in test_eval.items():\n",
        "    print(f'{i}: {j}')"
      ],
      "execution_count": 28,
      "outputs": [
        {
          "output_type": "stream",
          "text": [
            "loss: 1.1595416069030762\n",
            "accuracy: 0.6625062227249146\n",
            "f1_m: 0.6633249521255493\n",
            "precision_m: 0.6633250117301941\n",
            "recall_m: 0.6633250117301941\n"
          ],
          "name": "stdout"
        }
      ]
    },
    {
      "cell_type": "code",
      "metadata": {
        "id": "3DqyE7-W5KC3",
        "colab": {
          "base_uri": "https://localhost:8080/"
        },
        "outputId": "302e697c-b700-4cf2-82ba-08e916a6ab0b"
      },
      "source": [
        "# Get predictions for plotting the confusion matrix\n",
        "predictions = model.predict(x_test, verbose=1)"
      ],
      "execution_count": 29,
      "outputs": [
        {
          "output_type": "stream",
          "text": [
            "63/63 [==============================] - 2s 26ms/step\n"
          ],
          "name": "stdout"
        }
      ]
    },
    {
      "cell_type": "code",
      "metadata": {
        "scrolled": true,
        "id": "pFXzuzzh5KC3",
        "colab": {
          "base_uri": "https://localhost:8080/",
          "height": 269
        },
        "outputId": "c358b2bd-2b0e-4cd2-e941-3d4628f0ea28"
      },
      "source": [
        "# Plot the confusion matrix\n",
        "predictions = np.argmax(predictions, axis=0)\n",
        "y_test = np.argmax(y_test, axis=0)\n",
        "\n",
        "sns.heatmap(confusion_matrix(y_test, predictions), annot=True, cmap = 'coolwarm', fmt='.0f')\n",
        "plt.show()"
      ],
      "execution_count": 30,
      "outputs": [
        {
          "output_type": "display_data",
          "data": {
            "image/png": "[encoded data removed]",
            "text/plain": [
              "<Figure size 432x288 with 2 Axes>"
            ]
          },
          "metadata": {
            "tags": [],
            "needs_background": "light"
          }
        }
      ]
    },
    {
      "cell_type": "markdown",
      "metadata": {
        "id": "-6ys5M0w8SSm"
      },
      "source": [
        "# Model Parameters\n",
        "input_shape = (75, 100, 3)\n",
        "\n",
        "# Number of classes\n",
        "num_classes = 7\n",
        "\n",
        "# Optimizer\n",
        "optimizer = Adam(lr=0.001, beta_1=0.9, beta_2=0.999, epsilon=None, decay=0.0, amsgrad=False)\n",
        "\n",
        "# Epoch is number of times a node is trained\n",
        "epochs = 9\n",
        "batch_size = 20\n",
        "\n",
        "# Callback functions (To follow the path of gradient descent)\n",
        "learning_rate_reduction = ReduceLROnPlateau(monitor='val_accuracy', patience=5, verbose=0, factor=0.5, min_lr=0.00001)\n",
        "early_stopping_monitor = EarlyStopping(patience=20, monitor='val_accuracy')\n"
      ]
    },
    {
      "cell_type": "markdown",
      "metadata": {
        "id": "B3COod77Db5c",
        "outputId": "e99a24fe-b6a1-428d-9c8c-64e007fa7e2d"
      },
      "source": [
        "# dataaugment.flow(x_train,y_train, batch_size=batch_size),\n",
        "# callbacks=[learning_rate_reduction,early_stopping_monitor]\n",
        "history = model.fit(\n",
        "    x = x_train,\n",
        "    y = y_train, \n",
        "    batch_size=batch_size,\n",
        "    verbose = 0, \n",
        "    steps_per_epoch=x_train.shape[0] // batch_size,\n",
        "    epochs=10,\n",
        "    validation_data = (x_validate, y_validate)\n",
        ")\n",
        "\n",
        "loss, accuracy = model.evaluate(x_test, y_test, verbose=0)\n",
        "predictions = model.predict(x_test)\n",
        "loss_v, accuracy_v = model.evaluate(x_validate, y_validate, verbose=0)\n",
        "loss_t, accuracy_t = model.evaluate(x_train, y_train, verbose=0)\n",
        "\n",
        "print(\"Training: accuracy = %f\" % (accuracy_t))\n",
        "print(\"Validation: accuracy = %f\" % (accuracy_v))\n",
        "print(\"Test: accuracy = %f\" % (accuracy))"
      ]
    },
    {
      "cell_type": "markdown",
      "metadata": {
        "id": "7l6D3elvzeOc",
        "outputId": "aa5f62ba-4636-4e80-c7ac-f7d814fbbb25"
      },
      "source": [
        "predictions = np.argmax(predictions, axis=1)"
      ]
    },
    {
      "cell_type": "markdown",
      "metadata": {
        "id": "NVVDXdOHxYcY"
      },
      "source": [
        "y_test = np.argmax(y_test, axis=1)"
      ]
    },
    {
      "cell_type": "markdown",
      "metadata": {
        "id": "IAGYMa0HxUsy",
        "outputId": "f3c2f649-b11b-4c68-efdc-1b9c627d14c6"
      },
      "source": [
        "\n",
        "sns.heatmap(confusion_matrix(y_test, predictions), annot=True, cmap = 'coolwarm', fmt='.0f')\n",
        "plt.show()"
      ]
    },
    {
      "cell_type": "markdown",
      "metadata": {
        "id": "jL1zPJ27xXmE",
        "outputId": "18204e51-7a3b-4c0f-df3f-bd99c34f6d58"
      },
      "source": [
        "len(predictions)"
      ]
    },
    {
      "cell_type": "markdown",
      "metadata": {
        "id": "qj27aH_-z1f4",
        "outputId": "db34107b-edb9-436e-aa12-b978a68a1074"
      },
      "source": [
        "target.value_counts()\n",
        "len(x_train)\n",
        "len(x_validate)"
      ]
    }
  ]
}