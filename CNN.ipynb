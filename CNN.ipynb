{
  "nbformat": 4,
  "nbformat_minor": 0,
  "metadata": {
    "colab": {
      "name": "CNN2.ipynb",
      "provenance": [],
      "collapsed_sections": []
    },
    "kernelspec": {
      "display_name": "Python 3",
      "language": "python",
      "name": "python3"
    },
    "language_info": {
      "codemirror_mode": {
        "name": "ipython",
        "version": 3
      },
      "file_extension": ".py",
      "mimetype": "text/x-python",
      "name": "python",
      "nbconvert_exporter": "python",
      "pygments_lexer": "ipython3",
      "version": "3.9.4"
    },
    "accelerator": "GPU"
  },
  "cells": [
    {
      "cell_type": "code",
      "metadata": {
        "id": "Ewa5uOvRx-Tt"
      },
      "source": [
        "import os \n",
        "import zipfile \n",
        "\n",
        "import tensorflow as tf \n",
        "from tensorflow.keras.preprocessing.image import ImageDataGenerator \n",
        "from tensorflow.keras import layers\n",
        "from tensorflow.keras.layers import Dense, Input, Dropout,Flatten, Conv2D, MaxPool2D\n",
        "from tensorflow.keras.layers import BatchNormalization, Activation, MaxPooling2D\n",
        "from tensorflow.keras.models import Model, Sequential\n",
        "from tensorflow.keras.callbacks import EarlyStopping, ReduceLROnPlateau\n",
        "from tensorflow.keras.optimizers import Adam\n",
        "\n",
        "import matplotlib.pyplot as plt\n",
        "import numpy as np\n",
        "import pandas as pd\n",
        "\n",
        "import torchvision\n",
        "import torchvision.transforms as transforms\n",
        "\n",
        "import glob\n",
        "from PIL import Image\n",
        "\n",
        "from sklearn.model_selection import train_test_split\n",
        "\n",
        "from keras.utils.np_utils import to_categorical # convert to one-hot-encoding\n",
        "\n",
        "from IPython.display import clear_output\n",
        "from tqdm import tqdm\n",
        "\n",
        "from sklearn.metrics import confusion_matrix\n",
        "import seaborn as sns\n",
        "\n",
        "from keras import backend as K\n",
        "\n",
        "from sklearn.utils import resample"
      ],
      "execution_count": 1,
      "outputs": []
    },
    {
      "cell_type": "code",
      "metadata": {
        "colab": {
          "base_uri": "https://localhost:8080/"
        },
        "id": "sOSKOnc3OkVX",
        "outputId": "b5c81b86-7014-48a1-b244-20a6984f58be"
      },
      "source": [
        "from google.colab import drive\n",
        "drive.mount('/content/drive/')"
      ],
      "execution_count": 2,
      "outputs": [
        {
          "output_type": "stream",
          "text": [
            "Mounted at /content/drive/\n"
          ],
          "name": "stdout"
        }
      ]
    },
    {
      "cell_type": "code",
      "metadata": {
        "id": "5HyWq_mhW75S"
      },
      "source": [
        "data_dir = \"/images/\"\n",
        "metadata_path = \"/HAM10000_metadata.csv\""
      ],
      "execution_count": 3,
      "outputs": []
    },
    {
      "cell_type": "code",
      "metadata": {
        "id": "Gf2eWAukQrVe"
      },
      "source": [
        "#Lesion Dictionary\n",
        "lesion_type_dict = {\n",
        "    'nv': 'Melanocytic nevi',\n",
        "    'mel': 'Melanoma',\n",
        "    'bkl': 'Benign keratosis-like lesions ',\n",
        "    'bcc': 'Basal cell carcinoma',\n",
        "    'akiec': 'Actinic keratoses',\n",
        "    'vasc': 'Vascular lesions',\n",
        "    'df': 'Dermatofibroma'\n",
        "}"
      ],
      "execution_count": 4,
      "outputs": []
    },
    {
      "cell_type": "code",
      "metadata": {
        "id": "GEXRn0E25KCy"
      },
      "source": [
        "# Read metadata into dataframe\n",
        "metadata = pd.read_csv(metadata_path)\n",
        "skin_df = metadata"
      ],
      "execution_count": 5,
      "outputs": []
    },
    {
      "cell_type": "code",
      "metadata": {
        "id": "ZvxnWcZt5KCy"
      },
      "source": [
        "# Dictionary for Image Names\n",
        "imageid_path_dict = {os.path.splitext(os.path.basename(x))[0]: x for x in glob.glob(os.path.join(data_dir, '*.jpg'))}"
      ],
      "execution_count": 6,
      "outputs": []
    },
    {
      "cell_type": "code",
      "metadata": {
        "id": "VNqP0ahB5KCy"
      },
      "source": [
        "#Create useful Columns - Images Path, Lesion Type and Lesion Categorical Code\n",
        "skin_df['path'] = skin_df['image_id'].map(imageid_path_dict.get)\n",
        "skin_df['cell_type'] = skin_df['dx'].map(lesion_type_dict.get) \n",
        "skin_df['cell_type_idx'] = pd.Categorical(skin_df['cell_type']).codes"
      ],
      "execution_count": 7,
      "outputs": []
    },
    {
      "cell_type": "code",
      "metadata": {
        "colab": {
          "base_uri": "https://localhost:8080/"
        },
        "id": "0POOFz2V5KCz",
        "outputId": "7783da90-d74e-44be-eabb-fdfb5410eb35"
      },
      "source": [
        "# Lesion code dictionary\n",
        "lesion_code_dict = pd.Series(skin_df.dx.values,index=skin_df.cell_type_idx).to_dict()\n",
        "\n",
        "lesion_code_dict"
      ],
      "execution_count": 8,
      "outputs": [
        {
          "output_type": "execute_result",
          "data": {
            "text/plain": [
              "{0: 'akiec', 1: 'bcc', 2: 'bkl', 3: 'df', 4: 'nv', 5: 'mel', 6: 'vasc'}"
            ]
          },
          "metadata": {
            "tags": []
          },
          "execution_count": 8
        }
      ]
    },
    {
      "cell_type": "code",
      "metadata": {
        "scrolled": true,
        "colab": {
          "base_uri": "https://localhost:8080/",
          "height": 589
        },
        "id": "hqAIozEF5KCz",
        "outputId": "63c000d1-1f14-43b5-a5df-305f4df90e86"
      },
      "source": [
        "skin_df"
      ],
      "execution_count": 9,
      "outputs": [
        {
          "output_type": "execute_result",
          "data": {
            "text/html": [
              "<div>\n",
              "<style scoped>\n",
              "    .dataframe tbody tr th:only-of-type {\n",
              "        vertical-align: middle;\n",
              "    }\n",
              "\n",
              "    .dataframe tbody tr th {\n",
              "        vertical-align: top;\n",
              "    }\n",
              "\n",
              "    .dataframe thead th {\n",
              "        text-align: right;\n",
              "    }\n",
              "</style>\n",
              "<table border=\"1\" class=\"dataframe\">\n",
              "  <thead>\n",
              "    <tr style=\"text-align: right;\">\n",
              "      <th></th>\n",
              "      <th>lesion_id</th>\n",
              "      <th>image_id</th>\n",
              "      <th>dx</th>\n",
              "      <th>dx_type</th>\n",
              "      <th>age</th>\n",
              "      <th>sex</th>\n",
              "      <th>localization</th>\n",
              "      <th>dataset</th>\n",
              "      <th>path</th>\n",
              "      <th>cell_type</th>\n",
              "      <th>cell_type_idx</th>\n",
              "    </tr>\n",
              "  </thead>\n",
              "  <tbody>\n",
              "    <tr>\n",
              "      <th>0</th>\n",
              "      <td>HAM_0000118</td>\n",
              "      <td>ISIC_0027419</td>\n",
              "      <td>bkl</td>\n",
              "      <td>histo</td>\n",
              "      <td>80.0</td>\n",
              "      <td>male</td>\n",
              "      <td>scalp</td>\n",
              "      <td>vidir_modern</td>\n",
              "      <td>/content/drive/MyDrive/Colab Notebooks/images/...</td>\n",
              "      <td>Benign keratosis-like lesions</td>\n",
              "      <td>2</td>\n",
              "    </tr>\n",
              "    <tr>\n",
              "      <th>1</th>\n",
              "      <td>HAM_0000118</td>\n",
              "      <td>ISIC_0025030</td>\n",
              "      <td>bkl</td>\n",
              "      <td>histo</td>\n",
              "      <td>80.0</td>\n",
              "      <td>male</td>\n",
              "      <td>scalp</td>\n",
              "      <td>vidir_modern</td>\n",
              "      <td>/content/drive/MyDrive/Colab Notebooks/images/...</td>\n",
              "      <td>Benign keratosis-like lesions</td>\n",
              "      <td>2</td>\n",
              "    </tr>\n",
              "    <tr>\n",
              "      <th>2</th>\n",
              "      <td>HAM_0002730</td>\n",
              "      <td>ISIC_0026769</td>\n",
              "      <td>bkl</td>\n",
              "      <td>histo</td>\n",
              "      <td>80.0</td>\n",
              "      <td>male</td>\n",
              "      <td>scalp</td>\n",
              "      <td>vidir_modern</td>\n",
              "      <td>/content/drive/MyDrive/Colab Notebooks/images/...</td>\n",
              "      <td>Benign keratosis-like lesions</td>\n",
              "      <td>2</td>\n",
              "    </tr>\n",
              "    <tr>\n",
              "      <th>3</th>\n",
              "      <td>HAM_0002730</td>\n",
              "      <td>ISIC_0025661</td>\n",
              "      <td>bkl</td>\n",
              "      <td>histo</td>\n",
              "      <td>80.0</td>\n",
              "      <td>male</td>\n",
              "      <td>scalp</td>\n",
              "      <td>vidir_modern</td>\n",
              "      <td>/content/drive/MyDrive/Colab Notebooks/images/...</td>\n",
              "      <td>Benign keratosis-like lesions</td>\n",
              "      <td>2</td>\n",
              "    </tr>\n",
              "    <tr>\n",
              "      <th>4</th>\n",
              "      <td>HAM_0001466</td>\n",
              "      <td>ISIC_0031633</td>\n",
              "      <td>bkl</td>\n",
              "      <td>histo</td>\n",
              "      <td>75.0</td>\n",
              "      <td>male</td>\n",
              "      <td>ear</td>\n",
              "      <td>vidir_modern</td>\n",
              "      <td>/content/drive/MyDrive/Colab Notebooks/images/...</td>\n",
              "      <td>Benign keratosis-like lesions</td>\n",
              "      <td>2</td>\n",
              "    </tr>\n",
              "    <tr>\n",
              "      <th>...</th>\n",
              "      <td>...</td>\n",
              "      <td>...</td>\n",
              "      <td>...</td>\n",
              "      <td>...</td>\n",
              "      <td>...</td>\n",
              "      <td>...</td>\n",
              "      <td>...</td>\n",
              "      <td>...</td>\n",
              "      <td>...</td>\n",
              "      <td>...</td>\n",
              "      <td>...</td>\n",
              "    </tr>\n",
              "    <tr>\n",
              "      <th>10010</th>\n",
              "      <td>HAM_0002867</td>\n",
              "      <td>ISIC_0033084</td>\n",
              "      <td>akiec</td>\n",
              "      <td>histo</td>\n",
              "      <td>40.0</td>\n",
              "      <td>male</td>\n",
              "      <td>abdomen</td>\n",
              "      <td>vidir_modern</td>\n",
              "      <td>/content/drive/MyDrive/Colab Notebooks/images/...</td>\n",
              "      <td>Actinic keratoses</td>\n",
              "      <td>0</td>\n",
              "    </tr>\n",
              "    <tr>\n",
              "      <th>10011</th>\n",
              "      <td>HAM_0002867</td>\n",
              "      <td>ISIC_0033550</td>\n",
              "      <td>akiec</td>\n",
              "      <td>histo</td>\n",
              "      <td>40.0</td>\n",
              "      <td>male</td>\n",
              "      <td>abdomen</td>\n",
              "      <td>vidir_modern</td>\n",
              "      <td>/content/drive/MyDrive/Colab Notebooks/images/...</td>\n",
              "      <td>Actinic keratoses</td>\n",
              "      <td>0</td>\n",
              "    </tr>\n",
              "    <tr>\n",
              "      <th>10012</th>\n",
              "      <td>HAM_0002867</td>\n",
              "      <td>ISIC_0033536</td>\n",
              "      <td>akiec</td>\n",
              "      <td>histo</td>\n",
              "      <td>40.0</td>\n",
              "      <td>male</td>\n",
              "      <td>abdomen</td>\n",
              "      <td>vidir_modern</td>\n",
              "      <td>/content/drive/MyDrive/Colab Notebooks/images/...</td>\n",
              "      <td>Actinic keratoses</td>\n",
              "      <td>0</td>\n",
              "    </tr>\n",
              "    <tr>\n",
              "      <th>10013</th>\n",
              "      <td>HAM_0000239</td>\n",
              "      <td>ISIC_0032854</td>\n",
              "      <td>akiec</td>\n",
              "      <td>histo</td>\n",
              "      <td>80.0</td>\n",
              "      <td>male</td>\n",
              "      <td>face</td>\n",
              "      <td>vidir_modern</td>\n",
              "      <td>/content/drive/MyDrive/Colab Notebooks/images/...</td>\n",
              "      <td>Actinic keratoses</td>\n",
              "      <td>0</td>\n",
              "    </tr>\n",
              "    <tr>\n",
              "      <th>10014</th>\n",
              "      <td>HAM_0003521</td>\n",
              "      <td>ISIC_0032258</td>\n",
              "      <td>mel</td>\n",
              "      <td>histo</td>\n",
              "      <td>70.0</td>\n",
              "      <td>female</td>\n",
              "      <td>back</td>\n",
              "      <td>vidir_modern</td>\n",
              "      <td>/content/drive/MyDrive/Colab Notebooks/images/...</td>\n",
              "      <td>Melanoma</td>\n",
              "      <td>5</td>\n",
              "    </tr>\n",
              "  </tbody>\n",
              "</table>\n",
              "<p>10015 rows × 11 columns</p>\n",
              "</div>"
            ],
            "text/plain": [
              "         lesion_id      image_id  ...                       cell_type cell_type_idx\n",
              "0      HAM_0000118  ISIC_0027419  ...  Benign keratosis-like lesions              2\n",
              "1      HAM_0000118  ISIC_0025030  ...  Benign keratosis-like lesions              2\n",
              "2      HAM_0002730  ISIC_0026769  ...  Benign keratosis-like lesions              2\n",
              "3      HAM_0002730  ISIC_0025661  ...  Benign keratosis-like lesions              2\n",
              "4      HAM_0001466  ISIC_0031633  ...  Benign keratosis-like lesions              2\n",
              "...            ...           ...  ...                             ...           ...\n",
              "10010  HAM_0002867  ISIC_0033084  ...               Actinic keratoses             0\n",
              "10011  HAM_0002867  ISIC_0033550  ...               Actinic keratoses             0\n",
              "10012  HAM_0002867  ISIC_0033536  ...               Actinic keratoses             0\n",
              "10013  HAM_0000239  ISIC_0032854  ...               Actinic keratoses             0\n",
              "10014  HAM_0003521  ISIC_0032258  ...                        Melanoma             5\n",
              "\n",
              "[10015 rows x 11 columns]"
            ]
          },
          "metadata": {
            "tags": []
          },
          "execution_count": 9
        }
      ]
    },
    {
      "cell_type": "code",
      "metadata": {
        "colab": {
          "base_uri": "https://localhost:8080/"
        },
        "id": "8pFORH3joGg2",
        "outputId": "4d8373f5-d6ae-43fa-e253-c848de8e6f3d"
      },
      "source": [
        "# Attach images to the skin_df Dataframe\n",
        "temp_arr, count = [], 0\n",
        "for path in tqdm(skin_df['path']):\n",
        "  temp_arr.append(np.asarray( Image.open(path).resize((100,75)) ))\n",
        "  count += 1\n",
        "  if count % 10 == 0: clear_output()\n",
        "\n",
        "skin_df['image'] = temp_arr"
      ],
      "execution_count": 10,
      "outputs": [
        {
          "output_type": "stream",
          "text": [
            "100%|██████████| 10015/10015 [43:39<00:00,  3.82it/s]\n"
          ],
          "name": "stderr"
        }
      ]
    },
    {
      "cell_type": "code",
      "metadata": {
        "id": "raUm2J0PgXYL"
      },
      "source": [
        "# Separate the dataframe into Features and Targets data\n",
        "features = skin_df.drop(columns=['cell_type_idx','dx'],axis=1)\n",
        "target = skin_df['cell_type_idx']"
      ],
      "execution_count": 11,
      "outputs": []
    },
    {
      "cell_type": "code",
      "metadata": {
        "colab": {
          "base_uri": "https://localhost:8080/"
        },
        "id": "yx5DqaAK5KCz",
        "outputId": "68922e37-7368-4293-abfd-15fb2abf7bf0"
      },
      "source": [
        "# Create First Train and Test sets\n",
        "x_train_o, x_test_o, y_train_o, y_test_o = train_test_split(features, target, test_size=0.20, random_state=1)\n",
        "print(x_train_o.shape)\n",
        "print(y_train_o.shape)"
      ],
      "execution_count": 12,
      "outputs": [
        {
          "output_type": "stream",
          "text": [
            "(8012, 10)\n",
            "(8012,)\n"
          ],
          "name": "stdout"
        }
      ]
    },
    {
      "cell_type": "code",
      "metadata": {
        "colab": {
          "base_uri": "https://localhost:8080/"
        },
        "id": "sbX83-Yp5KCz",
        "outputId": "4f9aa29e-8dcc-4b5e-b64a-8020633442ac"
      },
      "source": [
        "# Create image arrays from the train and test sets\n",
        "x_train = np.asarray(x_train_o['image'].tolist())\n",
        "x_test = np.asarray(x_test_o['image'].tolist())\n",
        "\n",
        "print(x_train.shape)\n",
        "print(x_test.shape)"
      ],
      "execution_count": 13,
      "outputs": [
        {
          "output_type": "stream",
          "text": [
            "(8012, 75, 100, 3)\n",
            "(2003, 75, 100, 3)\n"
          ],
          "name": "stdout"
        }
      ]
    },
    {
      "cell_type": "code",
      "metadata": {
        "scrolled": true,
        "colab": {
          "base_uri": "https://localhost:8080/"
        },
        "id": "UUJSBhG-5KC0",
        "outputId": "270f7a3a-92de-4a49-a300-61456ec62b69"
      },
      "source": [
        "# Class distribution before data augmentation\n",
        "train_value_counts = y_train_o.value_counts()\n",
        "print(train_value_counts)\n",
        "print(f'Total images: {train_value_counts.sum()}')"
      ],
      "execution_count": 14,
      "outputs": [
        {
          "output_type": "stream",
          "text": [
            "4    5378\n",
            "5     891\n",
            "2     871\n",
            "1     418\n",
            "0     266\n",
            "6     110\n",
            "3      78\n",
            "Name: cell_type_idx, dtype: int64\n",
            "Total images: 8012\n"
          ],
          "name": "stdout"
        }
      ]
    },
    {
      "cell_type": "code",
      "metadata": {
        "id": "zFaa1RBfgE_B"
      },
      "source": [
        "# Data Augmentation\n",
        "# Image data generator is used to generate the possible versions of data as given below.\n",
        "\n",
        "dataaugment = ImageDataGenerator(\n",
        "        featurewise_center=False,  # set input mean to 0 over the dataset\n",
        "        samplewise_center=False,  # set each sample mean to 0\n",
        "        featurewise_std_normalization=False,  # divide inputs by std of the dataset\n",
        "        samplewise_std_normalization=False,  # divide each input by its std\n",
        "        zca_whitening=False,  # apply ZCA whitening\n",
        "        rotation_range=90,  # randomly rotate images in the range (degrees, 0 to 180)\n",
        "        zoom_range = 0.1, # Randomly zoom image \n",
        "        width_shift_range=0.1,  # randomly shift images horizontally (fraction of total width)\n",
        "        height_shift_range=0.1,  # randomly shift images vertically (fraction of total height)\n",
        "        horizontal_flip=True,  # randomly flip images\n",
        "        vertical_flip=True,  # randomly flip images\n",
        "        shear_range = 10\n",
        "    ) "
      ],
      "execution_count": 15,
      "outputs": []
    },
    {
      "cell_type": "code",
      "metadata": {
        "colab": {
          "base_uri": "https://localhost:8080/"
        },
        "id": "1xOuqdLf5KC0",
        "outputId": "25a6326d-f774-4abd-844e-faea34fa4d16"
      },
      "source": [
        "# For each lesion code != 4, get the indices in y_train_o.\n",
        "# For the same indices in x_train_o, augment the image present in the row.\n",
        "reset_y_train_o = y_train_o.reset_index(drop=True)\n",
        "reset_index = reset_y_train_o.index\n",
        "\n",
        "print(len(y_train_o))"
      ],
      "execution_count": 16,
      "outputs": [
        {
          "output_type": "stream",
          "text": [
            "8012\n"
          ],
          "name": "stdout"
        }
      ]
    },
    {
      "cell_type": "code",
      "metadata": {
        "id": "VvfAsDIGhnEx"
      },
      "source": [
        "# The normalisation is done using the training set Mean and Std. Deviation as reference\n",
        "x_train_mean = np.mean(x_train)\n",
        "x_train_std = np.std(x_train)\n",
        "\n",
        "x_train = (x_train - x_train_mean) / x_train_std\n",
        "x_test = (x_test - x_train_mean) / x_train_std"
      ],
      "execution_count": 17,
      "outputs": []
    },
    {
      "cell_type": "code",
      "metadata": {
        "id": "UQ0EFbN5joCo"
      },
      "source": [
        "# Perform one-hot encoding on the labels\n",
        "y_train = to_categorical(y_train_o, num_classes = 7)\n",
        "y_test = to_categorical(y_test_o, num_classes = 7)"
      ],
      "execution_count": 18,
      "outputs": []
    },
    {
      "cell_type": "code",
      "metadata": {
        "id": "vRrRWy_Njsnp"
      },
      "source": [
        "# Splitting training into Train and Validatation sets\n",
        "x_train, x_validate, y_train, y_validate = train_test_split(x_train, y_train, test_size = 0.1, random_state=1)\n",
        "\n",
        "# Reshaping the Images into 3 channels (RGB)\n",
        "# height = 75, width = 100, canal = 3\n",
        "x_train = x_train.reshape(x_train.shape[0], *(75, 100, 3))\n",
        "x_test = x_test.reshape(x_test.shape[0], *(75, 100, 3))\n",
        "x_validate = x_validate.reshape(x_validate.shape[0], *(75, 100, 3))"
      ],
      "execution_count": 19,
      "outputs": []
    },
    {
      "cell_type": "code",
      "metadata": {
        "colab": {
          "base_uri": "https://localhost:8080/"
        },
        "id": "Z9XLCqXO5KC1",
        "outputId": "3b95e000-7b87-4715-bcc7-fb24952c2c2b"
      },
      "source": [
        "\n",
        "input_shape = (75, 100, 3)\n",
        "num_classes = 7\n",
        "\n",
        "# Baseline CNN - 2\n",
        "\n",
        "# After considering one input and one output per tensor\n",
        "# Initializing CNN\n",
        "model = Sequential()\n",
        "\n",
        "# 1 - Convolution\n",
        "model.add(Conv2D(64, (3,3), padding='Same', input_shape=input_shape))\n",
        "model.add(BatchNormalization())\n",
        "model.add(Activation('relu'))\n",
        "model.add(MaxPooling2D(pool_size=(2, 2)))\n",
        "model.add(Dropout(0.25))\n",
        "\n",
        "# 2nd Convolution layer\n",
        "model.add(Conv2D(64,(3,3), padding='same'))\n",
        "model.add(BatchNormalization())\n",
        "model.add(Activation('relu'))\n",
        "model.add(MaxPooling2D(pool_size=(2, 2)))\n",
        "model.add(Dropout(0.25))\n",
        "\n",
        "# 3rd Convolution layer\n",
        "model.add(Conv2D(64,(3,3), padding='same'))\n",
        "model.add(BatchNormalization())\n",
        "model.add(Activation('relu'))\n",
        "model.add(MaxPooling2D(pool_size=(2, 2)))\n",
        "model.add(Dropout(0.25))\n",
        "\n",
        "# 4th Convolution layer\n",
        "model.add(Conv2D(64,(3,3), padding='same'))\n",
        "model.add(BatchNormalization())\n",
        "model.add(Activation('relu'))\n",
        "model.add(MaxPooling2D(pool_size=(2, 2)))\n",
        "model.add(Dropout(0.25))\n",
        "\n",
        "# Flattening\n",
        "model.add(Flatten())\n",
        "\n",
        "# Fully connected layer 1st layer\n",
        "model.add(Dense(256))\n",
        "model.add(BatchNormalization())\n",
        "model.add(Activation('relu'))\n",
        "model.add(Dropout(0.25))\n",
        "\n",
        "# Fully connected layer 2nd layer\n",
        "model.add(Dense(512))\n",
        "model.add(BatchNormalization())\n",
        "model.add(Activation('relu'))\n",
        "model.add(Dropout(0.25))\n",
        "\n",
        "model.add(Dense(num_classes, activation='softmax'))\n",
        "\n",
        "model.summary()\n"
      ],
      "execution_count": 20,
      "outputs": [
        {
          "output_type": "stream",
          "text": [
            "Model: \"sequential\"\n",
            "_________________________________________________________________\n",
            "Layer (type)                 Output Shape              Param #   \n",
            "=================================================================\n",
            "conv2d (Conv2D)              (None, 75, 100, 64)       1792      \n",
            "_________________________________________________________________\n",
            "batch_normalization (BatchNo (None, 75, 100, 64)       256       \n",
            "_________________________________________________________________\n",
            "activation (Activation)      (None, 75, 100, 64)       0         \n",
            "_________________________________________________________________\n",
            "max_pooling2d (MaxPooling2D) (None, 37, 50, 64)        0         \n",
            "_________________________________________________________________\n",
            "dropout (Dropout)            (None, 37, 50, 64)        0         \n",
            "_________________________________________________________________\n",
            "conv2d_1 (Conv2D)            (None, 37, 50, 64)        36928     \n",
            "_________________________________________________________________\n",
            "batch_normalization_1 (Batch (None, 37, 50, 64)        256       \n",
            "_________________________________________________________________\n",
            "activation_1 (Activation)    (None, 37, 50, 64)        0         \n",
            "_________________________________________________________________\n",
            "max_pooling2d_1 (MaxPooling2 (None, 18, 25, 64)        0         \n",
            "_________________________________________________________________\n",
            "dropout_1 (Dropout)          (None, 18, 25, 64)        0         \n",
            "_________________________________________________________________\n",
            "conv2d_2 (Conv2D)            (None, 18, 25, 64)        36928     \n",
            "_________________________________________________________________\n",
            "batch_normalization_2 (Batch (None, 18, 25, 64)        256       \n",
            "_________________________________________________________________\n",
            "activation_2 (Activation)    (None, 18, 25, 64)        0         \n",
            "_________________________________________________________________\n",
            "max_pooling2d_2 (MaxPooling2 (None, 9, 12, 64)         0         \n",
            "_________________________________________________________________\n",
            "dropout_2 (Dropout)          (None, 9, 12, 64)         0         \n",
            "_________________________________________________________________\n",
            "conv2d_3 (Conv2D)            (None, 9, 12, 64)         36928     \n",
            "_________________________________________________________________\n",
            "batch_normalization_3 (Batch (None, 9, 12, 64)         256       \n",
            "_________________________________________________________________\n",
            "activation_3 (Activation)    (None, 9, 12, 64)         0         \n",
            "_________________________________________________________________\n",
            "max_pooling2d_3 (MaxPooling2 (None, 4, 6, 64)          0         \n",
            "_________________________________________________________________\n",
            "dropout_3 (Dropout)          (None, 4, 6, 64)          0         \n",
            "_________________________________________________________________\n",
            "flatten (Flatten)            (None, 1536)              0         \n",
            "_________________________________________________________________\n",
            "dense (Dense)                (None, 256)               393472    \n",
            "_________________________________________________________________\n",
            "batch_normalization_4 (Batch (None, 256)               1024      \n",
            "_________________________________________________________________\n",
            "activation_4 (Activation)    (None, 256)               0         \n",
            "_________________________________________________________________\n",
            "dropout_4 (Dropout)          (None, 256)               0         \n",
            "_________________________________________________________________\n",
            "dense_1 (Dense)              (None, 512)               131584    \n",
            "_________________________________________________________________\n",
            "batch_normalization_5 (Batch (None, 512)               2048      \n",
            "_________________________________________________________________\n",
            "activation_5 (Activation)    (None, 512)               0         \n",
            "_________________________________________________________________\n",
            "dropout_5 (Dropout)          (None, 512)               0         \n",
            "_________________________________________________________________\n",
            "dense_2 (Dense)              (None, 7)                 3591      \n",
            "=================================================================\n",
            "Total params: 645,319\n",
            "Trainable params: 643,271\n",
            "Non-trainable params: 2,048\n",
            "_________________________________________________________________\n"
          ],
          "name": "stdout"
        }
      ]
    },
    {
      "cell_type": "code",
      "metadata": {
        "id": "0oFIjDtr5KC2"
      },
      "source": [
        "# Define metrics \n",
        "\n",
        "def recall_m(y_true, y_pred):\n",
        "    true_positives = K.sum(K.round(K.clip(y_true * y_pred, 0, 1)))\n",
        "    possible_positives = K.sum(K.round(K.clip(y_true, 0, 1)))\n",
        "    recall = true_positives / (possible_positives + K.epsilon())\n",
        "    return recall\n",
        "\n",
        "def precision_m(y_true, y_pred):\n",
        "    true_positives = K.sum(K.round(K.clip(y_true * y_pred, 0, 1)))\n",
        "    predicted_positives = K.sum(K.round(K.clip(y_pred, 0, 1)))\n",
        "    precision = true_positives / (predicted_positives + K.epsilon())\n",
        "    return precision\n",
        "\n",
        "def f1_m(y_true, y_pred):\n",
        "    precision = precision_m(y_true, y_pred)\n",
        "    recall = recall_m(y_true, y_pred)\n",
        "    return 2*((precision*recall)/(precision+recall+K.epsilon()))"
      ],
      "execution_count": 21,
      "outputs": []
    },
    {
      "cell_type": "code",
      "metadata": {
        "id": "t2QceAAB5KC2"
      },
      "source": [
        "# Define the optimizer\n",
        "optimizer = Adam(learning_rate=0.001, \n",
        "                 beta_1=0.9, \n",
        "                 beta_2=0.999, \n",
        "                 # epsilon=None, \n",
        "                 decay=0.0, \n",
        "                 amsgrad=False)\n",
        "\n",
        "# Compile the model\n",
        "model.compile(optimizer = optimizer , loss = \"categorical_crossentropy\", metrics=[\"accuracy\", f1_m,precision_m, recall_m])\n",
        "\n",
        "# Set a learning rate annealer\n",
        "learning_rate_reduction = ReduceLROnPlateau(monitor='val_accuracy', \n",
        "                                            patience=3, \n",
        "                                            verbose=1, \n",
        "                                            factor=0.5, \n",
        "                                            min_lr=0.00001)"
      ],
      "execution_count": 22,
      "outputs": []
    },
    {
      "cell_type": "code",
      "metadata": {
        "id": "5WSfybEBiz-W"
      },
      "source": [
        "x_train = np.asarray(x_train)\n",
        "y_train = np.asarray(y_train)\n",
        "x_validate = np.asarray(x_validate)\n",
        "y_validate = np.asarray(y_validate)"
      ],
      "execution_count": 23,
      "outputs": []
    },
    {
      "cell_type": "code",
      "metadata": {
        "id": "VTGRcxtb5KC2",
        "colab": {
          "base_uri": "https://localhost:8080/"
        },
        "outputId": "03c7c584-9db1-4633-eb82-a27d4e54c7d3"
      },
      "source": [
        "# Fit the model\n",
        "epochs = 25\n",
        "batch_size = 10\n",
        "history = model.fit(dataaugment.flow(x_train,y_train, batch_size=batch_size),\n",
        "                              epochs = epochs, validation_data = (x_validate,y_validate),\n",
        "                              verbose = 1, steps_per_epoch=x_train.shape[0] // batch_size\n",
        "                              , callbacks=[learning_rate_reduction])"
      ],
      "execution_count": 24,
      "outputs": [
        {
          "output_type": "stream",
          "text": [
            "Epoch 1/25\n",
            "721/721 [==============================] - 52s 25ms/step - loss: 1.1487 - accuracy: 0.6214 - f1_m: 0.6004 - precision_m: 0.6887 - recall_m: 0.5387 - val_loss: 0.9314 - val_accuracy: 0.6958 - val_f1_m: 0.6259 - val_precision_m: 0.8744 - val_recall_m: 0.4904\n",
            "Epoch 2/25\n",
            "721/721 [==============================] - 17s 23ms/step - loss: 0.9372 - accuracy: 0.6702 - f1_m: 0.6543 - precision_m: 0.7781 - recall_m: 0.5717 - val_loss: 0.8560 - val_accuracy: 0.7070 - val_f1_m: 0.6850 - val_precision_m: 0.8122 - val_recall_m: 0.5962\n",
            "Epoch 3/25\n",
            "721/721 [==============================] - 17s 24ms/step - loss: 0.9012 - accuracy: 0.6777 - f1_m: 0.6570 - precision_m: 0.7855 - recall_m: 0.5720 - val_loss: 0.7709 - val_accuracy: 0.7170 - val_f1_m: 0.7224 - val_precision_m: 0.8185 - val_recall_m: 0.6514\n",
            "Epoch 4/25\n",
            "721/721 [==============================] - 17s 24ms/step - loss: 0.8787 - accuracy: 0.6805 - f1_m: 0.6638 - precision_m: 0.7790 - recall_m: 0.5848 - val_loss: 0.7612 - val_accuracy: 0.7232 - val_f1_m: 0.7094 - val_precision_m: 0.8683 - val_recall_m: 0.6046\n",
            "Epoch 5/25\n",
            "721/721 [==============================] - 17s 24ms/step - loss: 0.8479 - accuracy: 0.6987 - f1_m: 0.6691 - precision_m: 0.7897 - recall_m: 0.5868 - val_loss: 0.8759 - val_accuracy: 0.6621 - val_f1_m: 0.6299 - val_precision_m: 0.8196 - val_recall_m: 0.5144\n",
            "Epoch 6/25\n",
            "721/721 [==============================] - 17s 23ms/step - loss: 0.8563 - accuracy: 0.6833 - f1_m: 0.6631 - precision_m: 0.8051 - recall_m: 0.5712 - val_loss: 0.7702 - val_accuracy: 0.6895 - val_f1_m: 0.6918 - val_precision_m: 0.8151 - val_recall_m: 0.6046\n",
            "Epoch 7/25\n",
            "721/721 [==============================] - 16s 23ms/step - loss: 0.8150 - accuracy: 0.7090 - f1_m: 0.6943 - precision_m: 0.8135 - recall_m: 0.6114 - val_loss: 0.6843 - val_accuracy: 0.7419 - val_f1_m: 0.7325 - val_precision_m: 0.8494 - val_recall_m: 0.6478\n",
            "Epoch 8/25\n",
            "721/721 [==============================] - 16s 23ms/step - loss: 0.8057 - accuracy: 0.7129 - f1_m: 0.7009 - precision_m: 0.8179 - recall_m: 0.6182 - val_loss: 0.6949 - val_accuracy: 0.7506 - val_f1_m: 0.7415 - val_precision_m: 0.8350 - val_recall_m: 0.6707\n",
            "Epoch 9/25\n",
            "721/721 [==============================] - 16s 23ms/step - loss: 0.7991 - accuracy: 0.7074 - f1_m: 0.6962 - precision_m: 0.8071 - recall_m: 0.6175 - val_loss: 0.8031 - val_accuracy: 0.7020 - val_f1_m: 0.6734 - val_precision_m: 0.8516 - val_recall_m: 0.5601\n",
            "Epoch 10/25\n",
            "721/721 [==============================] - 16s 23ms/step - loss: 0.7897 - accuracy: 0.7065 - f1_m: 0.6947 - precision_m: 0.8074 - recall_m: 0.6145 - val_loss: 0.6793 - val_accuracy: 0.7531 - val_f1_m: 0.7439 - val_precision_m: 0.8483 - val_recall_m: 0.6683\n",
            "Epoch 11/25\n",
            "721/721 [==============================] - 17s 23ms/step - loss: 0.7819 - accuracy: 0.7153 - f1_m: 0.6997 - precision_m: 0.8122 - recall_m: 0.6198 - val_loss: 0.6704 - val_accuracy: 0.7569 - val_f1_m: 0.7402 - val_precision_m: 0.8837 - val_recall_m: 0.6406\n",
            "Epoch 12/25\n",
            "721/721 [==============================] - 17s 24ms/step - loss: 0.7452 - accuracy: 0.7264 - f1_m: 0.7162 - precision_m: 0.8245 - recall_m: 0.6386 - val_loss: 0.6836 - val_accuracy: 0.7569 - val_f1_m: 0.7449 - val_precision_m: 0.8713 - val_recall_m: 0.6538\n",
            "Epoch 13/25\n",
            "721/721 [==============================] - 17s 24ms/step - loss: 0.7736 - accuracy: 0.7135 - f1_m: 0.7016 - precision_m: 0.8111 - recall_m: 0.6240 - val_loss: 0.6887 - val_accuracy: 0.7718 - val_f1_m: 0.7462 - val_precision_m: 0.8721 - val_recall_m: 0.6575\n",
            "Epoch 14/25\n",
            "721/721 [==============================] - 17s 24ms/step - loss: 0.7544 - accuracy: 0.7215 - f1_m: 0.7146 - precision_m: 0.8216 - recall_m: 0.6381 - val_loss: 0.7366 - val_accuracy: 0.7332 - val_f1_m: 0.7015 - val_precision_m: 0.8305 - val_recall_m: 0.6106\n",
            "Epoch 15/25\n",
            "721/721 [==============================] - 17s 24ms/step - loss: 0.7527 - accuracy: 0.7242 - f1_m: 0.7105 - precision_m: 0.8205 - recall_m: 0.6326 - val_loss: 0.6360 - val_accuracy: 0.7681 - val_f1_m: 0.7502 - val_precision_m: 0.8764 - val_recall_m: 0.6599\n",
            "Epoch 16/25\n",
            "721/721 [==============================] - 17s 24ms/step - loss: 0.7526 - accuracy: 0.7239 - f1_m: 0.7065 - precision_m: 0.8161 - recall_m: 0.6296 - val_loss: 0.6046 - val_accuracy: 0.7681 - val_f1_m: 0.7596 - val_precision_m: 0.8614 - val_recall_m: 0.6839\n",
            "\n",
            "Epoch 00016: ReduceLROnPlateau reducing learning rate to 0.0005000000237487257.\n",
            "Epoch 17/25\n",
            "721/721 [==============================] - 17s 24ms/step - loss: 0.6988 - accuracy: 0.7429 - f1_m: 0.7265 - precision_m: 0.8271 - recall_m: 0.6541 - val_loss: 0.6009 - val_accuracy: 0.7843 - val_f1_m: 0.7665 - val_precision_m: 0.8680 - val_recall_m: 0.6899\n",
            "Epoch 18/25\n",
            "721/721 [==============================] - 17s 24ms/step - loss: 0.6638 - accuracy: 0.7603 - f1_m: 0.7494 - precision_m: 0.8397 - recall_m: 0.6824 - val_loss: 0.6339 - val_accuracy: 0.7718 - val_f1_m: 0.7502 - val_precision_m: 0.8824 - val_recall_m: 0.6562\n",
            "Epoch 19/25\n",
            "721/721 [==============================] - 17s 24ms/step - loss: 0.6808 - accuracy: 0.7519 - f1_m: 0.7378 - precision_m: 0.8319 - recall_m: 0.6681 - val_loss: 0.5944 - val_accuracy: 0.7781 - val_f1_m: 0.7639 - val_precision_m: 0.8724 - val_recall_m: 0.6839\n",
            "Epoch 20/25\n",
            "721/721 [==============================] - 17s 24ms/step - loss: 0.6844 - accuracy: 0.7382 - f1_m: 0.7293 - precision_m: 0.8293 - recall_m: 0.6561 - val_loss: 0.6094 - val_accuracy: 0.7706 - val_f1_m: 0.7558 - val_precision_m: 0.8654 - val_recall_m: 0.6755\n",
            "\n",
            "Epoch 00020: ReduceLROnPlateau reducing learning rate to 0.0002500000118743628.\n",
            "Epoch 21/25\n",
            "721/721 [==============================] - 17s 24ms/step - loss: 0.7023 - accuracy: 0.7449 - f1_m: 0.7331 - precision_m: 0.8354 - recall_m: 0.6591 - val_loss: 0.5706 - val_accuracy: 0.7905 - val_f1_m: 0.7799 - val_precision_m: 0.8727 - val_recall_m: 0.7091\n",
            "Epoch 22/25\n",
            "721/721 [==============================] - 17s 24ms/step - loss: 0.6621 - accuracy: 0.7593 - f1_m: 0.7429 - precision_m: 0.8395 - recall_m: 0.6713 - val_loss: 0.5629 - val_accuracy: 0.7930 - val_f1_m: 0.7815 - val_precision_m: 0.8664 - val_recall_m: 0.7163\n",
            "Epoch 23/25\n",
            "721/721 [==============================] - 17s 24ms/step - loss: 0.6704 - accuracy: 0.7466 - f1_m: 0.7404 - precision_m: 0.8341 - recall_m: 0.6707 - val_loss: 0.5637 - val_accuracy: 0.7943 - val_f1_m: 0.7866 - val_precision_m: 0.8685 - val_recall_m: 0.7236\n",
            "Epoch 24/25\n",
            "721/721 [==============================] - 17s 24ms/step - loss: 0.6476 - accuracy: 0.7609 - f1_m: 0.7475 - precision_m: 0.8371 - recall_m: 0.6808 - val_loss: 0.5788 - val_accuracy: 0.7868 - val_f1_m: 0.7755 - val_precision_m: 0.8734 - val_recall_m: 0.7019\n",
            "Epoch 25/25\n",
            "721/721 [==============================] - 17s 24ms/step - loss: 0.6444 - accuracy: 0.7611 - f1_m: 0.7494 - precision_m: 0.8380 - recall_m: 0.6831 - val_loss: 0.5645 - val_accuracy: 0.7993 - val_f1_m: 0.7814 - val_precision_m: 0.8628 - val_recall_m: 0.7188\n"
          ],
          "name": "stdout"
        }
      ]
    },
    {
      "cell_type": "code",
      "metadata": {
        "scrolled": true,
        "id": "C8o3b0Pn5KC2",
        "colab": {
          "base_uri": "https://localhost:8080/",
          "height": 1000
        },
        "outputId": "28b0f0b7-2f6b-417e-866d-a315c0209c55"
      },
      "source": [
        "# plot graphs from history\n",
        "print(history.history.keys())\n",
        "print(f'Accuracy: {history.history[\"accuracy\"][-1]}')\n",
        "print(f'loss: {history.history[\"loss\"][-1]}')\n",
        "print(f'f1_m: {history.history[\"f1_m\"][-1]}')\n",
        "print(f'precision_m: {history.history[\"precision_m\"][-1]}')\n",
        "print(f'recall_m: {history.history[\"recall_m\"][-1]}')\n",
        "\n",
        "plt.plot(history.history[\"accuracy\"], label='accuracy')\n",
        "plt.plot(history.history[\"val_accuracy\"], label='Validaion accuracy')\n",
        "plt.ylabel('accuracy')\n",
        "plt.xlabel('epoch')\n",
        "plt.legend(['train', 'val'])\n",
        "plt.show()\n",
        "\n",
        "plt.plot(history.history[\"f1_m\"], label='F1_score')\n",
        "plt.plot(history.history[\"val_f1_m\"], label='Validaion F1_score')\n",
        "plt.ylabel('F1_score')\n",
        "plt.xlabel('epoch')\n",
        "plt.legend(['train', 'val'])\n",
        "plt.show()\n",
        "\n",
        "plt.plot(history.history[\"precision_m\"], label='Precision')\n",
        "plt.plot(history.history[\"val_precision_m\"], label='Validaion Precision')\n",
        "plt.ylabel('Precision')\n",
        "plt.xlabel('epoch')\n",
        "plt.legend(['train', 'val'])\n",
        "plt.show()\n",
        "\n",
        "plt.plot(history.history[\"recall_m\"], label='Recall')\n",
        "plt.plot(history.history[\"val_recall_m\"], label='Validaion Recall')\n",
        "plt.ylabel('Recall')\n",
        "plt.xlabel('epoch')\n",
        "plt.legend(['train', 'val'])\n",
        "plt.show()"
      ],
      "execution_count": 25,
      "outputs": [
        {
          "output_type": "stream",
          "text": [
            "dict_keys(['loss', 'accuracy', 'f1_m', 'precision_m', 'recall_m', 'val_loss', 'val_accuracy', 'val_f1_m', 'val_precision_m', 'val_recall_m', 'lr'])\n",
            "Accuracy: 0.7599167823791504\n",
            "loss: 0.6516247987747192\n",
            "f1_m: 0.7511606812477112\n",
            "precision_m: 0.8396969437599182\n",
            "recall_m: 0.6846056580543518\n"
          ],
          "name": "stdout"
        },
        {
          "output_type": "display_data",
          "data": {
            "image/png": "[encoded data removed]",
            "text/plain": [
              "<Figure size 432x288 with 1 Axes>"
            ]
          },
          "metadata": {
            "tags": [],
            "needs_background": "light"
          }
        },
        {
          "output_type": "display_data",
          "data": {
            "image/png": "[encoded data removed]",
            "text/plain": [
              "<Figure size 432x288 with 1 Axes>"
            ]
          },
          "metadata": {
            "tags": [],
            "needs_background": "light"
          }
        },
        {
          "output_type": "display_data",
          "data": {
            "image/png": "[encoded data removed]",
            "text/plain": [
              "<Figure size 432x288 with 1 Axes>"
            ]
          },
          "metadata": {
            "tags": [],
            "needs_background": "light"
          }
        },
        {
          "output_type": "display_data",
          "data": {
            "image/png": "[encoded data removed]",
            "text/plain": [
              "<Figure size 432x288 with 1 Axes>"
            ]
          },
          "metadata": {
            "tags": [],
            "needs_background": "light"
          }
        }
      ]
    },
    {
      "cell_type": "code",
      "metadata": {
        "id": "52HsGwKn5KC2",
        "colab": {
          "base_uri": "https://localhost:8080/"
        },
        "outputId": "9520c5fb-44de-4bb4-9ae8-37591363eb04"
      },
      "source": [
        "# Evaluate model\n",
        "test_eval = model.evaluate(x_test, y_test, verbose=1, return_dict=True)\n",
        "validation_eval = model.evaluate(x_validate, y_validate, verbose=1, return_dict=True)\n",
        "# model.save(\"model.h5\")"
      ],
      "execution_count": 26,
      "outputs": [
        {
          "output_type": "stream",
          "text": [
            "63/63 [==============================] - 1s 10ms/step - loss: 0.6400 - accuracy: 0.7609 - f1_m: 0.7654 - precision_m: 0.8477 - recall_m: 0.7002\n",
            "26/26 [==============================] - 0s 8ms/step - loss: 0.5645 - accuracy: 0.7993 - f1_m: 0.7814 - precision_m: 0.8628 - recall_m: 0.7188\n"
          ],
          "name": "stdout"
        }
      ]
    },
    {
      "cell_type": "code",
      "metadata": {
        "scrolled": true,
        "id": "0tC4GrGl5KC2",
        "colab": {
          "base_uri": "https://localhost:8080/"
        },
        "outputId": "6db52427-281b-4f14-9ba0-0e0285c02e3a"
      },
      "source": [
        "for i, j in validation_eval.items():\n",
        "    print(f'{i}: {j}')"
      ],
      "execution_count": 27,
      "outputs": [
        {
          "output_type": "stream",
          "text": [
            "loss: 0.5644752979278564\n",
            "accuracy: 0.7992518544197083\n",
            "f1_m: 0.7813800573348999\n",
            "precision_m: 0.8628237247467041\n",
            "recall_m: 0.71875\n"
          ],
          "name": "stdout"
        }
      ]
    },
    {
      "cell_type": "code",
      "metadata": {
        "scrolled": false,
        "id": "BPNXGVMO5KC3",
        "colab": {
          "base_uri": "https://localhost:8080/"
        },
        "outputId": "909b1607-7d34-472d-87bd-03503d254510"
      },
      "source": [
        "for i, j in test_eval.items():\n",
        "    print(f'{i}: {j}')"
      ],
      "execution_count": 28,
      "outputs": [
        {
          "output_type": "stream",
          "text": [
            "loss: 0.6400395631790161\n",
            "accuracy: 0.7608587145805359\n",
            "f1_m: 0.7653648853302002\n",
            "precision_m: 0.8476622700691223\n",
            "recall_m: 0.7001879811286926\n"
          ],
          "name": "stdout"
        }
      ]
    },
    {
      "cell_type": "code",
      "metadata": {
        "id": "3DqyE7-W5KC3",
        "colab": {
          "base_uri": "https://localhost:8080/"
        },
        "outputId": "0f874b93-9d10-480a-b63c-09a7891d8f66"
      },
      "source": [
        "# Get predictions for plotting the confusion matrix\n",
        "predictions = model.predict(x_test, verbose=1)"
      ],
      "execution_count": 29,
      "outputs": [
        {
          "output_type": "stream",
          "text": [
            "63/63 [==============================] - 1s 6ms/step\n"
          ],
          "name": "stdout"
        }
      ]
    },
    {
      "cell_type": "code",
      "metadata": {
        "scrolled": true,
        "id": "pFXzuzzh5KC3",
        "colab": {
          "base_uri": "https://localhost:8080/",
          "height": 269
        },
        "outputId": "bec7dc41-3788-422c-bd43-fb12c280b013"
      },
      "source": [
        "# Plot the confusion matrix\n",
        "predictions = np.argmax(predictions, axis=0)\n",
        "y_test = np.argmax(y_test, axis=0)\n",
        "\n",
        "sns.heatmap(confusion_matrix(y_test, predictions), annot=True, cmap = 'coolwarm', fmt='.0f')\n",
        "plt.show()"
      ],
      "execution_count": 30,
      "outputs": [
        {
          "output_type": "display_data",
          "data": {
            "image/png": "[encoded data removed]",
            "text/plain": [
              "<Figure size 432x288 with 2 Axes>"
            ]
          },
          "metadata": {
            "tags": [],
            "needs_background": "light"
          }
        }
      ]
    }
  ]
}