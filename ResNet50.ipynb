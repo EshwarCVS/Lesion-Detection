{
  "nbformat": 4,
  "nbformat_minor": 0,
  "metadata": {
    "colab": {
      "name": "ResNet50 (1).ipynb",
      "provenance": [],
      "collapsed_sections": []
    },
    "kernelspec": {
      "display_name": "Python 3",
      "language": "python",
      "name": "python3"
    },
    "language_info": {
      "codemirror_mode": {
        "name": "ipython",
        "version": 3
      },
      "file_extension": ".py",
      "mimetype": "text/x-python",
      "name": "python",
      "nbconvert_exporter": "python",
      "pygments_lexer": "ipython3",
      "version": "3.9.4"
    }
  },
  "cells": [
    {
      "cell_type": "code",
      "metadata": {
        "id": "Ewa5uOvRx-Tt"
      },
      "source": [
        "import os \n",
        "import zipfile \n",
        "\n",
        "import tensorflow as tf \n",
        "from tensorflow.keras.preprocessing.image import ImageDataGenerator \n",
        "from tensorflow.keras import layers\n",
        "from tensorflow.keras.layers import Dense, Input, Dropout,Flatten, Conv2D, MaxPool2D\n",
        "from tensorflow.keras.layers import BatchNormalization, Activation, MaxPooling2D\n",
        "from tensorflow.keras.models import Model, Sequential\n",
        "from tensorflow.keras.callbacks import EarlyStopping, ReduceLROnPlateau\n",
        "from tensorflow.keras.optimizers import Adam\n",
        "\n",
        "import matplotlib.pyplot as plt\n",
        "import numpy as np\n",
        "import pandas as pd\n",
        "\n",
        "import torchvision\n",
        "import torchvision.transforms as transforms\n",
        "\n",
        "import glob\n",
        "from PIL import Image\n",
        "\n",
        "from sklearn.model_selection import train_test_split\n",
        "\n",
        "from keras.utils.np_utils import to_categorical # convert to one-hot-encoding\n",
        "\n",
        "from IPython.display import clear_output\n",
        "from tqdm import tqdm\n",
        "\n",
        "from sklearn.metrics import confusion_matrix\n",
        "import seaborn as sns\n",
        "\n",
        "from keras import backend as K\n",
        "\n",
        "from sklearn.utils import resample"
      ],
      "execution_count": null,
      "outputs": []
    },
    {
      "cell_type": "code",
      "metadata": {
        "colab": {
          "base_uri": "https://localhost:8080/"
        },
        "id": "sOSKOnc3OkVX",
        "outputId": "4fbbb31d-d662-4f39-ee8d-8a09a4a960de"
      },
      "source": [
        "from google.colab import drive\n",
        "drive.mount('/content/drive/')"
      ],
      "execution_count": null,
      "outputs": [
        {
          "output_type": "stream",
          "text": [
            "Mounted at /content/drive/\n"
          ],
          "name": "stdout"
        }
      ]
    },
    {
      "cell_type": "code",
      "metadata": {
        "id": "5HyWq_mhW75S"
      },
      "source": [
        "data_dir = \"images/\"\n",
        "metadata_path = \"HAM10000_metadata.csv\""
      ],
      "execution_count": null,
      "outputs": []
    },
    {
      "cell_type": "code",
      "metadata": {
        "id": "Gf2eWAukQrVe"
      },
      "source": [
        "#Lesion Dictionary\n",
        "lesion_type_dict = {\n",
        "    'nv': 'Melanocytic nevi',\n",
        "    'mel': 'Melanoma',\n",
        "    'bkl': 'Benign keratosis-like lesions ',\n",
        "    'bcc': 'Basal cell carcinoma',\n",
        "    'akiec': 'Actinic keratoses',\n",
        "    'vasc': 'Vascular lesions',\n",
        "    'df': 'Dermatofibroma'\n",
        "}"
      ],
      "execution_count": null,
      "outputs": []
    },
    {
      "cell_type": "code",
      "metadata": {
        "id": "94yb4THvUg0V"
      },
      "source": [
        "# Read metadata into dataframe\n",
        "metadata = pd.read_csv(metadata_path)\n",
        "skin_df = metadata"
      ],
      "execution_count": null,
      "outputs": []
    },
    {
      "cell_type": "code",
      "metadata": {
        "id": "4_mBJiMCUg0V"
      },
      "source": [
        "# Dictionary for Image Names\n",
        "imageid_path_dict = {os.path.splitext(os.path.basename(x))[0]: x for x in glob.glob(os.path.join(data_dir, '*.jpg'))}"
      ],
      "execution_count": null,
      "outputs": []
    },
    {
      "cell_type": "code",
      "metadata": {
        "id": "v_IXoNZlUg0V"
      },
      "source": [
        "#Create useful Columns - Images Path, Lesion Type and Lesion Categorical Code\n",
        "skin_df['path'] = skin_df['image_id'].map(imageid_path_dict.get)\n",
        "skin_df['cell_type'] = skin_df['dx'].map(lesion_type_dict.get) \n",
        "skin_df['cell_type_idx'] = pd.Categorical(skin_df['cell_type']).codes"
      ],
      "execution_count": null,
      "outputs": []
    },
    {
      "cell_type": "code",
      "metadata": {
        "id": "SmV2F_UkUg0V",
        "outputId": "d7d20d4b-da23-405b-9a85-68608c5bddfc"
      },
      "source": [
        "# Lesion code dictionary\n",
        "lesion_code_dict = pd.Series(skin_df.dx.values,index=skin_df.cell_type_idx).to_dict()\n",
        "\n",
        "lesion_code_dict"
      ],
      "execution_count": null,
      "outputs": [
        {
          "output_type": "execute_result",
          "data": {
            "text/plain": [
              "{2: 'bkl', 4: 'nv', 3: 'df', 5: 'mel', 6: 'vasc', 1: 'bcc', 0: 'akiec'}"
            ]
          },
          "metadata": {
            "tags": []
          },
          "execution_count": 7
        }
      ]
    },
    {
      "cell_type": "code",
      "metadata": {
        "scrolled": true,
        "id": "GVFrPoEpUg0W",
        "outputId": "d56ef0f2-4758-4c9c-e137-58617f93c4ec"
      },
      "source": [
        "skin_df"
      ],
      "execution_count": null,
      "outputs": [
        {
          "output_type": "execute_result",
          "data": {
            "text/html": [
              "<div>\n",
              "<style scoped>\n",
              "    .dataframe tbody tr th:only-of-type {\n",
              "        vertical-align: middle;\n",
              "    }\n",
              "\n",
              "    .dataframe tbody tr th {\n",
              "        vertical-align: top;\n",
              "    }\n",
              "\n",
              "    .dataframe thead th {\n",
              "        text-align: right;\n",
              "    }\n",
              "</style>\n",
              "<table border=\"1\" class=\"dataframe\">\n",
              "  <thead>\n",
              "    <tr style=\"text-align: right;\">\n",
              "      <th></th>\n",
              "      <th>lesion_id</th>\n",
              "      <th>image_id</th>\n",
              "      <th>dx</th>\n",
              "      <th>dx_type</th>\n",
              "      <th>age</th>\n",
              "      <th>sex</th>\n",
              "      <th>localization</th>\n",
              "      <th>dataset</th>\n",
              "      <th>path</th>\n",
              "      <th>cell_type</th>\n",
              "      <th>cell_type_idx</th>\n",
              "    </tr>\n",
              "  </thead>\n",
              "  <tbody>\n",
              "    <tr>\n",
              "      <th>0</th>\n",
              "      <td>HAM_0000118</td>\n",
              "      <td>ISIC_0027419</td>\n",
              "      <td>bkl</td>\n",
              "      <td>histo</td>\n",
              "      <td>80.0</td>\n",
              "      <td>male</td>\n",
              "      <td>scalp</td>\n",
              "      <td>vidir_modern</td>\n",
              "      <td>images\\ISIC_0027419.jpg</td>\n",
              "      <td>Benign keratosis-like lesions</td>\n",
              "      <td>2</td>\n",
              "    </tr>\n",
              "    <tr>\n",
              "      <th>1</th>\n",
              "      <td>HAM_0000118</td>\n",
              "      <td>ISIC_0025030</td>\n",
              "      <td>bkl</td>\n",
              "      <td>histo</td>\n",
              "      <td>80.0</td>\n",
              "      <td>male</td>\n",
              "      <td>scalp</td>\n",
              "      <td>vidir_modern</td>\n",
              "      <td>images\\ISIC_0025030.jpg</td>\n",
              "      <td>Benign keratosis-like lesions</td>\n",
              "      <td>2</td>\n",
              "    </tr>\n",
              "    <tr>\n",
              "      <th>2</th>\n",
              "      <td>HAM_0002730</td>\n",
              "      <td>ISIC_0026769</td>\n",
              "      <td>bkl</td>\n",
              "      <td>histo</td>\n",
              "      <td>80.0</td>\n",
              "      <td>male</td>\n",
              "      <td>scalp</td>\n",
              "      <td>vidir_modern</td>\n",
              "      <td>images\\ISIC_0026769.jpg</td>\n",
              "      <td>Benign keratosis-like lesions</td>\n",
              "      <td>2</td>\n",
              "    </tr>\n",
              "    <tr>\n",
              "      <th>3</th>\n",
              "      <td>HAM_0002730</td>\n",
              "      <td>ISIC_0025661</td>\n",
              "      <td>bkl</td>\n",
              "      <td>histo</td>\n",
              "      <td>80.0</td>\n",
              "      <td>male</td>\n",
              "      <td>scalp</td>\n",
              "      <td>vidir_modern</td>\n",
              "      <td>images\\ISIC_0025661.jpg</td>\n",
              "      <td>Benign keratosis-like lesions</td>\n",
              "      <td>2</td>\n",
              "    </tr>\n",
              "    <tr>\n",
              "      <th>4</th>\n",
              "      <td>HAM_0001466</td>\n",
              "      <td>ISIC_0031633</td>\n",
              "      <td>bkl</td>\n",
              "      <td>histo</td>\n",
              "      <td>75.0</td>\n",
              "      <td>male</td>\n",
              "      <td>ear</td>\n",
              "      <td>vidir_modern</td>\n",
              "      <td>images\\ISIC_0031633.jpg</td>\n",
              "      <td>Benign keratosis-like lesions</td>\n",
              "      <td>2</td>\n",
              "    </tr>\n",
              "    <tr>\n",
              "      <th>...</th>\n",
              "      <td>...</td>\n",
              "      <td>...</td>\n",
              "      <td>...</td>\n",
              "      <td>...</td>\n",
              "      <td>...</td>\n",
              "      <td>...</td>\n",
              "      <td>...</td>\n",
              "      <td>...</td>\n",
              "      <td>...</td>\n",
              "      <td>...</td>\n",
              "      <td>...</td>\n",
              "    </tr>\n",
              "    <tr>\n",
              "      <th>10010</th>\n",
              "      <td>HAM_0002867</td>\n",
              "      <td>ISIC_0033084</td>\n",
              "      <td>akiec</td>\n",
              "      <td>histo</td>\n",
              "      <td>40.0</td>\n",
              "      <td>male</td>\n",
              "      <td>abdomen</td>\n",
              "      <td>vidir_modern</td>\n",
              "      <td>images\\ISIC_0033084.jpg</td>\n",
              "      <td>Actinic keratoses</td>\n",
              "      <td>0</td>\n",
              "    </tr>\n",
              "    <tr>\n",
              "      <th>10011</th>\n",
              "      <td>HAM_0002867</td>\n",
              "      <td>ISIC_0033550</td>\n",
              "      <td>akiec</td>\n",
              "      <td>histo</td>\n",
              "      <td>40.0</td>\n",
              "      <td>male</td>\n",
              "      <td>abdomen</td>\n",
              "      <td>vidir_modern</td>\n",
              "      <td>images\\ISIC_0033550.jpg</td>\n",
              "      <td>Actinic keratoses</td>\n",
              "      <td>0</td>\n",
              "    </tr>\n",
              "    <tr>\n",
              "      <th>10012</th>\n",
              "      <td>HAM_0002867</td>\n",
              "      <td>ISIC_0033536</td>\n",
              "      <td>akiec</td>\n",
              "      <td>histo</td>\n",
              "      <td>40.0</td>\n",
              "      <td>male</td>\n",
              "      <td>abdomen</td>\n",
              "      <td>vidir_modern</td>\n",
              "      <td>images\\ISIC_0033536.jpg</td>\n",
              "      <td>Actinic keratoses</td>\n",
              "      <td>0</td>\n",
              "    </tr>\n",
              "    <tr>\n",
              "      <th>10013</th>\n",
              "      <td>HAM_0000239</td>\n",
              "      <td>ISIC_0032854</td>\n",
              "      <td>akiec</td>\n",
              "      <td>histo</td>\n",
              "      <td>80.0</td>\n",
              "      <td>male</td>\n",
              "      <td>face</td>\n",
              "      <td>vidir_modern</td>\n",
              "      <td>images\\ISIC_0032854.jpg</td>\n",
              "      <td>Actinic keratoses</td>\n",
              "      <td>0</td>\n",
              "    </tr>\n",
              "    <tr>\n",
              "      <th>10014</th>\n",
              "      <td>HAM_0003521</td>\n",
              "      <td>ISIC_0032258</td>\n",
              "      <td>mel</td>\n",
              "      <td>histo</td>\n",
              "      <td>70.0</td>\n",
              "      <td>female</td>\n",
              "      <td>back</td>\n",
              "      <td>vidir_modern</td>\n",
              "      <td>images\\ISIC_0032258.jpg</td>\n",
              "      <td>Melanoma</td>\n",
              "      <td>5</td>\n",
              "    </tr>\n",
              "  </tbody>\n",
              "</table>\n",
              "<p>10015 rows × 11 columns</p>\n",
              "</div>"
            ],
            "text/plain": [
              "         lesion_id      image_id     dx dx_type   age     sex localization  \\\n",
              "0      HAM_0000118  ISIC_0027419    bkl   histo  80.0    male        scalp   \n",
              "1      HAM_0000118  ISIC_0025030    bkl   histo  80.0    male        scalp   \n",
              "2      HAM_0002730  ISIC_0026769    bkl   histo  80.0    male        scalp   \n",
              "3      HAM_0002730  ISIC_0025661    bkl   histo  80.0    male        scalp   \n",
              "4      HAM_0001466  ISIC_0031633    bkl   histo  75.0    male          ear   \n",
              "...            ...           ...    ...     ...   ...     ...          ...   \n",
              "10010  HAM_0002867  ISIC_0033084  akiec   histo  40.0    male      abdomen   \n",
              "10011  HAM_0002867  ISIC_0033550  akiec   histo  40.0    male      abdomen   \n",
              "10012  HAM_0002867  ISIC_0033536  akiec   histo  40.0    male      abdomen   \n",
              "10013  HAM_0000239  ISIC_0032854  akiec   histo  80.0    male         face   \n",
              "10014  HAM_0003521  ISIC_0032258    mel   histo  70.0  female         back   \n",
              "\n",
              "            dataset                     path                       cell_type  \\\n",
              "0      vidir_modern  images\\ISIC_0027419.jpg  Benign keratosis-like lesions    \n",
              "1      vidir_modern  images\\ISIC_0025030.jpg  Benign keratosis-like lesions    \n",
              "2      vidir_modern  images\\ISIC_0026769.jpg  Benign keratosis-like lesions    \n",
              "3      vidir_modern  images\\ISIC_0025661.jpg  Benign keratosis-like lesions    \n",
              "4      vidir_modern  images\\ISIC_0031633.jpg  Benign keratosis-like lesions    \n",
              "...             ...                      ...                             ...   \n",
              "10010  vidir_modern  images\\ISIC_0033084.jpg               Actinic keratoses   \n",
              "10011  vidir_modern  images\\ISIC_0033550.jpg               Actinic keratoses   \n",
              "10012  vidir_modern  images\\ISIC_0033536.jpg               Actinic keratoses   \n",
              "10013  vidir_modern  images\\ISIC_0032854.jpg               Actinic keratoses   \n",
              "10014  vidir_modern  images\\ISIC_0032258.jpg                        Melanoma   \n",
              "\n",
              "       cell_type_idx  \n",
              "0                  2  \n",
              "1                  2  \n",
              "2                  2  \n",
              "3                  2  \n",
              "4                  2  \n",
              "...              ...  \n",
              "10010              0  \n",
              "10011              0  \n",
              "10012              0  \n",
              "10013              0  \n",
              "10014              5  \n",
              "\n",
              "[10015 rows x 11 columns]"
            ]
          },
          "metadata": {
            "tags": []
          },
          "execution_count": 8
        }
      ]
    },
    {
      "cell_type": "code",
      "metadata": {
        "colab": {
          "base_uri": "https://localhost:8080/"
        },
        "id": "8pFORH3joGg2",
        "outputId": "c9160f06-8a88-4a3d-adb2-203f6bfc7f48"
      },
      "source": [
        "# Attach images to the skin_df Dataframe\n",
        "temp_arr, count = [], 0\n",
        "for path in tqdm(skin_df['path']): \n",
        "    #print(path)\n",
        "    temp_arr.append(np.asarray( Image.open(path).resize((100,75)) ))\n",
        "    count += 1\n",
        "  # print(f\"Processed images: {count}\")\n",
        "  # if count % 10 == 0: clear_output()\n",
        "\n",
        "skin_df['image'] = temp_arr\n",
        "\n",
        "\n",
        "# skin_df['image'] = skin_df['path'].map(lambda x: np.asarray(Image.open(x).resize((100,75))))"
      ],
      "execution_count": null,
      "outputs": [
        {
          "output_type": "stream",
          "text": [
            "100%|███████████████████████████████████████████████████████████████████████████| 10015/10015 [01:14<00:00, 134.09it/s]\n"
          ],
          "name": "stderr"
        }
      ]
    },
    {
      "cell_type": "code",
      "metadata": {
        "id": "raUm2J0PgXYL"
      },
      "source": [
        "# Separate the dataframe into Features and Targets data\n",
        "features = skin_df.drop(columns=['cell_type_idx','dx'],axis=1)\n",
        "target = skin_df['cell_type_idx']"
      ],
      "execution_count": null,
      "outputs": []
    },
    {
      "cell_type": "code",
      "metadata": {
        "id": "zqz87vudUg0W"
      },
      "source": [
        "# Create First Train and Test sets\n",
        "x_train_o, x_test_o, y_train_o, y_test_o = train_test_split(features, target, test_size=0.20, random_state=1)"
      ],
      "execution_count": null,
      "outputs": []
    },
    {
      "cell_type": "code",
      "metadata": {
        "id": "EZiHbgukUg0W"
      },
      "source": [
        "# Create image arrays from the train and test sets\n",
        "x_train = np.asarray(x_train_o['image'].tolist())\n",
        "x_test = np.asarray(x_test_o['image'].tolist())"
      ],
      "execution_count": null,
      "outputs": []
    },
    {
      "cell_type": "code",
      "metadata": {
        "scrolled": true,
        "id": "6KyHJVnMUg0W",
        "outputId": "f8cbb731-12a3-40a1-ee86-e31ce98b921a"
      },
      "source": [
        "# Class distribution before data augmentation\n",
        "train_value_counts = y_train_o.value_counts()\n",
        "print(train_value_counts)\n",
        "print(f'Total images: {train_value_counts.sum()}')"
      ],
      "execution_count": null,
      "outputs": [
        {
          "output_type": "stream",
          "text": [
            "4    5378\n",
            "5     891\n",
            "2     871\n",
            "1     418\n",
            "0     266\n",
            "6     110\n",
            "3      78\n",
            "Name: cell_type_idx, dtype: int64\n",
            "Total images: 8012\n"
          ],
          "name": "stdout"
        }
      ]
    },
    {
      "cell_type": "code",
      "metadata": {
        "id": "zFaa1RBfgE_B"
      },
      "source": [
        "# Data Augmentation\n",
        "# Image data generator is used to generate the possible versions of data as given below.\n",
        "\n",
        "dataaugment = ImageDataGenerator(\n",
        "        featurewise_center=False,  # set input mean to 0 over the dataset\n",
        "        samplewise_center=False,  # set each sample mean to 0\n",
        "        featurewise_std_normalization=False,  # divide inputs by std of the dataset\n",
        "        samplewise_std_normalization=False,  # divide each input by its std\n",
        "        zca_whitening=False,  # apply ZCA whitening\n",
        "        rotation_range=90,  # randomly rotate images in the range (degrees, 0 to 180)\n",
        "        zoom_range = 0.1, # Randomly zoom image \n",
        "        width_shift_range=0.1,  # randomly shift images horizontally (fraction of total width)\n",
        "        height_shift_range=0.1,  # randomly shift images vertically (fraction of total height)\n",
        "        horizontal_flip=True,  # randomly flip images\n",
        "        vertical_flip=True,  # randomly flip images\n",
        "        shear_range = 10\n",
        "    ) "
      ],
      "execution_count": null,
      "outputs": []
    },
    {
      "cell_type": "code",
      "metadata": {
        "id": "purc5f35Ug0X",
        "outputId": "c5da3412-c30f-4910-8264-9602d4915e76"
      },
      "source": [
        "# For each lesion code != 4, get the indices in y_train_o.\n",
        "# For the same indices in x_train_o, augment the image present in the row.\n",
        "reset_y_train_o = y_train_o.reset_index(drop=True)\n",
        "reset_index = reset_y_train_o.index\n",
        "\n",
        "print(len(y_train_o))"
      ],
      "execution_count": null,
      "outputs": [
        {
          "output_type": "stream",
          "text": [
            "8012\n"
          ],
          "name": "stdout"
        }
      ]
    },
    {
      "cell_type": "code",
      "metadata": {
        "id": "gJBH2z9uUg0X",
        "outputId": "dd51813f-25ae-4cd4-e903-45e86dfd4ae6"
      },
      "source": [
        "print(len(x_train))"
      ],
      "execution_count": null,
      "outputs": [
        {
          "output_type": "stream",
          "text": [
            "8012\n"
          ],
          "name": "stdout"
        }
      ]
    },
    {
      "cell_type": "code",
      "metadata": {
        "id": "f2A5aL0rUg0X",
        "outputId": "5d69ae82-4cb1-4025-a6fd-02a02b4becd4"
      },
      "source": [
        "# Class distribution after handling class imbalance\n",
        "train_value_counts = y_train_o.value_counts()\n",
        "print(train_value_counts)\n",
        "print(f'Total images: {train_value_counts.sum()}')"
      ],
      "execution_count": null,
      "outputs": [
        {
          "output_type": "stream",
          "text": [
            "4    5378\n",
            "5     891\n",
            "2     871\n",
            "1     418\n",
            "0     266\n",
            "6     110\n",
            "3      78\n",
            "Name: cell_type_idx, dtype: int64\n",
            "Total images: 8012\n"
          ],
          "name": "stdout"
        }
      ]
    },
    {
      "cell_type": "code",
      "metadata": {
        "id": "VvfAsDIGhnEx"
      },
      "source": [
        "# The normalisation is done using the training set Mean and Std. Deviation as reference\n",
        "x_train_mean = np.mean(x_train)\n",
        "x_train_std = np.std(x_train)\n",
        "\n",
        "x_train = (x_train - x_train_mean) / x_train_std\n",
        "x_test = (x_test - x_train_mean) / x_train_std"
      ],
      "execution_count": null,
      "outputs": []
    },
    {
      "cell_type": "code",
      "metadata": {
        "id": "UQ0EFbN5joCo"
      },
      "source": [
        "# Perform one-hot encoding on the labels\n",
        "y_train = to_categorical(y_train_o, num_classes = 7)\n",
        "y_test = to_categorical(y_test_o, num_classes = 7)"
      ],
      "execution_count": null,
      "outputs": []
    },
    {
      "cell_type": "code",
      "metadata": {
        "id": "vRrRWy_Njsnp"
      },
      "source": [
        "# Splitting training into Train and Validatation sets\n",
        "x_train, x_validate, y_train, y_validate = train_test_split(x_train, y_train, test_size = 0.1, random_state=1)\n",
        "\n",
        "# Reshaping the Images into 3 channels (RGB)\n",
        "# height = 75, width = 100, canal = 3\n",
        "x_train = x_train.reshape(x_train.shape[0], *(75, 100, 3))\n",
        "x_test = x_test.reshape(x_test.shape[0], *(75, 100, 3))\n",
        "x_validate = x_validate.reshape(x_validate.shape[0], *(75, 100, 3))"
      ],
      "execution_count": null,
      "outputs": []
    },
    {
      "cell_type": "code",
      "metadata": {
        "id": "eNT15rfMUg0Y",
        "outputId": "0d32a1e9-b6f4-41ac-b7ae-29ca1b2cd43e"
      },
      "source": [
        "# ResNet50\n",
        "from keras.applications.resnet50 import ResNet50\n",
        "input_shape = (75, 100, 3)\n",
        "num_classes = 7\n",
        "\n",
        "base_model = ResNet50(include_top=False, input_shape=(75,100, 3),pooling = 'avg', weights = 'imagenet');\n",
        "\n",
        "model = Sequential()\n",
        "model.add(base_model)\n",
        "model.add(Dropout(0.5))\n",
        "model.add(Dense(128, activation=\"relu\"))\n",
        "model.add(Dropout(0.5))\n",
        "model.add(Dense(num_classes, activation = 'softmax'))\n",
        "\n",
        "\n",
        "for layer in base_model.layers:\n",
        "    layer.trainable = True\n",
        "\n",
        "\n",
        "model.summary()\n"
      ],
      "execution_count": null,
      "outputs": [
        {
          "output_type": "stream",
          "text": [
            "Model: \"sequential\"\n",
            "_________________________________________________________________\n",
            "Layer (type)                 Output Shape              Param #   \n",
            "=================================================================\n",
            "resnet50 (Functional)        (None, 2048)              23587712  \n",
            "_________________________________________________________________\n",
            "dropout (Dropout)            (None, 2048)              0         \n",
            "_________________________________________________________________\n",
            "dense (Dense)                (None, 128)               262272    \n",
            "_________________________________________________________________\n",
            "dropout_1 (Dropout)          (None, 128)               0         \n",
            "_________________________________________________________________\n",
            "dense_1 (Dense)              (None, 7)                 903       \n",
            "=================================================================\n",
            "Total params: 23,850,887\n",
            "Trainable params: 23,797,767\n",
            "Non-trainable params: 53,120\n",
            "_________________________________________________________________\n"
          ],
          "name": "stdout"
        }
      ]
    },
    {
      "cell_type": "code",
      "metadata": {
        "id": "2FMwH470Ug0Y"
      },
      "source": [
        "# Define metrics \n",
        "\n",
        "def recall_m(y_true, y_pred):\n",
        "    true_positives = K.sum(K.round(K.clip(y_true * y_pred, 0, 1)))\n",
        "    possible_positives = K.sum(K.round(K.clip(y_true, 0, 1)))\n",
        "    recall = true_positives / (possible_positives + K.epsilon())\n",
        "    return recall\n",
        "\n",
        "def precision_m(y_true, y_pred):\n",
        "    true_positives = K.sum(K.round(K.clip(y_true * y_pred, 0, 1)))\n",
        "    predicted_positives = K.sum(K.round(K.clip(y_pred, 0, 1)))\n",
        "    precision = true_positives / (predicted_positives + K.epsilon())\n",
        "    return precision\n",
        "\n",
        "def f1_m(y_true, y_pred):\n",
        "    precision = precision_m(y_true, y_pred)\n",
        "    recall = recall_m(y_true, y_pred)\n",
        "    return 2*((precision*recall)/(precision+recall+K.epsilon()))"
      ],
      "execution_count": null,
      "outputs": []
    },
    {
      "cell_type": "code",
      "metadata": {
        "id": "HO0VpLVOUg0Y"
      },
      "source": [
        "# New baseline\n",
        "# Define the optimizer\n",
        "optimizer = Adam(learning_rate=0.001, \n",
        "                 beta_1=0.9, \n",
        "                 beta_2=0.999, \n",
        "                 # epsilon=None, \n",
        "                 decay=0.0, \n",
        "                 amsgrad=False)\n",
        "\n",
        "# Compile the model\n",
        "model.compile(optimizer = optimizer , loss = \"categorical_crossentropy\", metrics=[\"accuracy\", f1_m,precision_m, recall_m])\n",
        "\n",
        "# Set a learning rate annealer\n",
        "learning_rate_reduction = ReduceLROnPlateau(monitor='val_accuracy', \n",
        "                                            patience=3, \n",
        "                                            verbose=1, \n",
        "                                            factor=0.5, \n",
        "                                            min_lr=0.00001)"
      ],
      "execution_count": null,
      "outputs": []
    },
    {
      "cell_type": "code",
      "metadata": {
        "id": "5WSfybEBiz-W"
      },
      "source": [
        "x_train = np.asarray(x_train)\n",
        "y_train = np.asarray(y_train)\n",
        "x_validate = np.asarray(x_validate)\n",
        "y_validate = np.asarray(y_validate)"
      ],
      "execution_count": null,
      "outputs": []
    },
    {
      "cell_type": "code",
      "metadata": {
        "id": "U5Li0yT5Ug0Z",
        "outputId": "d37fab1d-a5b8-4d60-dae4-4eb56a1730e3"
      },
      "source": [
        "# Fit the model\n",
        "epochs = 25\n",
        "batch_size = 10\n",
        "history = model.fit_generator(dataaugment.flow(x_train,y_train, batch_size=batch_size),\n",
        "                             epochs = epochs, validation_data = (x_validate,y_validate),\n",
        "                             verbose = 1, steps_per_epoch=x_train.shape[0] // batch_size\n",
        "                             , callbacks=[learning_rate_reduction])"
      ],
      "execution_count": null,
      "outputs": [
        {
          "output_type": "stream",
          "text": [
            "C:\\Users\\pshar\\AppData\\Roaming\\Python\\Python39\\site-packages\\tensorflow\\python\\keras\\engine\\training.py:1945: UserWarning: `Model.fit_generator` is deprecated and will be removed in a future version. Please use `Model.fit`, which supports generators.\n",
            "  warnings.warn('`Model.fit_generator` is deprecated and '\n"
          ],
          "name": "stderr"
        },
        {
          "output_type": "stream",
          "text": [
            "Epoch 1/25\n",
            "721/721 [==============================] - 767s 1s/step - loss: 1.1363 - accuracy: 0.6583 - f1_m: 0.6096 - precision_m: 0.8147 - recall_m: 0.5003 - val_loss: 0.9343 - val_accuracy: 0.6808 - val_f1_m: 0.6774 - val_precision_m: 0.8389 - val_recall_m: 0.5721\n",
            "Epoch 2/25\n",
            "721/721 [==============================] - 687s 953ms/step - loss: 0.9996 - accuracy: 0.6688 - f1_m: 0.6402 - precision_m: 0.8200 - recall_m: 0.5358 - val_loss: 7.9443 - val_accuracy: 0.6808 - val_f1_m: 0.6986 - val_precision_m: 0.8081 - val_recall_m: 0.6202\n",
            "Epoch 3/25\n",
            "721/721 [==============================] - 710s 985ms/step - loss: 0.9743 - accuracy: 0.6721 - f1_m: 0.6545 - precision_m: 0.8150 - recall_m: 0.5559 - val_loss: 5.2495 - val_accuracy: 0.6796 - val_f1_m: 0.6251 - val_precision_m: 0.8812 - val_recall_m: 0.4868\n",
            "Epoch 4/25\n",
            "721/721 [==============================] - 616s 854ms/step - loss: 0.9747 - accuracy: 0.6738 - f1_m: 0.6462 - precision_m: 0.8096 - recall_m: 0.5465 - val_loss: 1.5079 - val_accuracy: 0.6895 - val_f1_m: 0.7019 - val_precision_m: 0.7858 - val_recall_m: 0.6382\n",
            "Epoch 5/25\n",
            "721/721 [==============================] - 613s 850ms/step - loss: 0.9248 - accuracy: 0.6806 - f1_m: 0.6716 - precision_m: 0.8164 - recall_m: 0.5770 - val_loss: 0.8837 - val_accuracy: 0.6945 - val_f1_m: 0.6768 - val_precision_m: 0.8882 - val_recall_m: 0.5493\n",
            "Epoch 6/25\n",
            "721/721 [==============================] - 615s 854ms/step - loss: 0.9490 - accuracy: 0.6774 - f1_m: 0.6640 - precision_m: 0.8120 - recall_m: 0.5691 - val_loss: 1.1453 - val_accuracy: 0.7157 - val_f1_m: 0.7116 - val_precision_m: 0.8163 - val_recall_m: 0.6358\n",
            "Epoch 7/25\n",
            "721/721 [==============================] - 614s 851ms/step - loss: 0.9173 - accuracy: 0.6784 - f1_m: 0.6678 - precision_m: 0.8160 - recall_m: 0.5732 - val_loss: 0.8817 - val_accuracy: 0.7107 - val_f1_m: 0.7084 - val_precision_m: 0.8051 - val_recall_m: 0.6370\n",
            "Epoch 8/25\n",
            "721/721 [==============================] - 620s 860ms/step - loss: 0.8963 - accuracy: 0.6834 - f1_m: 0.6784 - precision_m: 0.8159 - recall_m: 0.5881 - val_loss: 0.8060 - val_accuracy: 0.7157 - val_f1_m: 0.7048 - val_precision_m: 0.8458 - val_recall_m: 0.6082\n",
            "Epoch 9/25\n",
            "721/721 [==============================] - 648s 899ms/step - loss: 0.9008 - accuracy: 0.6845 - f1_m: 0.6719 - precision_m: 0.8158 - recall_m: 0.5779 - val_loss: 1.1369 - val_accuracy: 0.7032 - val_f1_m: 0.6893 - val_precision_m: 0.8885 - val_recall_m: 0.5673\n",
            "\n",
            "Epoch 00009: ReduceLROnPlateau reducing learning rate to 0.0005000000237487257.\n",
            "Epoch 10/25\n",
            "721/721 [==============================] - 654s 907ms/step - loss: 0.8454 - accuracy: 0.6975 - f1_m: 0.6899 - precision_m: 0.8238 - recall_m: 0.6004 - val_loss: 0.7710 - val_accuracy: 0.7282 - val_f1_m: 0.6999 - val_precision_m: 0.8744 - val_recall_m: 0.5877\n",
            "Epoch 11/25\n",
            "721/721 [==============================] - 623s 864ms/step - loss: 0.8259 - accuracy: 0.6996 - f1_m: 0.6942 - precision_m: 0.8264 - recall_m: 0.6046 - val_loss: 0.7805 - val_accuracy: 0.7232 - val_f1_m: 0.7102 - val_precision_m: 0.8537 - val_recall_m: 0.6118\n",
            "Epoch 12/25\n",
            "721/721 [==============================] - 654s 908ms/step - loss: 0.8088 - accuracy: 0.7000 - f1_m: 0.6943 - precision_m: 0.8340 - recall_m: 0.6018 - val_loss: 0.7364 - val_accuracy: 0.7244 - val_f1_m: 0.7116 - val_precision_m: 0.8898 - val_recall_m: 0.5962\n",
            "Epoch 13/25\n",
            "721/721 [==============================] - 637s 883ms/step - loss: 0.7921 - accuracy: 0.7107 - f1_m: 0.6972 - precision_m: 0.8294 - recall_m: 0.6094 - val_loss: 0.7392 - val_accuracy: 0.7344 - val_f1_m: 0.7090 - val_precision_m: 0.8826 - val_recall_m: 0.5962\n",
            "Epoch 14/25\n",
            "721/721 [==============================] - 601s 834ms/step - loss: 0.7971 - accuracy: 0.7160 - f1_m: 0.7053 - precision_m: 0.8317 - recall_m: 0.6203 - val_loss: 0.6978 - val_accuracy: 0.7581 - val_f1_m: 0.7261 - val_precision_m: 0.8806 - val_recall_m: 0.6214\n",
            "Epoch 15/25\n",
            "721/721 [==============================] - 598s 830ms/step - loss: 0.8023 - accuracy: 0.7147 - f1_m: 0.7020 - precision_m: 0.8245 - recall_m: 0.6189 - val_loss: 0.7197 - val_accuracy: 0.7394 - val_f1_m: 0.7329 - val_precision_m: 0.8365 - val_recall_m: 0.6562\n",
            "Epoch 16/25\n",
            "721/721 [==============================] - 601s 834ms/step - loss: 0.7792 - accuracy: 0.7215 - f1_m: 0.7089 - precision_m: 0.8302 - recall_m: 0.6259 - val_loss: 0.6797 - val_accuracy: 0.7506 - val_f1_m: 0.7467 - val_precision_m: 0.8604 - val_recall_m: 0.6635\n",
            "Epoch 17/25\n",
            "721/721 [==============================] - 599s 831ms/step - loss: 0.7635 - accuracy: 0.7279 - f1_m: 0.7160 - precision_m: 0.8351 - recall_m: 0.6343 - val_loss: 0.7082 - val_accuracy: 0.7282 - val_f1_m: 0.7093 - val_precision_m: 0.8263 - val_recall_m: 0.6250\n",
            "\n",
            "Epoch 00017: ReduceLROnPlateau reducing learning rate to 0.0002500000118743628.\n",
            "Epoch 18/25\n",
            "721/721 [==============================] - 605s 838ms/step - loss: 0.7266 - accuracy: 0.7300 - f1_m: 0.7220 - precision_m: 0.8374 - recall_m: 0.6415 - val_loss: 0.7081 - val_accuracy: 0.7269 - val_f1_m: 0.7128 - val_precision_m: 0.8632 - val_recall_m: 0.6106\n",
            "Epoch 19/25\n",
            "721/721 [==============================] - 597s 827ms/step - loss: 0.7374 - accuracy: 0.7337 - f1_m: 0.7216 - precision_m: 0.8315 - recall_m: 0.6442 - val_loss: 0.6510 - val_accuracy: 0.7594 - val_f1_m: 0.7505 - val_precision_m: 0.8588 - val_recall_m: 0.6707\n",
            "Epoch 20/25\n",
            "721/721 [==============================] - 597s 828ms/step - loss: 0.7223 - accuracy: 0.7366 - f1_m: 0.7259 - precision_m: 0.8386 - recall_m: 0.6463 - val_loss: 0.6266 - val_accuracy: 0.7643 - val_f1_m: 0.7540 - val_precision_m: 0.8949 - val_recall_m: 0.6562\n",
            "Epoch 21/25\n",
            "721/721 [==============================] - 602s 834ms/step - loss: 0.7084 - accuracy: 0.7405 - f1_m: 0.7286 - precision_m: 0.8356 - recall_m: 0.6534 - val_loss: 0.6595 - val_accuracy: 0.7768 - val_f1_m: 0.7482 - val_precision_m: 0.8584 - val_recall_m: 0.6695\n",
            "Epoch 22/25\n",
            "721/721 [==============================] - 606s 840ms/step - loss: 0.7042 - accuracy: 0.7452 - f1_m: 0.7327 - precision_m: 0.8373 - recall_m: 0.6587 - val_loss: 0.6500 - val_accuracy: 0.7681 - val_f1_m: 0.7630 - val_precision_m: 0.8776 - val_recall_m: 0.6791\n",
            "Epoch 23/25\n",
            "721/721 [==============================] - 600s 832ms/step - loss: 0.6835 - accuracy: 0.7462 - f1_m: 0.7350 - precision_m: 0.8394 - recall_m: 0.6609 - val_loss: 0.6236 - val_accuracy: 0.7706 - val_f1_m: 0.7628 - val_precision_m: 0.8748 - val_recall_m: 0.6803\n",
            "Epoch 24/25\n",
            "721/721 [==============================] - 599s 831ms/step - loss: 0.7006 - accuracy: 0.7442 - f1_m: 0.7353 - precision_m: 0.8393 - recall_m: 0.6613 - val_loss: 0.6408 - val_accuracy: 0.7581 - val_f1_m: 0.7573 - val_precision_m: 0.8581 - val_recall_m: 0.6815\n",
            "\n",
            "Epoch 00024: ReduceLROnPlateau reducing learning rate to 0.0001250000059371814.\n",
            "Epoch 25/25\n",
            "721/721 [==============================] - 598s 829ms/step - loss: 0.6898 - accuracy: 0.7473 - f1_m: 0.7354 - precision_m: 0.8355 - recall_m: 0.6634 - val_loss: 0.6224 - val_accuracy: 0.7618 - val_f1_m: 0.7565 - val_precision_m: 0.8594 - val_recall_m: 0.6803\n"
          ],
          "name": "stdout"
        }
      ]
    },
    {
      "cell_type": "code",
      "metadata": {
        "scrolled": true,
        "id": "7rdN3jcyUg0Z",
        "outputId": "d0aaa125-db14-4157-fe17-8272ffb26809"
      },
      "source": [
        "# plot graphs from history\n",
        "print(history.history.keys())\n",
        "print(f'Accuracy: {history.history[\"accuracy\"][-1]}')\n",
        "print(f'loss: {history.history[\"loss\"][-1]}')\n",
        "print(f'f1_m: {history.history[\"f1_m\"][-1]}')\n",
        "print(f'precision_m: {history.history[\"precision_m\"][-1]}')\n",
        "print(f'recall_m: {history.history[\"recall_m\"][-1]}')\n",
        "\n",
        "plt.plot(history.history[\"accuracy\"], label='accuracy')\n",
        "plt.plot(history.history[\"val_accuracy\"], label='Validaion accuracy')\n",
        "plt.ylabel('accuracy')\n",
        "plt.xlabel('epoch')\n",
        "plt.legend(['train', 'val'])\n",
        "plt.show()\n",
        "\n",
        "plt.plot(history.history[\"f1_m\"], label='F1_score')\n",
        "plt.plot(history.history[\"val_f1_m\"], label='Validaion F1_score')\n",
        "plt.ylabel('F1_score')\n",
        "plt.xlabel('epoch')\n",
        "plt.legend(['train', 'val'])\n",
        "plt.show()\n",
        "\n",
        "plt.plot(history.history[\"precision_m\"], label='Precision')\n",
        "plt.plot(history.history[\"val_precision_m\"], label='Validaion Precision')\n",
        "plt.ylabel('Precision')\n",
        "plt.xlabel('epoch')\n",
        "plt.legend(['train', 'val'])\n",
        "plt.show()\n",
        "\n",
        "plt.plot(history.history[\"recall_m\"], label='Recall')\n",
        "plt.plot(history.history[\"val_recall_m\"], label='Validaion Recall')\n",
        "plt.ylabel('Recall')\n",
        "plt.xlabel('epoch')\n",
        "plt.legend(['train', 'val'])\n",
        "plt.show()"
      ],
      "execution_count": null,
      "outputs": [
        {
          "output_type": "stream",
          "text": [
            "dict_keys(['loss', 'accuracy', 'f1_m', 'precision_m', 'recall_m', 'val_loss', 'val_accuracy', 'val_f1_m', 'val_precision_m', 'val_recall_m', 'lr'])\n",
            "Accuracy: 0.7472954392433167\n",
            "loss: 0.689801812171936\n",
            "f1_m: 0.7354151606559753\n",
            "precision_m: 0.8354945182800293\n",
            "recall_m: 0.6633846759796143\n"
          ],
          "name": "stdout"
        },
        {
          "output_type": "display_data",
          "data": {
            "image/png": "[encoded data removed]",
            "text/plain": [
              "<Figure size 432x288 with 1 Axes>"
            ]
          },
          "metadata": {
            "tags": [],
            "needs_background": "light"
          }
        },
        {
          "output_type": "display_data",
          "data": {
            "image/png": "[encoded data removed]",
            "text/plain": [
              "<Figure size 432x288 with 1 Axes>"
            ]
          },
          "metadata": {
            "tags": [],
            "needs_background": "light"
          }
        },
        {
          "output_type": "display_data",
          "data": {
            "image/png": "[encoded data removed]",
            "text/plain": [
              "<Figure size 432x288 with 1 Axes>"
            ]
          },
          "metadata": {
            "tags": [],
            "needs_background": "light"
          }
        },
        {
          "output_type": "display_data",
          "data": {
            "image/png": "[encoded data removed]",
            "text/plain": [
              "<Figure size 432x288 with 1 Axes>"
            ]
          },
          "metadata": {
            "tags": [],
            "needs_background": "light"
          }
        }
      ]
    },
    {
      "cell_type": "code",
      "metadata": {
        "id": "K7wsmhwcUg0a",
        "outputId": "cdaa3b89-2d94-4db9-eac8-3f9aa6f05942"
      },
      "source": [
        "# Evaluate model\n",
        "test_eval = model.evaluate(x_test, y_test, verbose=1, return_dict=True)\n",
        "validation_eval = model.evaluate(x_validate, y_validate, verbose=1, return_dict=True)\n",
        "# model.save(\"model.h5\")"
      ],
      "execution_count": null,
      "outputs": [
        {
          "output_type": "stream",
          "text": [
            "63/63 [==============================] - 22s 349ms/step - loss: 0.6498 - accuracy: 0.7693 - f1_m: 0.7572 - precision_m: 0.8591 - recall_m: 0.6795\n",
            "26/26 [==============================] - 9s 335ms/step - loss: 0.6224 - accuracy: 0.7618 - f1_m: 0.7565 - precision_m: 0.8594 - recall_m: 0.6803\n"
          ],
          "name": "stdout"
        }
      ]
    },
    {
      "cell_type": "code",
      "metadata": {
        "scrolled": true,
        "id": "QfZQ2PGWUg0a",
        "outputId": "ccb933c7-8bc3-41e0-d551-f64ce13b3685"
      },
      "source": [
        "for i, j in validation_eval.items():\n",
        "    print(f'{i}: {j}')"
      ],
      "execution_count": null,
      "outputs": [
        {
          "output_type": "stream",
          "text": [
            "loss: 0.6223573684692383\n",
            "accuracy: 0.7618454098701477\n",
            "f1_m: 0.7565236687660217\n",
            "precision_m: 0.8593626022338867\n",
            "recall_m: 0.6802884340286255\n"
          ],
          "name": "stdout"
        }
      ]
    },
    {
      "cell_type": "code",
      "metadata": {
        "id": "Y-hhOzzoUg0a",
        "outputId": "489ec352-bbf4-448d-95db-d3a064cb8f95"
      },
      "source": [
        "for i, j in test_eval.items():\n",
        "    print(f'{i}: {j}')"
      ],
      "execution_count": null,
      "outputs": [
        {
          "output_type": "stream",
          "text": [
            "loss: 0.6498482823371887\n",
            "accuracy: 0.7693459987640381\n",
            "f1_m: 0.7572252750396729\n",
            "precision_m: 0.8591374754905701\n",
            "recall_m: 0.6795374155044556\n"
          ],
          "name": "stdout"
        }
      ]
    },
    {
      "cell_type": "code",
      "metadata": {
        "id": "vzfEjSC9Ug0a",
        "outputId": "42bccadc-21a5-4217-ec8c-f095dba6f536"
      },
      "source": [
        "# Get predictions for plotting the confusion matrix\n",
        "predictions = model.predict(x_test, verbose=1)"
      ],
      "execution_count": null,
      "outputs": [
        {
          "output_type": "stream",
          "text": [
            "63/63 [==============================] - 23s 351ms/step\n"
          ],
          "name": "stdout"
        }
      ]
    },
    {
      "cell_type": "code",
      "metadata": {
        "scrolled": true,
        "id": "XgYz1fsWUg0a",
        "outputId": "0b2ec382-5392-46c0-cf8c-81638e5e9fc9"
      },
      "source": [
        "# Plot the confusion matrix\n",
        "predictions = np.argmax(predictions, axis=0)\n",
        "y_test = np.argmax(y_test, axis=0)\n",
        "\n",
        "sns.heatmap(confusion_matrix(y_test, predictions), annot=True, cmap = 'coolwarm', fmt='.0f')\n",
        "plt.show()"
      ],
      "execution_count": null,
      "outputs": [
        {
          "output_type": "display_data",
          "data": {
            "image/png": "[encoded data removed]",
            "text/plain": [
              "<Figure size 432x288 with 2 Axes>"
            ]
          },
          "metadata": {
            "tags": [],
            "needs_background": "light"
          }
        }
      ]
    }
  ]
}