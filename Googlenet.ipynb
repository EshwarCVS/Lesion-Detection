{
  "nbformat": 4,
  "nbformat_minor": 0,
  "metadata": {
    "colab": {
      "name": "CNN2.ipynb",
      "provenance": [],
      "collapsed_sections": []
    },
    "kernelspec": {
      "display_name": "Python 3",
      "language": "python",
      "name": "python3"
    },
    "language_info": {
      "codemirror_mode": {
        "name": "ipython",
        "version": 3
      },
      "file_extension": ".py",
      "mimetype": "text/x-python",
      "name": "python",
      "nbconvert_exporter": "python",
      "pygments_lexer": "ipython3",
      "version": "3.9.4"
    }
  },
  "cells": [
    {
      "cell_type": "code",
      "metadata": {
        "id": "Ewa5uOvRx-Tt"
      },
      "source": [
        "import os \n",
        "import zipfile \n",
        "\n",
        "import tensorflow as tf \n",
        "from tensorflow.keras.preprocessing.image import ImageDataGenerator \n",
        "from tensorflow.keras import layers\n",
        "from tensorflow.keras.layers import Dense, Input, Dropout,Flatten, Conv2D, MaxPool2D\n",
        "from tensorflow.keras.layers import BatchNormalization, Activation, MaxPooling2D\n",
        "from tensorflow.keras.models import Model, Sequential\n",
        "from tensorflow.keras.callbacks import EarlyStopping, ReduceLROnPlateau\n",
        "from tensorflow.keras.optimizers import Adam\n",
        "\n",
        "import matplotlib.pyplot as plt\n",
        "import numpy as np\n",
        "import pandas as pd\n",
        "\n",
        "import torchvision\n",
        "import torchvision.transforms as transforms\n",
        "\n",
        "import glob\n",
        "from PIL import Image\n",
        "\n",
        "from sklearn.model_selection import train_test_split\n",
        "\n",
        "from keras.utils.np_utils import to_categorical # convert to one-hot-encoding\n",
        "\n",
        "from IPython.display import clear_output\n",
        "from tqdm import tqdm\n",
        "\n",
        "from sklearn.metrics import confusion_matrix\n",
        "import seaborn as sns\n",
        "\n",
        "from keras import backend as K\n",
        "\n",
        "from sklearn.utils import resample"
      ],
      "execution_count": 12,
      "outputs": []
    },
    {
      "cell_type": "code",
      "metadata": {
        "colab": {
          "base_uri": "https://localhost:8080/"
        },
        "id": "sOSKOnc3OkVX",
        "outputId": "8abc8d52-d1f5-4412-ddbe-58faf735cc78"
      },
      "source": [
        "from google.colab import drive\n",
        "drive.mount('/content/drive/')"
      ],
      "execution_count": 13,
      "outputs": [
        {
          "output_type": "stream",
          "text": [
            "Drive already mounted at /content/drive/; to attempt to forcibly remount, call drive.mount(\"/content/drive/\", force_remount=True).\n"
          ],
          "name": "stdout"
        }
      ]
    },
    {
      "cell_type": "code",
      "metadata": {
        "id": "5HyWq_mhW75S"
      },
      "source": [
        "# data_dir = \"images/\"\n",
        "# metadata_path = \"HAM10000_metadata.csv\"\n",
        "data_dir = \"/content/drive/MyDrive/Colab Notebooks/images/\"\n",
        "metadata_path = \"/content/drive/MyDrive/Colab Notebooks/HAM10000_metadata.csv\""
      ],
      "execution_count": 14,
      "outputs": []
    },
    {
      "cell_type": "code",
      "metadata": {
        "id": "Gf2eWAukQrVe"
      },
      "source": [
        "#Lesion Dictionary\n",
        "lesion_type_dict = {\n",
        "    'nv': 'Melanocytic nevi',\n",
        "    'mel': 'Melanoma',\n",
        "    'bkl': 'Benign keratosis-like lesions ',\n",
        "    'bcc': 'Basal cell carcinoma',\n",
        "    'akiec': 'Actinic keratoses',\n",
        "    'vasc': 'Vascular lesions',\n",
        "    'df': 'Dermatofibroma'\n",
        "}"
      ],
      "execution_count": 15,
      "outputs": []
    },
    {
      "cell_type": "code",
      "metadata": {
        "id": "GEXRn0E25KCy"
      },
      "source": [
        "# Read metadata into dataframe\n",
        "metadata = pd.read_csv(metadata_path)\n",
        "skin_df = metadata"
      ],
      "execution_count": 16,
      "outputs": []
    },
    {
      "cell_type": "code",
      "metadata": {
        "id": "ZvxnWcZt5KCy"
      },
      "source": [
        "# Dictionary for Image Names\n",
        "imageid_path_dict = {os.path.splitext(os.path.basename(x))[0]: x for x in glob.glob(os.path.join(data_dir, '*.jpg'))}"
      ],
      "execution_count": 17,
      "outputs": []
    },
    {
      "cell_type": "code",
      "metadata": {
        "id": "VNqP0ahB5KCy"
      },
      "source": [
        "#Create useful Columns - Images Path, Lesion Type and Lesion Categorical Code\n",
        "skin_df['path'] = skin_df['image_id'].map(imageid_path_dict.get)\n",
        "skin_df['cell_type'] = skin_df['dx'].map(lesion_type_dict.get) \n",
        "skin_df['cell_type_idx'] = pd.Categorical(skin_df['cell_type']).codes"
      ],
      "execution_count": 18,
      "outputs": []
    },
    {
      "cell_type": "code",
      "metadata": {
        "colab": {
          "base_uri": "https://localhost:8080/"
        },
        "id": "0POOFz2V5KCz",
        "outputId": "59d87f92-eccd-4c6c-fdb8-9b8a64d7674e"
      },
      "source": [
        "# Lesion code dictionary\n",
        "lesion_code_dict = pd.Series(skin_df.dx.values,index=skin_df.cell_type_idx).to_dict()\n",
        "\n",
        "lesion_code_dict"
      ],
      "execution_count": 19,
      "outputs": [
        {
          "output_type": "execute_result",
          "data": {
            "text/plain": [
              "{0: 'akiec', 1: 'bcc', 2: 'bkl', 3: 'df', 4: 'nv', 5: 'mel', 6: 'vasc'}"
            ]
          },
          "metadata": {
            "tags": []
          },
          "execution_count": 19
        }
      ]
    },
    {
      "cell_type": "code",
      "metadata": {
        "colab": {
          "base_uri": "https://localhost:8080/",
          "height": 589
        },
        "id": "hqAIozEF5KCz",
        "scrolled": true,
        "outputId": "0c86ac15-709f-48ab-a95d-606002a579b6"
      },
      "source": [
        "skin_df"
      ],
      "execution_count": 20,
      "outputs": [
        {
          "output_type": "execute_result",
          "data": {
            "text/html": [
              "<div>\n",
              "<style scoped>\n",
              "    .dataframe tbody tr th:only-of-type {\n",
              "        vertical-align: middle;\n",
              "    }\n",
              "\n",
              "    .dataframe tbody tr th {\n",
              "        vertical-align: top;\n",
              "    }\n",
              "\n",
              "    .dataframe thead th {\n",
              "        text-align: right;\n",
              "    }\n",
              "</style>\n",
              "<table border=\"1\" class=\"dataframe\">\n",
              "  <thead>\n",
              "    <tr style=\"text-align: right;\">\n",
              "      <th></th>\n",
              "      <th>lesion_id</th>\n",
              "      <th>image_id</th>\n",
              "      <th>dx</th>\n",
              "      <th>dx_type</th>\n",
              "      <th>age</th>\n",
              "      <th>sex</th>\n",
              "      <th>localization</th>\n",
              "      <th>dataset</th>\n",
              "      <th>path</th>\n",
              "      <th>cell_type</th>\n",
              "      <th>cell_type_idx</th>\n",
              "    </tr>\n",
              "  </thead>\n",
              "  <tbody>\n",
              "    <tr>\n",
              "      <th>0</th>\n",
              "      <td>HAM_0000118</td>\n",
              "      <td>ISIC_0027419</td>\n",
              "      <td>bkl</td>\n",
              "      <td>histo</td>\n",
              "      <td>80.0</td>\n",
              "      <td>male</td>\n",
              "      <td>scalp</td>\n",
              "      <td>vidir_modern</td>\n",
              "      <td>/content/drive/MyDrive/Colab Notebooks/images/...</td>\n",
              "      <td>Benign keratosis-like lesions</td>\n",
              "      <td>2</td>\n",
              "    </tr>\n",
              "    <tr>\n",
              "      <th>1</th>\n",
              "      <td>HAM_0000118</td>\n",
              "      <td>ISIC_0025030</td>\n",
              "      <td>bkl</td>\n",
              "      <td>histo</td>\n",
              "      <td>80.0</td>\n",
              "      <td>male</td>\n",
              "      <td>scalp</td>\n",
              "      <td>vidir_modern</td>\n",
              "      <td>/content/drive/MyDrive/Colab Notebooks/images/...</td>\n",
              "      <td>Benign keratosis-like lesions</td>\n",
              "      <td>2</td>\n",
              "    </tr>\n",
              "    <tr>\n",
              "      <th>2</th>\n",
              "      <td>HAM_0002730</td>\n",
              "      <td>ISIC_0026769</td>\n",
              "      <td>bkl</td>\n",
              "      <td>histo</td>\n",
              "      <td>80.0</td>\n",
              "      <td>male</td>\n",
              "      <td>scalp</td>\n",
              "      <td>vidir_modern</td>\n",
              "      <td>/content/drive/MyDrive/Colab Notebooks/images/...</td>\n",
              "      <td>Benign keratosis-like lesions</td>\n",
              "      <td>2</td>\n",
              "    </tr>\n",
              "    <tr>\n",
              "      <th>3</th>\n",
              "      <td>HAM_0002730</td>\n",
              "      <td>ISIC_0025661</td>\n",
              "      <td>bkl</td>\n",
              "      <td>histo</td>\n",
              "      <td>80.0</td>\n",
              "      <td>male</td>\n",
              "      <td>scalp</td>\n",
              "      <td>vidir_modern</td>\n",
              "      <td>/content/drive/MyDrive/Colab Notebooks/images/...</td>\n",
              "      <td>Benign keratosis-like lesions</td>\n",
              "      <td>2</td>\n",
              "    </tr>\n",
              "    <tr>\n",
              "      <th>4</th>\n",
              "      <td>HAM_0001466</td>\n",
              "      <td>ISIC_0031633</td>\n",
              "      <td>bkl</td>\n",
              "      <td>histo</td>\n",
              "      <td>75.0</td>\n",
              "      <td>male</td>\n",
              "      <td>ear</td>\n",
              "      <td>vidir_modern</td>\n",
              "      <td>/content/drive/MyDrive/Colab Notebooks/images/...</td>\n",
              "      <td>Benign keratosis-like lesions</td>\n",
              "      <td>2</td>\n",
              "    </tr>\n",
              "    <tr>\n",
              "      <th>...</th>\n",
              "      <td>...</td>\n",
              "      <td>...</td>\n",
              "      <td>...</td>\n",
              "      <td>...</td>\n",
              "      <td>...</td>\n",
              "      <td>...</td>\n",
              "      <td>...</td>\n",
              "      <td>...</td>\n",
              "      <td>...</td>\n",
              "      <td>...</td>\n",
              "      <td>...</td>\n",
              "    </tr>\n",
              "    <tr>\n",
              "      <th>10010</th>\n",
              "      <td>HAM_0002867</td>\n",
              "      <td>ISIC_0033084</td>\n",
              "      <td>akiec</td>\n",
              "      <td>histo</td>\n",
              "      <td>40.0</td>\n",
              "      <td>male</td>\n",
              "      <td>abdomen</td>\n",
              "      <td>vidir_modern</td>\n",
              "      <td>/content/drive/MyDrive/Colab Notebooks/images/...</td>\n",
              "      <td>Actinic keratoses</td>\n",
              "      <td>0</td>\n",
              "    </tr>\n",
              "    <tr>\n",
              "      <th>10011</th>\n",
              "      <td>HAM_0002867</td>\n",
              "      <td>ISIC_0033550</td>\n",
              "      <td>akiec</td>\n",
              "      <td>histo</td>\n",
              "      <td>40.0</td>\n",
              "      <td>male</td>\n",
              "      <td>abdomen</td>\n",
              "      <td>vidir_modern</td>\n",
              "      <td>/content/drive/MyDrive/Colab Notebooks/images/...</td>\n",
              "      <td>Actinic keratoses</td>\n",
              "      <td>0</td>\n",
              "    </tr>\n",
              "    <tr>\n",
              "      <th>10012</th>\n",
              "      <td>HAM_0002867</td>\n",
              "      <td>ISIC_0033536</td>\n",
              "      <td>akiec</td>\n",
              "      <td>histo</td>\n",
              "      <td>40.0</td>\n",
              "      <td>male</td>\n",
              "      <td>abdomen</td>\n",
              "      <td>vidir_modern</td>\n",
              "      <td>/content/drive/MyDrive/Colab Notebooks/images/...</td>\n",
              "      <td>Actinic keratoses</td>\n",
              "      <td>0</td>\n",
              "    </tr>\n",
              "    <tr>\n",
              "      <th>10013</th>\n",
              "      <td>HAM_0000239</td>\n",
              "      <td>ISIC_0032854</td>\n",
              "      <td>akiec</td>\n",
              "      <td>histo</td>\n",
              "      <td>80.0</td>\n",
              "      <td>male</td>\n",
              "      <td>face</td>\n",
              "      <td>vidir_modern</td>\n",
              "      <td>/content/drive/MyDrive/Colab Notebooks/images/...</td>\n",
              "      <td>Actinic keratoses</td>\n",
              "      <td>0</td>\n",
              "    </tr>\n",
              "    <tr>\n",
              "      <th>10014</th>\n",
              "      <td>HAM_0003521</td>\n",
              "      <td>ISIC_0032258</td>\n",
              "      <td>mel</td>\n",
              "      <td>histo</td>\n",
              "      <td>70.0</td>\n",
              "      <td>female</td>\n",
              "      <td>back</td>\n",
              "      <td>vidir_modern</td>\n",
              "      <td>/content/drive/MyDrive/Colab Notebooks/images/...</td>\n",
              "      <td>Melanoma</td>\n",
              "      <td>5</td>\n",
              "    </tr>\n",
              "  </tbody>\n",
              "</table>\n",
              "<p>10015 rows × 11 columns</p>\n",
              "</div>"
            ],
            "text/plain": [
              "         lesion_id      image_id  ...                       cell_type cell_type_idx\n",
              "0      HAM_0000118  ISIC_0027419  ...  Benign keratosis-like lesions              2\n",
              "1      HAM_0000118  ISIC_0025030  ...  Benign keratosis-like lesions              2\n",
              "2      HAM_0002730  ISIC_0026769  ...  Benign keratosis-like lesions              2\n",
              "3      HAM_0002730  ISIC_0025661  ...  Benign keratosis-like lesions              2\n",
              "4      HAM_0001466  ISIC_0031633  ...  Benign keratosis-like lesions              2\n",
              "...            ...           ...  ...                             ...           ...\n",
              "10010  HAM_0002867  ISIC_0033084  ...               Actinic keratoses             0\n",
              "10011  HAM_0002867  ISIC_0033550  ...               Actinic keratoses             0\n",
              "10012  HAM_0002867  ISIC_0033536  ...               Actinic keratoses             0\n",
              "10013  HAM_0000239  ISIC_0032854  ...               Actinic keratoses             0\n",
              "10014  HAM_0003521  ISIC_0032258  ...                        Melanoma             5\n",
              "\n",
              "[10015 rows x 11 columns]"
            ]
          },
          "metadata": {
            "tags": []
          },
          "execution_count": 20
        }
      ]
    },
    {
      "cell_type": "code",
      "metadata": {
        "colab": {
          "base_uri": "https://localhost:8080/"
        },
        "id": "8pFORH3joGg2",
        "outputId": "5d0bc67b-eff2-40b3-98f3-a2eb03b8f155"
      },
      "source": [
        "# Attach images to the skin_df Dataframe\n",
        "temp_arr, count = [], 0\n",
        "for path in tqdm(skin_df['path']):\n",
        "  temp_arr.append(np.asarray( Image.open(path).resize((100,75)) ))\n",
        "  count += 1\n",
        "  # print(f\"Processed images: {count}\")\n",
        "  # if count % 10 == 0: clear_output()\n",
        "\n",
        "skin_df['image'] = temp_arr\n",
        "\n",
        "\n",
        "# skin_df['image'] = skin_df['path'].map(lambda x: np.asarray(Image.open(x).resize((100,75))))"
      ],
      "execution_count": 21,
      "outputs": [
        {
          "output_type": "stream",
          "text": [
            "100%|██████████| 10015/10015 [02:19<00:00, 71.85it/s]\n"
          ],
          "name": "stderr"
        }
      ]
    },
    {
      "cell_type": "code",
      "metadata": {
        "id": "raUm2J0PgXYL"
      },
      "source": [
        "# Separate the dataframe into Features and Targets data\n",
        "features = skin_df.drop(columns=['cell_type_idx','dx'],axis=1)\n",
        "target = skin_df['cell_type_idx']"
      ],
      "execution_count": 23,
      "outputs": []
    },
    {
      "cell_type": "code",
      "metadata": {
        "colab": {
          "base_uri": "https://localhost:8080/"
        },
        "id": "yx5DqaAK5KCz",
        "outputId": "2c195c86-1a20-4245-d5c9-a91cb08e9410"
      },
      "source": [
        "# Create First Train and Test sets\n",
        "x_train_o, x_test_o, y_train_o, y_test_o = train_test_split(features, target, test_size=0.20, random_state=1)\n",
        "print(x_train_o.shape)\n",
        "print(y_train_o.shape)"
      ],
      "execution_count": 24,
      "outputs": [
        {
          "output_type": "stream",
          "text": [
            "(8012, 10)\n",
            "(8012,)\n"
          ],
          "name": "stdout"
        }
      ]
    },
    {
      "cell_type": "code",
      "metadata": {
        "colab": {
          "base_uri": "https://localhost:8080/"
        },
        "id": "sbX83-Yp5KCz",
        "outputId": "0e25dd80-98fb-49d7-c738-977594fdb1e0"
      },
      "source": [
        "# Create image arrays from the train and test sets\n",
        "x_train = np.asarray(x_train_o['image'].tolist())\n",
        "x_test = np.asarray(x_test_o['image'].tolist())\n",
        "\n",
        "print(x_train.shape)\n",
        "print(x_test.shape)"
      ],
      "execution_count": 25,
      "outputs": [
        {
          "output_type": "stream",
          "text": [
            "(8012, 75, 100, 3)\n",
            "(2003, 75, 100, 3)\n"
          ],
          "name": "stdout"
        }
      ]
    },
    {
      "cell_type": "code",
      "metadata": {
        "colab": {
          "base_uri": "https://localhost:8080/"
        },
        "id": "UUJSBhG-5KC0",
        "scrolled": true,
        "outputId": "8517665a-fc66-4a07-a1e5-e83ee7ce2ffe"
      },
      "source": [
        "# Class distribution before data augmentation\n",
        "train_value_counts = y_train_o.value_counts()\n",
        "print(train_value_counts)\n",
        "print(f'Total images: {train_value_counts.sum()}')"
      ],
      "execution_count": 26,
      "outputs": [
        {
          "output_type": "stream",
          "text": [
            "4    5378\n",
            "5     891\n",
            "2     871\n",
            "1     418\n",
            "0     266\n",
            "6     110\n",
            "3      78\n",
            "Name: cell_type_idx, dtype: int64\n",
            "Total images: 8012\n"
          ],
          "name": "stdout"
        }
      ]
    },
    {
      "cell_type": "code",
      "metadata": {
        "id": "zFaa1RBfgE_B"
      },
      "source": [
        "# Data Augmentation\n",
        "# Image data generator is used to generate the possible versions of data as given below.\n",
        "\n",
        "dataaugment = ImageDataGenerator(\n",
        "        featurewise_center=False,  # set input mean to 0 over the dataset\n",
        "        samplewise_center=False,  # set each sample mean to 0\n",
        "        featurewise_std_normalization=False,  # divide inputs by std of the dataset\n",
        "        samplewise_std_normalization=False,  # divide each input by its std\n",
        "        zca_whitening=False,  # apply ZCA whitening\n",
        "        rotation_range=90,  # randomly rotate images in the range (degrees, 0 to 180)\n",
        "        zoom_range = 0.1, # Randomly zoom image \n",
        "        width_shift_range=0.1,  # randomly shift images horizontally (fraction of total width)\n",
        "        height_shift_range=0.1,  # randomly shift images vertically (fraction of total height)\n",
        "        horizontal_flip=True,  # randomly flip images\n",
        "        vertical_flip=True,  # randomly flip images\n",
        "        shear_range = 10\n",
        "    ) "
      ],
      "execution_count": 27,
      "outputs": []
    },
    {
      "cell_type": "code",
      "metadata": {
        "colab": {
          "base_uri": "https://localhost:8080/"
        },
        "id": "1xOuqdLf5KC0",
        "outputId": "dee1a057-1b87-4c81-c5a3-e6176fa71c60"
      },
      "source": [
        "# For each lesion code != 4, get the indices in y_train_o.\n",
        "# For the same indices in x_train_o, augment the image present in the row.\n",
        "reset_y_train_o = y_train_o.reset_index(drop=True)\n",
        "reset_index = reset_y_train_o.index\n",
        "\n",
        "print(len(y_train_o))"
      ],
      "execution_count": 28,
      "outputs": [
        {
          "output_type": "stream",
          "text": [
            "8012\n"
          ],
          "name": "stdout"
        }
      ]
    },
    {
      "cell_type": "code",
      "metadata": {
        "id": "VvfAsDIGhnEx"
      },
      "source": [
        "# The normalisation is done using the training set Mean and Std. Deviation as reference\n",
        "x_train_mean = np.mean(x_train)\n",
        "x_train_std = np.std(x_train)\n",
        "\n",
        "x_train = (x_train - x_train_mean) / x_train_std\n",
        "x_test = (x_test - x_train_mean) / x_train_std"
      ],
      "execution_count": 29,
      "outputs": []
    },
    {
      "cell_type": "code",
      "metadata": {
        "id": "UQ0EFbN5joCo"
      },
      "source": [
        "# Perform one-hot encoding on the labels\n",
        "y_train = to_categorical(y_train_o, num_classes = 7)\n",
        "y_test = to_categorical(y_test_o, num_classes = 7)"
      ],
      "execution_count": 30,
      "outputs": []
    },
    {
      "cell_type": "code",
      "metadata": {
        "id": "vRrRWy_Njsnp"
      },
      "source": [
        "# Splitting training into Train and Validatation sets\n",
        "x_train, x_validate, y_train, y_validate = train_test_split(x_train, y_train, test_size = 0.1, random_state=1)\n",
        "\n",
        "# Reshaping the Images into 3 channels (RGB)\n",
        "# height = 75, width = 100, canal = 3\n",
        "x_train = x_train.reshape(x_train.shape[0], *(75, 100, 3))\n",
        "x_test = x_test.reshape(x_test.shape[0], *(75, 100, 3))\n",
        "x_validate = x_validate.reshape(x_validate.shape[0], *(75, 100, 3))"
      ],
      "execution_count": 31,
      "outputs": []
    },
    {
      "cell_type": "code",
      "metadata": {
        "colab": {
          "base_uri": "https://localhost:8080/",
          "height": 1000
        },
        "id": "Z9XLCqXO5KC1",
        "outputId": "759144a6-ff89-4ee7-fc23-af9fbc49b50c"
      },
      "source": [
        "from keras.layers import Concatenate, AveragePooling2D\n",
        "\n",
        "input_shape = (75, 100, 3)\n",
        "num_classes = 7\n",
        "\n",
        "# GoogleNet\n",
        "\n",
        "def inception(x, filters):\n",
        "    # 1x1\n",
        "    path1 = Conv2D(filters=filters[0], kernel_size=(1,1), strides=1, padding='same', activation='relu')(x)\n",
        "\n",
        "    # 1x1->3x3\n",
        "    path2 = Conv2D(filters=filters[1][0], kernel_size=(1,1), strides=1, padding='same', activation='relu')(x)\n",
        "    path2 = Conv2D(filters=filters[1][1], kernel_size=(3,3), strides=1, padding='same', activation='relu')(path2)\n",
        "    \n",
        "    # 1x1->5x5\n",
        "    path3 = Conv2D(filters=filters[2][0], kernel_size=(1,1), strides=1, padding='same', activation='relu')(x)\n",
        "    path3 = Conv2D(filters=filters[2][1], kernel_size=(5,5), strides=1, padding='same', activation='relu')(path3)\n",
        "\n",
        "    # 3x3->1x1\n",
        "    path4 = MaxPooling2D(pool_size=(3,3), strides=1, padding='same')(x)\n",
        "    path4 = Conv2D(filters=filters[3], kernel_size=(1,1), strides=1, padding='same', activation='relu')(path4)\n",
        "\n",
        "    return Concatenate(axis=-1)([path1,path2,path3,path4])\n",
        "\n",
        "\n",
        "def auxiliary(x, name=None):\n",
        "    layer = AveragePooling2D(pool_size=(5,5), strides=3, padding='valid')(x)\n",
        "    layer = Conv2D(filters=128, kernel_size=(1,1), strides=1, padding='same', activation='relu')(layer)\n",
        "    layer = Flatten()(layer)\n",
        "    layer = Dense(units=256, activation='relu')(layer)\n",
        "    layer = Dropout(0.4)(layer)\n",
        "    layer = Dense(units=num_classes, activation='softmax', name=name)(layer)\n",
        "    return layer\n",
        "\n",
        "\n",
        "def googlenet():\n",
        "    layer_in = Input(shape=input_shape)\n",
        "    \n",
        "    # stage-1\n",
        "    layer = Conv2D(filters=64, kernel_size=(7,7), strides=2, padding='same', activation='relu')(layer_in)\n",
        "    layer = MaxPooling2D(pool_size=(3,3), strides=2, padding='same')(layer)\n",
        "    layer = BatchNormalization()(layer)\n",
        "\n",
        "    # stage-2\n",
        "    layer = Conv2D(filters=64, kernel_size=(1,1), strides=1, padding='same', activation='relu')(layer)\n",
        "    layer = Conv2D(filters=192, kernel_size=(3,3), strides=1, padding='same', activation='relu')(layer)\n",
        "    layer = BatchNormalization()(layer)\n",
        "    layer = MaxPooling2D(pool_size=(3,3), strides=2, padding='same')(layer)\n",
        "\n",
        "    # stage-3\n",
        "    layer = inception(layer, [ 64,  (96,128), (16,32), 32]) #3a\n",
        "    layer = inception(layer, [128, (128,192), (32,96), 64]) #3b\n",
        "    layer = MaxPooling2D(pool_size=(3,3), strides=2, padding='same')(layer)\n",
        "    \n",
        "    # stage-4\n",
        "    layer = inception(layer, [192,  (96,208),  (16,48),  64]) #4a\n",
        "    aux1  = auxiliary(layer, name='aux1')\n",
        "    layer = inception(layer, [160, (112,224),  (24,64),  64]) #4b\n",
        "    layer = inception(layer, [128, (128,256),  (24,64),  64]) #4c\n",
        "    layer = inception(layer, [112, (144,288),  (32,64),  64]) #4d\n",
        "    aux2  = auxiliary(layer, name='aux2')\n",
        "    layer = inception(layer, [256, (160,320), (32,128), 128]) #4e\n",
        "    layer = MaxPooling2D(pool_size=(3,3), strides=2, padding='same')(layer)\n",
        "    \n",
        "    # stage-5\n",
        "    layer = inception(layer, [256, (160,320), (32,128), 128]) #5a\n",
        "    layer = inception(layer, [384, (192,384), (48,128), 128]) #5b\n",
        "    layer = AveragePooling2D(pool_size=(7,7), strides=1, padding='same')(layer)\n",
        "    \n",
        "    # stage-6\n",
        "    layer = Flatten()(layer)\n",
        "    layer = Dropout(0.4)(layer)\n",
        "    layer = Dense(units=256, activation='linear')(layer)\n",
        "    main = Dense(units=num_classes, activation='softmax', name='main')(layer)\n",
        "    \n",
        "    model = Model(inputs=layer_in, outputs=[main, aux1, aux2])\n",
        "    \n",
        "    return model\n",
        "\n",
        "\n",
        "# train model\n",
        "model = googlenet()\n",
        "model.summary()\n",
        "'''\n",
        "optimizer = ['Adam', 'SGD', 'Adam', 'SGD']\n",
        "epochs = [20, 30, 20, 30]\n",
        "history_all = {}\n",
        "\n",
        "for i in range(len(optimizer)):\n",
        "    print('Usnig optimizer: ' + optimizer[i] + ', Epoch: ' + str(epochs[i]))\n",
        "    \n",
        "    model.compile(loss='categorical_crossentropy', \n",
        "                  loss_weights={'main': 1.0, 'aux1': 0.3, 'aux2': 0.3},\n",
        "                  optimizer=optimizer[i], metrics=['accuracy'])\n",
        "    \n",
        "    train_history = model.fit_generator(\n",
        "            train_generator,\n",
        "            steps_per_epoch=EPOCH_STEPS,\n",
        "            epochs=epochs[i],\n",
        "            #callbacks=[checkpoint]\n",
        "            shuffle=True\n",
        "            )\n",
        "    \n",
        "    # save history    \n",
        "    if len(history_all) == 0:\n",
        "        history_all = {key: [] for key in train_history.history}\n",
        "    \n",
        "    for key in history_all:\n",
        "        history_all[key].extend(train_history.history[key])\n",
        "\n",
        "model.save(MODEL_NAME)\n",
        "'''\n",
        "# show train history\n",
        "'''\n",
        "def show_train_history(history, xlabel, ylabel, train):\n",
        "    for item in train:\n",
        "        plt.plot(history[item])\n",
        "    plt.title('Train History')\n",
        "    plt.xlabel(xlabel)\n",
        "    plt.ylabel(ylabel)\n",
        "    plt.legend(train, loc='upper left')\n",
        "    plt.show()\n",
        "\n",
        "show_train_history(history_all, 'Epoch', 'Accuracy', ('main_acc', 'aux1_acc', 'aux2_acc'))\n",
        "show_train_history(history_all, 'Epoch', 'Loss', ('main_loss', 'aux1_loss', 'aux2_loss'))\n",
        "'''"
      ],
      "execution_count": 32,
      "outputs": [
        {
          "output_type": "stream",
          "text": [
            "Model: \"model\"\n",
            "__________________________________________________________________________________________________\n",
            "Layer (type)                    Output Shape         Param #     Connected to                     \n",
            "==================================================================================================\n",
            "input_1 (InputLayer)            [(None, 75, 100, 3)] 0                                            \n",
            "__________________________________________________________________________________________________\n",
            "conv2d (Conv2D)                 (None, 38, 50, 64)   9472        input_1[0][0]                    \n",
            "__________________________________________________________________________________________________\n",
            "max_pooling2d (MaxPooling2D)    (None, 19, 25, 64)   0           conv2d[0][0]                     \n",
            "__________________________________________________________________________________________________\n",
            "batch_normalization (BatchNorma (None, 19, 25, 64)   256         max_pooling2d[0][0]              \n",
            "__________________________________________________________________________________________________\n",
            "conv2d_1 (Conv2D)               (None, 19, 25, 64)   4160        batch_normalization[0][0]        \n",
            "__________________________________________________________________________________________________\n",
            "conv2d_2 (Conv2D)               (None, 19, 25, 192)  110784      conv2d_1[0][0]                   \n",
            "__________________________________________________________________________________________________\n",
            "batch_normalization_1 (BatchNor (None, 19, 25, 192)  768         conv2d_2[0][0]                   \n",
            "__________________________________________________________________________________________________\n",
            "max_pooling2d_1 (MaxPooling2D)  (None, 10, 13, 192)  0           batch_normalization_1[0][0]      \n",
            "__________________________________________________________________________________________________\n",
            "conv2d_4 (Conv2D)               (None, 10, 13, 96)   18528       max_pooling2d_1[0][0]            \n",
            "__________________________________________________________________________________________________\n",
            "conv2d_6 (Conv2D)               (None, 10, 13, 16)   3088        max_pooling2d_1[0][0]            \n",
            "__________________________________________________________________________________________________\n",
            "max_pooling2d_2 (MaxPooling2D)  (None, 10, 13, 192)  0           max_pooling2d_1[0][0]            \n",
            "__________________________________________________________________________________________________\n",
            "conv2d_3 (Conv2D)               (None, 10, 13, 64)   12352       max_pooling2d_1[0][0]            \n",
            "__________________________________________________________________________________________________\n",
            "conv2d_5 (Conv2D)               (None, 10, 13, 128)  110720      conv2d_4[0][0]                   \n",
            "__________________________________________________________________________________________________\n",
            "conv2d_7 (Conv2D)               (None, 10, 13, 32)   12832       conv2d_6[0][0]                   \n",
            "__________________________________________________________________________________________________\n",
            "conv2d_8 (Conv2D)               (None, 10, 13, 32)   6176        max_pooling2d_2[0][0]            \n",
            "__________________________________________________________________________________________________\n",
            "concatenate (Concatenate)       (None, 10, 13, 256)  0           conv2d_3[0][0]                   \n",
            "                                                                 conv2d_5[0][0]                   \n",
            "                                                                 conv2d_7[0][0]                   \n",
            "                                                                 conv2d_8[0][0]                   \n",
            "__________________________________________________________________________________________________\n",
            "conv2d_10 (Conv2D)              (None, 10, 13, 128)  32896       concatenate[0][0]                \n",
            "__________________________________________________________________________________________________\n",
            "conv2d_12 (Conv2D)              (None, 10, 13, 32)   8224        concatenate[0][0]                \n",
            "__________________________________________________________________________________________________\n",
            "max_pooling2d_3 (MaxPooling2D)  (None, 10, 13, 256)  0           concatenate[0][0]                \n",
            "__________________________________________________________________________________________________\n",
            "conv2d_9 (Conv2D)               (None, 10, 13, 128)  32896       concatenate[0][0]                \n",
            "__________________________________________________________________________________________________\n",
            "conv2d_11 (Conv2D)              (None, 10, 13, 192)  221376      conv2d_10[0][0]                  \n",
            "__________________________________________________________________________________________________\n",
            "conv2d_13 (Conv2D)              (None, 10, 13, 96)   76896       conv2d_12[0][0]                  \n",
            "__________________________________________________________________________________________________\n",
            "conv2d_14 (Conv2D)              (None, 10, 13, 64)   16448       max_pooling2d_3[0][0]            \n",
            "__________________________________________________________________________________________________\n",
            "concatenate_1 (Concatenate)     (None, 10, 13, 480)  0           conv2d_9[0][0]                   \n",
            "                                                                 conv2d_11[0][0]                  \n",
            "                                                                 conv2d_13[0][0]                  \n",
            "                                                                 conv2d_14[0][0]                  \n",
            "__________________________________________________________________________________________________\n",
            "max_pooling2d_4 (MaxPooling2D)  (None, 5, 7, 480)    0           concatenate_1[0][0]              \n",
            "__________________________________________________________________________________________________\n",
            "conv2d_16 (Conv2D)              (None, 5, 7, 96)     46176       max_pooling2d_4[0][0]            \n",
            "__________________________________________________________________________________________________\n",
            "conv2d_18 (Conv2D)              (None, 5, 7, 16)     7696        max_pooling2d_4[0][0]            \n",
            "__________________________________________________________________________________________________\n",
            "max_pooling2d_5 (MaxPooling2D)  (None, 5, 7, 480)    0           max_pooling2d_4[0][0]            \n",
            "__________________________________________________________________________________________________\n",
            "conv2d_15 (Conv2D)              (None, 5, 7, 192)    92352       max_pooling2d_4[0][0]            \n",
            "__________________________________________________________________________________________________\n",
            "conv2d_17 (Conv2D)              (None, 5, 7, 208)    179920      conv2d_16[0][0]                  \n",
            "__________________________________________________________________________________________________\n",
            "conv2d_19 (Conv2D)              (None, 5, 7, 48)     19248       conv2d_18[0][0]                  \n",
            "__________________________________________________________________________________________________\n",
            "conv2d_20 (Conv2D)              (None, 5, 7, 64)     30784       max_pooling2d_5[0][0]            \n",
            "__________________________________________________________________________________________________\n",
            "concatenate_2 (Concatenate)     (None, 5, 7, 512)    0           conv2d_15[0][0]                  \n",
            "                                                                 conv2d_17[0][0]                  \n",
            "                                                                 conv2d_19[0][0]                  \n",
            "                                                                 conv2d_20[0][0]                  \n",
            "__________________________________________________________________________________________________\n",
            "conv2d_23 (Conv2D)              (None, 5, 7, 112)    57456       concatenate_2[0][0]              \n",
            "__________________________________________________________________________________________________\n",
            "conv2d_25 (Conv2D)              (None, 5, 7, 24)     12312       concatenate_2[0][0]              \n",
            "__________________________________________________________________________________________________\n",
            "max_pooling2d_6 (MaxPooling2D)  (None, 5, 7, 512)    0           concatenate_2[0][0]              \n",
            "__________________________________________________________________________________________________\n",
            "conv2d_22 (Conv2D)              (None, 5, 7, 160)    82080       concatenate_2[0][0]              \n",
            "__________________________________________________________________________________________________\n",
            "conv2d_24 (Conv2D)              (None, 5, 7, 224)    226016      conv2d_23[0][0]                  \n",
            "__________________________________________________________________________________________________\n",
            "conv2d_26 (Conv2D)              (None, 5, 7, 64)     38464       conv2d_25[0][0]                  \n",
            "__________________________________________________________________________________________________\n",
            "conv2d_27 (Conv2D)              (None, 5, 7, 64)     32832       max_pooling2d_6[0][0]            \n",
            "__________________________________________________________________________________________________\n",
            "concatenate_3 (Concatenate)     (None, 5, 7, 512)    0           conv2d_22[0][0]                  \n",
            "                                                                 conv2d_24[0][0]                  \n",
            "                                                                 conv2d_26[0][0]                  \n",
            "                                                                 conv2d_27[0][0]                  \n",
            "__________________________________________________________________________________________________\n",
            "conv2d_29 (Conv2D)              (None, 5, 7, 128)    65664       concatenate_3[0][0]              \n",
            "__________________________________________________________________________________________________\n",
            "conv2d_31 (Conv2D)              (None, 5, 7, 24)     12312       concatenate_3[0][0]              \n",
            "__________________________________________________________________________________________________\n",
            "max_pooling2d_7 (MaxPooling2D)  (None, 5, 7, 512)    0           concatenate_3[0][0]              \n",
            "__________________________________________________________________________________________________\n",
            "conv2d_28 (Conv2D)              (None, 5, 7, 128)    65664       concatenate_3[0][0]              \n",
            "__________________________________________________________________________________________________\n",
            "conv2d_30 (Conv2D)              (None, 5, 7, 256)    295168      conv2d_29[0][0]                  \n",
            "__________________________________________________________________________________________________\n",
            "conv2d_32 (Conv2D)              (None, 5, 7, 64)     38464       conv2d_31[0][0]                  \n",
            "__________________________________________________________________________________________________\n",
            "conv2d_33 (Conv2D)              (None, 5, 7, 64)     32832       max_pooling2d_7[0][0]            \n",
            "__________________________________________________________________________________________________\n",
            "concatenate_4 (Concatenate)     (None, 5, 7, 512)    0           conv2d_28[0][0]                  \n",
            "                                                                 conv2d_30[0][0]                  \n",
            "                                                                 conv2d_32[0][0]                  \n",
            "                                                                 conv2d_33[0][0]                  \n",
            "__________________________________________________________________________________________________\n",
            "conv2d_35 (Conv2D)              (None, 5, 7, 144)    73872       concatenate_4[0][0]              \n",
            "__________________________________________________________________________________________________\n",
            "conv2d_37 (Conv2D)              (None, 5, 7, 32)     16416       concatenate_4[0][0]              \n",
            "__________________________________________________________________________________________________\n",
            "max_pooling2d_8 (MaxPooling2D)  (None, 5, 7, 512)    0           concatenate_4[0][0]              \n",
            "__________________________________________________________________________________________________\n",
            "conv2d_34 (Conv2D)              (None, 5, 7, 112)    57456       concatenate_4[0][0]              \n",
            "__________________________________________________________________________________________________\n",
            "conv2d_36 (Conv2D)              (None, 5, 7, 288)    373536      conv2d_35[0][0]                  \n",
            "__________________________________________________________________________________________________\n",
            "conv2d_38 (Conv2D)              (None, 5, 7, 64)     51264       conv2d_37[0][0]                  \n",
            "__________________________________________________________________________________________________\n",
            "conv2d_39 (Conv2D)              (None, 5, 7, 64)     32832       max_pooling2d_8[0][0]            \n",
            "__________________________________________________________________________________________________\n",
            "concatenate_5 (Concatenate)     (None, 5, 7, 528)    0           conv2d_34[0][0]                  \n",
            "                                                                 conv2d_36[0][0]                  \n",
            "                                                                 conv2d_38[0][0]                  \n",
            "                                                                 conv2d_39[0][0]                  \n",
            "__________________________________________________________________________________________________\n",
            "conv2d_42 (Conv2D)              (None, 5, 7, 160)    84640       concatenate_5[0][0]              \n",
            "__________________________________________________________________________________________________\n",
            "conv2d_44 (Conv2D)              (None, 5, 7, 32)     16928       concatenate_5[0][0]              \n",
            "__________________________________________________________________________________________________\n",
            "max_pooling2d_9 (MaxPooling2D)  (None, 5, 7, 528)    0           concatenate_5[0][0]              \n",
            "__________________________________________________________________________________________________\n",
            "conv2d_41 (Conv2D)              (None, 5, 7, 256)    135424      concatenate_5[0][0]              \n",
            "__________________________________________________________________________________________________\n",
            "conv2d_43 (Conv2D)              (None, 5, 7, 320)    461120      conv2d_42[0][0]                  \n",
            "__________________________________________________________________________________________________\n",
            "conv2d_45 (Conv2D)              (None, 5, 7, 128)    102528      conv2d_44[0][0]                  \n",
            "__________________________________________________________________________________________________\n",
            "conv2d_46 (Conv2D)              (None, 5, 7, 128)    67712       max_pooling2d_9[0][0]            \n",
            "__________________________________________________________________________________________________\n",
            "concatenate_6 (Concatenate)     (None, 5, 7, 832)    0           conv2d_41[0][0]                  \n",
            "                                                                 conv2d_43[0][0]                  \n",
            "                                                                 conv2d_45[0][0]                  \n",
            "                                                                 conv2d_46[0][0]                  \n",
            "__________________________________________________________________________________________________\n",
            "max_pooling2d_10 (MaxPooling2D) (None, 3, 4, 832)    0           concatenate_6[0][0]              \n",
            "__________________________________________________________________________________________________\n",
            "conv2d_48 (Conv2D)              (None, 3, 4, 160)    133280      max_pooling2d_10[0][0]           \n",
            "__________________________________________________________________________________________________\n",
            "conv2d_50 (Conv2D)              (None, 3, 4, 32)     26656       max_pooling2d_10[0][0]           \n",
            "__________________________________________________________________________________________________\n",
            "max_pooling2d_11 (MaxPooling2D) (None, 3, 4, 832)    0           max_pooling2d_10[0][0]           \n",
            "__________________________________________________________________________________________________\n",
            "conv2d_47 (Conv2D)              (None, 3, 4, 256)    213248      max_pooling2d_10[0][0]           \n",
            "__________________________________________________________________________________________________\n",
            "conv2d_49 (Conv2D)              (None, 3, 4, 320)    461120      conv2d_48[0][0]                  \n",
            "__________________________________________________________________________________________________\n",
            "conv2d_51 (Conv2D)              (None, 3, 4, 128)    102528      conv2d_50[0][0]                  \n",
            "__________________________________________________________________________________________________\n",
            "conv2d_52 (Conv2D)              (None, 3, 4, 128)    106624      max_pooling2d_11[0][0]           \n",
            "__________________________________________________________________________________________________\n",
            "concatenate_7 (Concatenate)     (None, 3, 4, 832)    0           conv2d_47[0][0]                  \n",
            "                                                                 conv2d_49[0][0]                  \n",
            "                                                                 conv2d_51[0][0]                  \n",
            "                                                                 conv2d_52[0][0]                  \n",
            "__________________________________________________________________________________________________\n",
            "conv2d_54 (Conv2D)              (None, 3, 4, 192)    159936      concatenate_7[0][0]              \n",
            "__________________________________________________________________________________________________\n",
            "conv2d_56 (Conv2D)              (None, 3, 4, 48)     39984       concatenate_7[0][0]              \n",
            "__________________________________________________________________________________________________\n",
            "max_pooling2d_12 (MaxPooling2D) (None, 3, 4, 832)    0           concatenate_7[0][0]              \n",
            "__________________________________________________________________________________________________\n",
            "conv2d_53 (Conv2D)              (None, 3, 4, 384)    319872      concatenate_7[0][0]              \n",
            "__________________________________________________________________________________________________\n",
            "conv2d_55 (Conv2D)              (None, 3, 4, 384)    663936      conv2d_54[0][0]                  \n",
            "__________________________________________________________________________________________________\n",
            "conv2d_57 (Conv2D)              (None, 3, 4, 128)    153728      conv2d_56[0][0]                  \n",
            "__________________________________________________________________________________________________\n",
            "conv2d_58 (Conv2D)              (None, 3, 4, 128)    106624      max_pooling2d_12[0][0]           \n",
            "__________________________________________________________________________________________________\n",
            "concatenate_8 (Concatenate)     (None, 3, 4, 1024)   0           conv2d_53[0][0]                  \n",
            "                                                                 conv2d_55[0][0]                  \n",
            "                                                                 conv2d_57[0][0]                  \n",
            "                                                                 conv2d_58[0][0]                  \n",
            "__________________________________________________________________________________________________\n",
            "average_pooling2d (AveragePooli (None, 1, 1, 512)    0           concatenate_2[0][0]              \n",
            "__________________________________________________________________________________________________\n",
            "average_pooling2d_1 (AveragePoo (None, 1, 1, 528)    0           concatenate_5[0][0]              \n",
            "__________________________________________________________________________________________________\n",
            "average_pooling2d_2 (AveragePoo (None, 3, 4, 1024)   0           concatenate_8[0][0]              \n",
            "__________________________________________________________________________________________________\n",
            "conv2d_21 (Conv2D)              (None, 1, 1, 128)    65664       average_pooling2d[0][0]          \n",
            "__________________________________________________________________________________________________\n",
            "conv2d_40 (Conv2D)              (None, 1, 1, 128)    67712       average_pooling2d_1[0][0]        \n",
            "__________________________________________________________________________________________________\n",
            "flatten_2 (Flatten)             (None, 12288)        0           average_pooling2d_2[0][0]        \n",
            "__________________________________________________________________________________________________\n",
            "flatten (Flatten)               (None, 128)          0           conv2d_21[0][0]                  \n",
            "__________________________________________________________________________________________________\n",
            "flatten_1 (Flatten)             (None, 128)          0           conv2d_40[0][0]                  \n",
            "__________________________________________________________________________________________________\n",
            "dropout_2 (Dropout)             (None, 12288)        0           flatten_2[0][0]                  \n",
            "__________________________________________________________________________________________________\n",
            "dense (Dense)                   (None, 256)          33024       flatten[0][0]                    \n",
            "__________________________________________________________________________________________________\n",
            "dense_1 (Dense)                 (None, 256)          33024       flatten_1[0][0]                  \n",
            "__________________________________________________________________________________________________\n",
            "dense_2 (Dense)                 (None, 256)          3145984     dropout_2[0][0]                  \n",
            "__________________________________________________________________________________________________\n",
            "dropout (Dropout)               (None, 256)          0           dense[0][0]                      \n",
            "__________________________________________________________________________________________________\n",
            "dropout_1 (Dropout)             (None, 256)          0           dense_1[0][0]                    \n",
            "__________________________________________________________________________________________________\n",
            "main (Dense)                    (None, 7)            1799        dense_2[0][0]                    \n",
            "__________________________________________________________________________________________________\n",
            "aux1 (Dense)                    (None, 7)            1799        dropout[0][0]                    \n",
            "__________________________________________________________________________________________________\n",
            "aux2 (Dense)                    (None, 7)            1799        dropout_1[0][0]                  \n",
            "==================================================================================================\n",
            "Total params: 9,325,381\n",
            "Trainable params: 9,324,869\n",
            "Non-trainable params: 512\n",
            "__________________________________________________________________________________________________\n"
          ],
          "name": "stdout"
        },
        {
          "output_type": "execute_result",
          "data": {
            "application/vnd.google.colaboratory.intrinsic+json": {
              "type": "string"
            },
            "text/plain": [
              "\"\\ndef show_train_history(history, xlabel, ylabel, train):\\n    for item in train:\\n        plt.plot(history[item])\\n    plt.title('Train History')\\n    plt.xlabel(xlabel)\\n    plt.ylabel(ylabel)\\n    plt.legend(train, loc='upper left')\\n    plt.show()\\n\\nshow_train_history(history_all, 'Epoch', 'Accuracy', ('main_acc', 'aux1_acc', 'aux2_acc'))\\nshow_train_history(history_all, 'Epoch', 'Loss', ('main_loss', 'aux1_loss', 'aux2_loss'))\\n\""
            ]
          },
          "metadata": {
            "tags": []
          },
          "execution_count": 32
        }
      ]
    },
    {
      "cell_type": "code",
      "metadata": {
        "id": "0oFIjDtr5KC2"
      },
      "source": [
        "# Define metrics \n",
        "\n",
        "def recall_m(y_true, y_pred):\n",
        "    true_positives = K.sum(K.round(K.clip(y_true * y_pred, 0, 1)))\n",
        "    possible_positives = K.sum(K.round(K.clip(y_true, 0, 1)))\n",
        "    recall = true_positives / (possible_positives + K.epsilon())\n",
        "    return recall\n",
        "\n",
        "def precision_m(y_true, y_pred):\n",
        "    true_positives = K.sum(K.round(K.clip(y_true * y_pred, 0, 1)))\n",
        "    predicted_positives = K.sum(K.round(K.clip(y_pred, 0, 1)))\n",
        "    precision = true_positives / (predicted_positives + K.epsilon())\n",
        "    return precision\n",
        "\n",
        "def f1_m(y_true, y_pred):\n",
        "    precision = precision_m(y_true, y_pred)\n",
        "    recall = recall_m(y_true, y_pred)\n",
        "    return 2*((precision*recall)/(precision+recall+K.epsilon()))"
      ],
      "execution_count": 33,
      "outputs": []
    },
    {
      "cell_type": "code",
      "metadata": {
        "id": "t2QceAAB5KC2"
      },
      "source": [
        "# New baseline\n",
        "# Define the optimizer\n",
        "optimizer = Adam(learning_rate=0.001, \n",
        "                 beta_1=0.9, \n",
        "                 beta_2=0.999, \n",
        "                 # epsilon=None, \n",
        "                 decay=0.0, \n",
        "                 amsgrad=False)\n",
        "\n",
        "# Compile the model\n",
        "model.compile(optimizer = optimizer , loss = \"categorical_crossentropy\", metrics=[\"accuracy\", f1_m,precision_m, recall_m])\n",
        "\n",
        "# Set a learning rate annealer\n",
        "learning_rate_reduction = ReduceLROnPlateau(monitor='val_accuracy', \n",
        "                                            patience=3, \n",
        "                                            verbose=1, \n",
        "                                            factor=0.5, \n",
        "                                            min_lr=0.00001)"
      ],
      "execution_count": 34,
      "outputs": []
    },
    {
      "cell_type": "code",
      "metadata": {
        "id": "5WSfybEBiz-W"
      },
      "source": [
        "x_train = np.asarray(x_train)\n",
        "y_train = np.asarray(y_train)\n",
        "x_validate = np.asarray(x_validate)\n",
        "y_validate = np.asarray(y_validate)"
      ],
      "execution_count": 35,
      "outputs": []
    },
    {
      "cell_type": "code",
      "metadata": {
        "colab": {
          "base_uri": "https://localhost:8080/"
        },
        "id": "VTGRcxtb5KC2",
        "outputId": "f3ff0ab6-5429-4fcd-bd8c-b7c80f3bb499"
      },
      "source": [
        "# New baseline\n",
        "# Fit the model\n",
        "epochs = 25\n",
        "batch_size = 10\n",
        "history = model.fit_generator(dataaugment.flow(x_train,y_train, batch_size=batch_size),\n",
        "                              epochs = epochs, validation_data = (x_validate,y_validate),\n",
        "                              verbose = 1, steps_per_epoch=x_train.shape[0] // batch_size\n",
        "                              , callbacks=[learning_rate_reduction])\n",
        "\n",
        "# history = model.fit(x=x_train, y=y_train,\n",
        "#                               epochs = epochs, validation_data = (x_validate,y_validate),\n",
        "#                               verbose = 1, steps_per_epoch=x_train.shape[0] // batch_size\n",
        "#                               , callbacks=[learning_rate_reduction])"
      ],
      "execution_count": 36,
      "outputs": [
        {
          "output_type": "stream",
          "text": [
            "/usr/local/lib/python3.7/dist-packages/tensorflow/python/keras/engine/training.py:1844: UserWarning: `Model.fit_generator` is deprecated and will be removed in a future version. Please use `Model.fit`, which supports generators.\n",
            "  warnings.warn('`Model.fit_generator` is deprecated and '\n"
          ],
          "name": "stderr"
        },
        {
          "output_type": "stream",
          "text": [
            "Epoch 1/25\n",
            "721/721 [==============================] - 356s 487ms/step - loss: 3.6134 - main_loss: 1.4470 - aux1_loss: 1.0677 - aux2_loss: 1.0987 - main_accuracy: 0.6465 - main_f1_m: 0.5841 - main_precision_m: 0.7218 - main_recall_m: 0.5196 - aux1_accuracy: 0.6555 - aux1_f1_m: 0.6048 - aux1_precision_m: 0.7715 - aux1_recall_m: 0.5140 - aux2_accuracy: 0.6657 - aux2_f1_m: 0.5829 - aux2_precision_m: 0.7428 - aux2_recall_m: 0.5025 - val_loss: 2.7094 - val_main_loss: 0.9215 - val_aux1_loss: 0.8808 - val_aux2_loss: 0.9072 - val_main_accuracy: 0.6808 - val_main_f1_m: 0.6994 - val_main_precision_m: 0.8205 - val_main_recall_m: 0.6142 - val_aux1_accuracy: 0.6958 - val_aux1_f1_m: 0.6782 - val_aux1_precision_m: 0.8749 - val_aux1_recall_m: 0.5577 - val_aux2_accuracy: 0.6808 - val_aux2_f1_m: 0.6989 - val_aux2_precision_m: 0.8214 - val_aux2_recall_m: 0.6130\n",
            "WARNING:tensorflow:Learning rate reduction is conditioned on metric `val_accuracy` which is not available. Available metrics are: loss,main_loss,aux1_loss,aux2_loss,main_accuracy,main_f1_m,main_precision_m,main_recall_m,aux1_accuracy,aux1_f1_m,aux1_precision_m,aux1_recall_m,aux2_accuracy,aux2_f1_m,aux2_precision_m,aux2_recall_m,val_loss,val_main_loss,val_aux1_loss,val_aux2_loss,val_main_accuracy,val_main_f1_m,val_main_precision_m,val_main_recall_m,val_aux1_accuracy,val_aux1_f1_m,val_aux1_precision_m,val_aux1_recall_m,val_aux2_accuracy,val_aux2_f1_m,val_aux2_precision_m,val_aux2_recall_m,lr\n",
            "Epoch 2/25\n",
            "721/721 [==============================] - 353s 490ms/step - loss: 2.7720 - main_loss: 0.9445 - aux1_loss: 0.9006 - aux2_loss: 0.9270 - main_accuracy: 0.6773 - main_f1_m: 0.6705 - main_precision_m: 0.8009 - main_recall_m: 0.5899 - aux1_accuracy: 0.6879 - aux1_f1_m: 0.6638 - aux1_precision_m: 0.8072 - aux1_recall_m: 0.5752 - aux2_accuracy: 0.6834 - aux2_f1_m: 0.6696 - aux2_precision_m: 0.8059 - aux2_recall_m: 0.5836 - val_loss: 2.6124 - val_main_loss: 0.9153 - val_aux1_loss: 0.8248 - val_aux2_loss: 0.8723 - val_main_accuracy: 0.6833 - val_main_f1_m: 0.6896 - val_main_precision_m: 0.8008 - val_main_recall_m: 0.6094 - val_aux1_accuracy: 0.6970 - val_aux1_f1_m: 0.6838 - val_aux1_precision_m: 0.8336 - val_aux1_recall_m: 0.5841 - val_aux2_accuracy: 0.6908 - val_aux2_f1_m: 0.6852 - val_aux2_precision_m: 0.8208 - val_aux2_recall_m: 0.5925\n",
            "WARNING:tensorflow:Learning rate reduction is conditioned on metric `val_accuracy` which is not available. Available metrics are: loss,main_loss,aux1_loss,aux2_loss,main_accuracy,main_f1_m,main_precision_m,main_recall_m,aux1_accuracy,aux1_f1_m,aux1_precision_m,aux1_recall_m,aux2_accuracy,aux2_f1_m,aux2_precision_m,aux2_recall_m,val_loss,val_main_loss,val_aux1_loss,val_aux2_loss,val_main_accuracy,val_main_f1_m,val_main_precision_m,val_main_recall_m,val_aux1_accuracy,val_aux1_f1_m,val_aux1_precision_m,val_aux1_recall_m,val_aux2_accuracy,val_aux2_f1_m,val_aux2_precision_m,val_aux2_recall_m,lr\n",
            "Epoch 3/25\n",
            "721/721 [==============================] - 351s 487ms/step - loss: 2.6296 - main_loss: 0.9072 - aux1_loss: 0.8492 - aux2_loss: 0.8732 - main_accuracy: 0.6861 - main_f1_m: 0.6844 - main_precision_m: 0.8071 - main_recall_m: 0.6027 - aux1_accuracy: 0.6914 - aux1_f1_m: 0.6824 - aux1_precision_m: 0.8210 - aux1_recall_m: 0.5938 - aux2_accuracy: 0.6898 - aux2_f1_m: 0.6842 - aux2_precision_m: 0.8116 - aux2_recall_m: 0.5999 - val_loss: 2.4511 - val_main_loss: 0.8575 - val_aux1_loss: 0.7770 - val_aux2_loss: 0.8166 - val_main_accuracy: 0.6833 - val_main_f1_m: 0.7106 - val_main_precision_m: 0.8175 - val_main_recall_m: 0.6334 - val_aux1_accuracy: 0.7282 - val_aux1_f1_m: 0.6956 - val_aux1_precision_m: 0.8557 - val_aux1_recall_m: 0.5901 - val_aux2_accuracy: 0.7132 - val_aux2_f1_m: 0.7140 - val_aux2_precision_m: 0.8410 - val_aux2_recall_m: 0.6250\n",
            "WARNING:tensorflow:Learning rate reduction is conditioned on metric `val_accuracy` which is not available. Available metrics are: loss,main_loss,aux1_loss,aux2_loss,main_accuracy,main_f1_m,main_precision_m,main_recall_m,aux1_accuracy,aux1_f1_m,aux1_precision_m,aux1_recall_m,aux2_accuracy,aux2_f1_m,aux2_precision_m,aux2_recall_m,val_loss,val_main_loss,val_aux1_loss,val_aux2_loss,val_main_accuracy,val_main_f1_m,val_main_precision_m,val_main_recall_m,val_aux1_accuracy,val_aux1_f1_m,val_aux1_precision_m,val_aux1_recall_m,val_aux2_accuracy,val_aux2_f1_m,val_aux2_precision_m,val_aux2_recall_m,lr\n",
            "Epoch 4/25\n",
            "721/721 [==============================] - 351s 486ms/step - loss: 2.5861 - main_loss: 0.8890 - aux1_loss: 0.8405 - aux2_loss: 0.8566 - main_accuracy: 0.6849 - main_f1_m: 0.6806 - main_precision_m: 0.8155 - main_recall_m: 0.5947 - aux1_accuracy: 0.6980 - aux1_f1_m: 0.6793 - aux1_precision_m: 0.8173 - aux1_recall_m: 0.5913 - aux2_accuracy: 0.6943 - aux2_f1_m: 0.6841 - aux2_precision_m: 0.8201 - aux2_recall_m: 0.5965 - val_loss: 2.2705 - val_main_loss: 0.7785 - val_aux1_loss: 0.7305 - val_aux2_loss: 0.7616 - val_main_accuracy: 0.7269 - val_main_f1_m: 0.7094 - val_main_precision_m: 0.8645 - val_main_recall_m: 0.6058 - val_aux1_accuracy: 0.7382 - val_aux1_f1_m: 0.7168 - val_aux1_precision_m: 0.8667 - val_aux1_recall_m: 0.6154 - val_aux2_accuracy: 0.7244 - val_aux2_f1_m: 0.7125 - val_aux2_precision_m: 0.8644 - val_aux2_recall_m: 0.6106\n",
            "WARNING:tensorflow:Learning rate reduction is conditioned on metric `val_accuracy` which is not available. Available metrics are: loss,main_loss,aux1_loss,aux2_loss,main_accuracy,main_f1_m,main_precision_m,main_recall_m,aux1_accuracy,aux1_f1_m,aux1_precision_m,aux1_recall_m,aux2_accuracy,aux2_f1_m,aux2_precision_m,aux2_recall_m,val_loss,val_main_loss,val_aux1_loss,val_aux2_loss,val_main_accuracy,val_main_f1_m,val_main_precision_m,val_main_recall_m,val_aux1_accuracy,val_aux1_f1_m,val_aux1_precision_m,val_aux1_recall_m,val_aux2_accuracy,val_aux2_f1_m,val_aux2_precision_m,val_aux2_recall_m,lr\n",
            "Epoch 5/25\n",
            "721/721 [==============================] - 352s 488ms/step - loss: 2.5027 - main_loss: 0.8602 - aux1_loss: 0.8079 - aux2_loss: 0.8346 - main_accuracy: 0.6926 - main_f1_m: 0.6789 - main_precision_m: 0.8163 - main_recall_m: 0.5922 - aux1_accuracy: 0.7008 - aux1_f1_m: 0.6920 - aux1_precision_m: 0.8237 - aux1_recall_m: 0.6071 - aux2_accuracy: 0.6964 - aux2_f1_m: 0.6857 - aux2_precision_m: 0.8258 - aux2_recall_m: 0.5963 - val_loss: 2.5095 - val_main_loss: 0.8890 - val_aux1_loss: 0.7972 - val_aux2_loss: 0.8233 - val_main_accuracy: 0.6696 - val_main_f1_m: 0.6287 - val_main_precision_m: 0.9182 - val_main_recall_m: 0.4820 - val_aux1_accuracy: 0.7195 - val_aux1_f1_m: 0.6821 - val_aux1_precision_m: 0.8604 - val_aux1_recall_m: 0.5673 - val_aux2_accuracy: 0.6908 - val_aux2_f1_m: 0.6672 - val_aux2_precision_m: 0.9006 - val_aux2_recall_m: 0.5325\n",
            "WARNING:tensorflow:Learning rate reduction is conditioned on metric `val_accuracy` which is not available. Available metrics are: loss,main_loss,aux1_loss,aux2_loss,main_accuracy,main_f1_m,main_precision_m,main_recall_m,aux1_accuracy,aux1_f1_m,aux1_precision_m,aux1_recall_m,aux2_accuracy,aux2_f1_m,aux2_precision_m,aux2_recall_m,val_loss,val_main_loss,val_aux1_loss,val_aux2_loss,val_main_accuracy,val_main_f1_m,val_main_precision_m,val_main_recall_m,val_aux1_accuracy,val_aux1_f1_m,val_aux1_precision_m,val_aux1_recall_m,val_aux2_accuracy,val_aux2_f1_m,val_aux2_precision_m,val_aux2_recall_m,lr\n",
            "Epoch 6/25\n",
            "721/721 [==============================] - 351s 487ms/step - loss: 2.4296 - main_loss: 0.8329 - aux1_loss: 0.7877 - aux2_loss: 0.8091 - main_accuracy: 0.7035 - main_f1_m: 0.6893 - main_precision_m: 0.8204 - main_recall_m: 0.6057 - aux1_accuracy: 0.7117 - aux1_f1_m: 0.6997 - aux1_precision_m: 0.8224 - aux1_recall_m: 0.6194 - aux2_accuracy: 0.7108 - aux2_f1_m: 0.6983 - aux2_precision_m: 0.8303 - aux2_recall_m: 0.6145 - val_loss: 2.2446 - val_main_loss: 0.7848 - val_aux1_loss: 0.7114 - val_aux2_loss: 0.7484 - val_main_accuracy: 0.7170 - val_main_f1_m: 0.7204 - val_main_precision_m: 0.8325 - val_main_recall_m: 0.6394 - val_aux1_accuracy: 0.7494 - val_aux1_f1_m: 0.7226 - val_aux1_precision_m: 0.8517 - val_aux1_recall_m: 0.6322 - val_aux2_accuracy: 0.7269 - val_aux2_f1_m: 0.7271 - val_aux2_precision_m: 0.8504 - val_aux2_recall_m: 0.6394\n",
            "WARNING:tensorflow:Learning rate reduction is conditioned on metric `val_accuracy` which is not available. Available metrics are: loss,main_loss,aux1_loss,aux2_loss,main_accuracy,main_f1_m,main_precision_m,main_recall_m,aux1_accuracy,aux1_f1_m,aux1_precision_m,aux1_recall_m,aux2_accuracy,aux2_f1_m,aux2_precision_m,aux2_recall_m,val_loss,val_main_loss,val_aux1_loss,val_aux2_loss,val_main_accuracy,val_main_f1_m,val_main_precision_m,val_main_recall_m,val_aux1_accuracy,val_aux1_f1_m,val_aux1_precision_m,val_aux1_recall_m,val_aux2_accuracy,val_aux2_f1_m,val_aux2_precision_m,val_aux2_recall_m,lr\n",
            "Epoch 7/25\n",
            "721/721 [==============================] - 347s 481ms/step - loss: 2.3089 - main_loss: 0.7906 - aux1_loss: 0.7495 - aux2_loss: 0.7688 - main_accuracy: 0.7131 - main_f1_m: 0.6999 - main_precision_m: 0.8319 - main_recall_m: 0.6147 - aux1_accuracy: 0.7223 - aux1_f1_m: 0.7110 - aux1_precision_m: 0.8337 - aux1_recall_m: 0.6297 - aux2_accuracy: 0.7193 - aux2_f1_m: 0.7095 - aux2_precision_m: 0.8367 - aux2_recall_m: 0.6264 - val_loss: 2.3156 - val_main_loss: 0.7975 - val_aux1_loss: 0.7560 - val_aux2_loss: 0.7621 - val_main_accuracy: 0.7170 - val_main_f1_m: 0.6896 - val_main_precision_m: 0.8510 - val_main_recall_m: 0.5841 - val_aux1_accuracy: 0.7369 - val_aux1_f1_m: 0.6995 - val_aux1_precision_m: 0.8600 - val_aux1_recall_m: 0.5938 - val_aux2_accuracy: 0.7195 - val_aux2_f1_m: 0.6865 - val_aux2_precision_m: 0.8622 - val_aux2_recall_m: 0.5745\n",
            "WARNING:tensorflow:Learning rate reduction is conditioned on metric `val_accuracy` which is not available. Available metrics are: loss,main_loss,aux1_loss,aux2_loss,main_accuracy,main_f1_m,main_precision_m,main_recall_m,aux1_accuracy,aux1_f1_m,aux1_precision_m,aux1_recall_m,aux2_accuracy,aux2_f1_m,aux2_precision_m,aux2_recall_m,val_loss,val_main_loss,val_aux1_loss,val_aux2_loss,val_main_accuracy,val_main_f1_m,val_main_precision_m,val_main_recall_m,val_aux1_accuracy,val_aux1_f1_m,val_aux1_precision_m,val_aux1_recall_m,val_aux2_accuracy,val_aux2_f1_m,val_aux2_precision_m,val_aux2_recall_m,lr\n",
            "Epoch 8/25\n",
            "721/721 [==============================] - 352s 488ms/step - loss: 2.3003 - main_loss: 0.7912 - aux1_loss: 0.7474 - aux2_loss: 0.7617 - main_accuracy: 0.7113 - main_f1_m: 0.7008 - main_precision_m: 0.8273 - main_recall_m: 0.6164 - aux1_accuracy: 0.7292 - aux1_f1_m: 0.7156 - aux1_precision_m: 0.8278 - aux1_recall_m: 0.6369 - aux2_accuracy: 0.7237 - aux2_f1_m: 0.7093 - aux2_precision_m: 0.8334 - aux2_recall_m: 0.6257 - val_loss: 2.5192 - val_main_loss: 0.8829 - val_aux1_loss: 0.8065 - val_aux2_loss: 0.8299 - val_main_accuracy: 0.7107 - val_main_f1_m: 0.7163 - val_main_precision_m: 0.8278 - val_main_recall_m: 0.6358 - val_aux1_accuracy: 0.7182 - val_aux1_f1_m: 0.7178 - val_aux1_precision_m: 0.8229 - val_aux1_recall_m: 0.6406 - val_aux2_accuracy: 0.7219 - val_aux2_f1_m: 0.7247 - val_aux2_precision_m: 0.8313 - val_aux2_recall_m: 0.6466\n",
            "WARNING:tensorflow:Learning rate reduction is conditioned on metric `val_accuracy` which is not available. Available metrics are: loss,main_loss,aux1_loss,aux2_loss,main_accuracy,main_f1_m,main_precision_m,main_recall_m,aux1_accuracy,aux1_f1_m,aux1_precision_m,aux1_recall_m,aux2_accuracy,aux2_f1_m,aux2_precision_m,aux2_recall_m,val_loss,val_main_loss,val_aux1_loss,val_aux2_loss,val_main_accuracy,val_main_f1_m,val_main_precision_m,val_main_recall_m,val_aux1_accuracy,val_aux1_f1_m,val_aux1_precision_m,val_aux1_recall_m,val_aux2_accuracy,val_aux2_f1_m,val_aux2_precision_m,val_aux2_recall_m,lr\n",
            "Epoch 9/25\n",
            "721/721 [==============================] - 351s 486ms/step - loss: 2.3284 - main_loss: 0.7976 - aux1_loss: 0.7558 - aux2_loss: 0.7750 - main_accuracy: 0.7085 - main_f1_m: 0.6970 - main_precision_m: 0.8330 - main_recall_m: 0.6105 - aux1_accuracy: 0.7201 - aux1_f1_m: 0.7086 - aux1_precision_m: 0.8292 - aux1_recall_m: 0.6286 - aux2_accuracy: 0.7186 - aux2_f1_m: 0.7053 - aux2_precision_m: 0.8364 - aux2_recall_m: 0.6197 - val_loss: 2.1297 - val_main_loss: 0.7368 - val_aux1_loss: 0.6834 - val_aux2_loss: 0.7095 - val_main_accuracy: 0.7382 - val_main_f1_m: 0.7324 - val_main_precision_m: 0.8333 - val_main_recall_m: 0.6575 - val_aux1_accuracy: 0.7544 - val_aux1_f1_m: 0.7507 - val_aux1_precision_m: 0.8463 - val_aux1_recall_m: 0.6791 - val_aux2_accuracy: 0.7469 - val_aux2_f1_m: 0.7455 - val_aux2_precision_m: 0.8438 - val_aux2_recall_m: 0.6719\n",
            "WARNING:tensorflow:Learning rate reduction is conditioned on metric `val_accuracy` which is not available. Available metrics are: loss,main_loss,aux1_loss,aux2_loss,main_accuracy,main_f1_m,main_precision_m,main_recall_m,aux1_accuracy,aux1_f1_m,aux1_precision_m,aux1_recall_m,aux2_accuracy,aux2_f1_m,aux2_precision_m,aux2_recall_m,val_loss,val_main_loss,val_aux1_loss,val_aux2_loss,val_main_accuracy,val_main_f1_m,val_main_precision_m,val_main_recall_m,val_aux1_accuracy,val_aux1_f1_m,val_aux1_precision_m,val_aux1_recall_m,val_aux2_accuracy,val_aux2_f1_m,val_aux2_precision_m,val_aux2_recall_m,lr\n",
            "Epoch 10/25\n",
            "721/721 [==============================] - 351s 487ms/step - loss: 2.2867 - main_loss: 0.7790 - aux1_loss: 0.7428 - aux2_loss: 0.7649 - main_accuracy: 0.7088 - main_f1_m: 0.7012 - main_precision_m: 0.8434 - main_recall_m: 0.6105 - aux1_accuracy: 0.7242 - aux1_f1_m: 0.7122 - aux1_precision_m: 0.8299 - aux1_recall_m: 0.6329 - aux2_accuracy: 0.7183 - aux2_f1_m: 0.7034 - aux2_precision_m: 0.8367 - aux2_recall_m: 0.6164 - val_loss: 2.0943 - val_main_loss: 0.7375 - val_aux1_loss: 0.6637 - val_aux2_loss: 0.6931 - val_main_accuracy: 0.7294 - val_main_f1_m: 0.7346 - val_main_precision_m: 0.8290 - val_main_recall_m: 0.6623 - val_aux1_accuracy: 0.7519 - val_aux1_f1_m: 0.7535 - val_aux1_precision_m: 0.8429 - val_aux1_recall_m: 0.6851 - val_aux2_accuracy: 0.7394 - val_aux2_f1_m: 0.7384 - val_aux2_precision_m: 0.8424 - val_aux2_recall_m: 0.6611\n",
            "WARNING:tensorflow:Learning rate reduction is conditioned on metric `val_accuracy` which is not available. Available metrics are: loss,main_loss,aux1_loss,aux2_loss,main_accuracy,main_f1_m,main_precision_m,main_recall_m,aux1_accuracy,aux1_f1_m,aux1_precision_m,aux1_recall_m,aux2_accuracy,aux2_f1_m,aux2_precision_m,aux2_recall_m,val_loss,val_main_loss,val_aux1_loss,val_aux2_loss,val_main_accuracy,val_main_f1_m,val_main_precision_m,val_main_recall_m,val_aux1_accuracy,val_aux1_f1_m,val_aux1_precision_m,val_aux1_recall_m,val_aux2_accuracy,val_aux2_f1_m,val_aux2_precision_m,val_aux2_recall_m,lr\n",
            "Epoch 11/25\n",
            "721/721 [==============================] - 349s 484ms/step - loss: 2.2340 - main_loss: 0.7627 - aux1_loss: 0.7252 - aux2_loss: 0.7461 - main_accuracy: 0.7197 - main_f1_m: 0.7035 - main_precision_m: 0.8312 - main_recall_m: 0.6195 - aux1_accuracy: 0.7270 - aux1_f1_m: 0.7174 - aux1_precision_m: 0.8280 - aux1_recall_m: 0.6410 - aux2_accuracy: 0.7208 - aux2_f1_m: 0.7121 - aux2_precision_m: 0.8381 - aux2_recall_m: 0.6279 - val_loss: 1.9967 - val_main_loss: 0.6823 - val_aux1_loss: 0.6482 - val_aux2_loss: 0.6662 - val_main_accuracy: 0.7444 - val_main_f1_m: 0.7349 - val_main_precision_m: 0.8822 - val_main_recall_m: 0.6334 - val_aux1_accuracy: 0.7581 - val_aux1_f1_m: 0.7488 - val_aux1_precision_m: 0.8822 - val_aux1_recall_m: 0.6538 - val_aux2_accuracy: 0.7544 - val_aux2_f1_m: 0.7487 - val_aux2_precision_m: 0.8960 - val_aux2_recall_m: 0.6466\n",
            "WARNING:tensorflow:Learning rate reduction is conditioned on metric `val_accuracy` which is not available. Available metrics are: loss,main_loss,aux1_loss,aux2_loss,main_accuracy,main_f1_m,main_precision_m,main_recall_m,aux1_accuracy,aux1_f1_m,aux1_precision_m,aux1_recall_m,aux2_accuracy,aux2_f1_m,aux2_precision_m,aux2_recall_m,val_loss,val_main_loss,val_aux1_loss,val_aux2_loss,val_main_accuracy,val_main_f1_m,val_main_precision_m,val_main_recall_m,val_aux1_accuracy,val_aux1_f1_m,val_aux1_precision_m,val_aux1_recall_m,val_aux2_accuracy,val_aux2_f1_m,val_aux2_precision_m,val_aux2_recall_m,lr\n",
            "Epoch 12/25\n",
            "721/721 [==============================] - 350s 486ms/step - loss: 2.2139 - main_loss: 0.7548 - aux1_loss: 0.7237 - aux2_loss: 0.7354 - main_accuracy: 0.7196 - main_f1_m: 0.7108 - main_precision_m: 0.8385 - main_recall_m: 0.6264 - aux1_accuracy: 0.7330 - aux1_f1_m: 0.7251 - aux1_precision_m: 0.8416 - aux1_recall_m: 0.6452 - aux2_accuracy: 0.7309 - aux2_f1_m: 0.7147 - aux2_precision_m: 0.8440 - aux2_recall_m: 0.6287 - val_loss: 2.0260 - val_main_loss: 0.6921 - val_aux1_loss: 0.6632 - val_aux2_loss: 0.6707 - val_main_accuracy: 0.7431 - val_main_f1_m: 0.7255 - val_main_precision_m: 0.8746 - val_main_recall_m: 0.6238 - val_aux1_accuracy: 0.7544 - val_aux1_f1_m: 0.7477 - val_aux1_precision_m: 0.8607 - val_aux1_recall_m: 0.6647 - val_aux2_accuracy: 0.7456 - val_aux2_f1_m: 0.7397 - val_aux2_precision_m: 0.8643 - val_aux2_recall_m: 0.6502\n",
            "WARNING:tensorflow:Learning rate reduction is conditioned on metric `val_accuracy` which is not available. Available metrics are: loss,main_loss,aux1_loss,aux2_loss,main_accuracy,main_f1_m,main_precision_m,main_recall_m,aux1_accuracy,aux1_f1_m,aux1_precision_m,aux1_recall_m,aux2_accuracy,aux2_f1_m,aux2_precision_m,aux2_recall_m,val_loss,val_main_loss,val_aux1_loss,val_aux2_loss,val_main_accuracy,val_main_f1_m,val_main_precision_m,val_main_recall_m,val_aux1_accuracy,val_aux1_f1_m,val_aux1_precision_m,val_aux1_recall_m,val_aux2_accuracy,val_aux2_f1_m,val_aux2_precision_m,val_aux2_recall_m,lr\n",
            "Epoch 13/25\n",
            "721/721 [==============================] - 350s 485ms/step - loss: 2.1377 - main_loss: 0.7276 - aux1_loss: 0.6961 - aux2_loss: 0.7140 - main_accuracy: 0.7303 - main_f1_m: 0.7129 - main_precision_m: 0.8298 - main_recall_m: 0.6325 - aux1_accuracy: 0.7363 - aux1_f1_m: 0.7270 - aux1_precision_m: 0.8299 - aux1_recall_m: 0.6541 - aux2_accuracy: 0.7343 - aux2_f1_m: 0.7245 - aux2_precision_m: 0.8385 - aux2_recall_m: 0.6448 - val_loss: 2.0606 - val_main_loss: 0.7298 - val_aux1_loss: 0.6616 - val_aux2_loss: 0.6692 - val_main_accuracy: 0.7406 - val_main_f1_m: 0.7173 - val_main_precision_m: 0.8252 - val_main_recall_m: 0.6394 - val_aux1_accuracy: 0.7569 - val_aux1_f1_m: 0.7424 - val_aux1_precision_m: 0.8469 - val_aux1_recall_m: 0.6659 - val_aux2_accuracy: 0.7631 - val_aux2_f1_m: 0.7365 - val_aux2_precision_m: 0.8537 - val_aux2_recall_m: 0.6526\n",
            "WARNING:tensorflow:Learning rate reduction is conditioned on metric `val_accuracy` which is not available. Available metrics are: loss,main_loss,aux1_loss,aux2_loss,main_accuracy,main_f1_m,main_precision_m,main_recall_m,aux1_accuracy,aux1_f1_m,aux1_precision_m,aux1_recall_m,aux2_accuracy,aux2_f1_m,aux2_precision_m,aux2_recall_m,val_loss,val_main_loss,val_aux1_loss,val_aux2_loss,val_main_accuracy,val_main_f1_m,val_main_precision_m,val_main_recall_m,val_aux1_accuracy,val_aux1_f1_m,val_aux1_precision_m,val_aux1_recall_m,val_aux2_accuracy,val_aux2_f1_m,val_aux2_precision_m,val_aux2_recall_m,lr\n",
            "Epoch 14/25\n",
            "721/721 [==============================] - 349s 484ms/step - loss: 2.2406 - main_loss: 0.8064 - aux1_loss: 0.7083 - aux2_loss: 0.7259 - main_accuracy: 0.7261 - main_f1_m: 0.7216 - main_precision_m: 0.8321 - main_recall_m: 0.6448 - aux1_accuracy: 0.7424 - aux1_f1_m: 0.7305 - aux1_precision_m: 0.8357 - aux1_recall_m: 0.6559 - aux2_accuracy: 0.7371 - aux2_f1_m: 0.7279 - aux2_precision_m: 0.8366 - aux2_recall_m: 0.6516 - val_loss: 2.1878 - val_main_loss: 0.7505 - val_aux1_loss: 0.7164 - val_aux2_loss: 0.7208 - val_main_accuracy: 0.7257 - val_main_f1_m: 0.7252 - val_main_precision_m: 0.8419 - val_main_recall_m: 0.6406 - val_aux1_accuracy: 0.7506 - val_aux1_f1_m: 0.7418 - val_aux1_precision_m: 0.8505 - val_aux1_recall_m: 0.6623 - val_aux2_accuracy: 0.7406 - val_aux2_f1_m: 0.7256 - val_aux2_precision_m: 0.8452 - val_aux2_recall_m: 0.6394\n",
            "WARNING:tensorflow:Learning rate reduction is conditioned on metric `val_accuracy` which is not available. Available metrics are: loss,main_loss,aux1_loss,aux2_loss,main_accuracy,main_f1_m,main_precision_m,main_recall_m,aux1_accuracy,aux1_f1_m,aux1_precision_m,aux1_recall_m,aux2_accuracy,aux2_f1_m,aux2_precision_m,aux2_recall_m,val_loss,val_main_loss,val_aux1_loss,val_aux2_loss,val_main_accuracy,val_main_f1_m,val_main_precision_m,val_main_recall_m,val_aux1_accuracy,val_aux1_f1_m,val_aux1_precision_m,val_aux1_recall_m,val_aux2_accuracy,val_aux2_f1_m,val_aux2_precision_m,val_aux2_recall_m,lr\n",
            "Epoch 15/25\n",
            "721/721 [==============================] - 353s 490ms/step - loss: 2.2949 - main_loss: 0.7845 - aux1_loss: 0.7504 - aux2_loss: 0.7599 - main_accuracy: 0.7165 - main_f1_m: 0.7070 - main_precision_m: 0.8205 - main_recall_m: 0.6287 - aux1_accuracy: 0.7313 - aux1_f1_m: 0.7148 - aux1_precision_m: 0.8243 - aux1_recall_m: 0.6386 - aux2_accuracy: 0.7308 - aux2_f1_m: 0.7106 - aux2_precision_m: 0.8244 - aux2_recall_m: 0.6321 - val_loss: 1.9536 - val_main_loss: 0.6687 - val_aux1_loss: 0.6353 - val_aux2_loss: 0.6496 - val_main_accuracy: 0.7494 - val_main_f1_m: 0.7283 - val_main_precision_m: 0.8885 - val_main_recall_m: 0.6214 - val_aux1_accuracy: 0.7706 - val_aux1_f1_m: 0.7422 - val_aux1_precision_m: 0.8742 - val_aux1_recall_m: 0.6502 - val_aux2_accuracy: 0.7581 - val_aux2_f1_m: 0.7369 - val_aux2_precision_m: 0.8789 - val_aux2_recall_m: 0.6382\n",
            "WARNING:tensorflow:Learning rate reduction is conditioned on metric `val_accuracy` which is not available. Available metrics are: loss,main_loss,aux1_loss,aux2_loss,main_accuracy,main_f1_m,main_precision_m,main_recall_m,aux1_accuracy,aux1_f1_m,aux1_precision_m,aux1_recall_m,aux2_accuracy,aux2_f1_m,aux2_precision_m,aux2_recall_m,val_loss,val_main_loss,val_aux1_loss,val_aux2_loss,val_main_accuracy,val_main_f1_m,val_main_precision_m,val_main_recall_m,val_aux1_accuracy,val_aux1_f1_m,val_aux1_precision_m,val_aux1_recall_m,val_aux2_accuracy,val_aux2_f1_m,val_aux2_precision_m,val_aux2_recall_m,lr\n",
            "Epoch 16/25\n",
            "721/721 [==============================] - 354s 490ms/step - loss: 2.1051 - main_loss: 0.7228 - aux1_loss: 0.6790 - aux2_loss: 0.7033 - main_accuracy: 0.7324 - main_f1_m: 0.7255 - main_precision_m: 0.8390 - main_recall_m: 0.6487 - aux1_accuracy: 0.7491 - aux1_f1_m: 0.7389 - aux1_precision_m: 0.8402 - aux1_recall_m: 0.6676 - aux2_accuracy: 0.7472 - aux2_f1_m: 0.7280 - aux2_precision_m: 0.8435 - aux2_recall_m: 0.6497 - val_loss: 2.0544 - val_main_loss: 0.7025 - val_aux1_loss: 0.6662 - val_aux2_loss: 0.6857 - val_main_accuracy: 0.7431 - val_main_f1_m: 0.7468 - val_main_precision_m: 0.8402 - val_main_recall_m: 0.6767 - val_aux1_accuracy: 0.7544 - val_aux1_f1_m: 0.7461 - val_aux1_precision_m: 0.8416 - val_aux1_recall_m: 0.6743 - val_aux2_accuracy: 0.7519 - val_aux2_f1_m: 0.7452 - val_aux2_precision_m: 0.8375 - val_aux2_recall_m: 0.6755\n",
            "WARNING:tensorflow:Learning rate reduction is conditioned on metric `val_accuracy` which is not available. Available metrics are: loss,main_loss,aux1_loss,aux2_loss,main_accuracy,main_f1_m,main_precision_m,main_recall_m,aux1_accuracy,aux1_f1_m,aux1_precision_m,aux1_recall_m,aux2_accuracy,aux2_f1_m,aux2_precision_m,aux2_recall_m,val_loss,val_main_loss,val_aux1_loss,val_aux2_loss,val_main_accuracy,val_main_f1_m,val_main_precision_m,val_main_recall_m,val_aux1_accuracy,val_aux1_f1_m,val_aux1_precision_m,val_aux1_recall_m,val_aux2_accuracy,val_aux2_f1_m,val_aux2_precision_m,val_aux2_recall_m,lr\n",
            "Epoch 17/25\n",
            "721/721 [==============================] - 355s 492ms/step - loss: 2.1313 - main_loss: 0.7289 - aux1_loss: 0.6940 - aux2_loss: 0.7084 - main_accuracy: 0.7326 - main_f1_m: 0.7256 - main_precision_m: 0.8362 - main_recall_m: 0.6495 - aux1_accuracy: 0.7427 - aux1_f1_m: 0.7374 - aux1_precision_m: 0.8333 - aux1_recall_m: 0.6693 - aux2_accuracy: 0.7450 - aux2_f1_m: 0.7320 - aux2_precision_m: 0.8423 - aux2_recall_m: 0.6552 - val_loss: 1.9921 - val_main_loss: 0.6877 - val_aux1_loss: 0.6493 - val_aux2_loss: 0.6551 - val_main_accuracy: 0.7444 - val_main_f1_m: 0.7425 - val_main_precision_m: 0.8291 - val_main_recall_m: 0.6767 - val_aux1_accuracy: 0.7718 - val_aux1_f1_m: 0.7489 - val_aux1_precision_m: 0.8360 - val_aux1_recall_m: 0.6839 - val_aux2_accuracy: 0.7643 - val_aux2_f1_m: 0.7522 - val_aux2_precision_m: 0.8471 - val_aux2_recall_m: 0.6815\n",
            "WARNING:tensorflow:Learning rate reduction is conditioned on metric `val_accuracy` which is not available. Available metrics are: loss,main_loss,aux1_loss,aux2_loss,main_accuracy,main_f1_m,main_precision_m,main_recall_m,aux1_accuracy,aux1_f1_m,aux1_precision_m,aux1_recall_m,aux2_accuracy,aux2_f1_m,aux2_precision_m,aux2_recall_m,val_loss,val_main_loss,val_aux1_loss,val_aux2_loss,val_main_accuracy,val_main_f1_m,val_main_precision_m,val_main_recall_m,val_aux1_accuracy,val_aux1_f1_m,val_aux1_precision_m,val_aux1_recall_m,val_aux2_accuracy,val_aux2_f1_m,val_aux2_precision_m,val_aux2_recall_m,lr\n",
            "Epoch 18/25\n",
            "721/721 [==============================] - 354s 491ms/step - loss: 2.0281 - main_loss: 0.6940 - aux1_loss: 0.6582 - aux2_loss: 0.6759 - main_accuracy: 0.7502 - main_f1_m: 0.7408 - main_precision_m: 0.8492 - main_recall_m: 0.6669 - aux1_accuracy: 0.7547 - aux1_f1_m: 0.7462 - aux1_precision_m: 0.8401 - aux1_recall_m: 0.6788 - aux2_accuracy: 0.7503 - aux2_f1_m: 0.7406 - aux2_precision_m: 0.8432 - aux2_recall_m: 0.6686 - val_loss: 1.9267 - val_main_loss: 0.6649 - val_aux1_loss: 0.6189 - val_aux2_loss: 0.6429 - val_main_accuracy: 0.7643 - val_main_f1_m: 0.7524 - val_main_precision_m: 0.8614 - val_main_recall_m: 0.6719 - val_aux1_accuracy: 0.7668 - val_aux1_f1_m: 0.7617 - val_aux1_precision_m: 0.8642 - val_aux1_recall_m: 0.6863 - val_aux2_accuracy: 0.7656 - val_aux2_f1_m: 0.7579 - val_aux2_precision_m: 0.8699 - val_aux2_recall_m: 0.6755\n",
            "WARNING:tensorflow:Learning rate reduction is conditioned on metric `val_accuracy` which is not available. Available metrics are: loss,main_loss,aux1_loss,aux2_loss,main_accuracy,main_f1_m,main_precision_m,main_recall_m,aux1_accuracy,aux1_f1_m,aux1_precision_m,aux1_recall_m,aux2_accuracy,aux2_f1_m,aux2_precision_m,aux2_recall_m,val_loss,val_main_loss,val_aux1_loss,val_aux2_loss,val_main_accuracy,val_main_f1_m,val_main_precision_m,val_main_recall_m,val_aux1_accuracy,val_aux1_f1_m,val_aux1_precision_m,val_aux1_recall_m,val_aux2_accuracy,val_aux2_f1_m,val_aux2_precision_m,val_aux2_recall_m,lr\n",
            "Epoch 19/25\n",
            "721/721 [==============================] - 353s 490ms/step - loss: 2.0081 - main_loss: 0.6852 - aux1_loss: 0.6518 - aux2_loss: 0.6711 - main_accuracy: 0.7570 - main_f1_m: 0.7402 - main_precision_m: 0.8376 - main_recall_m: 0.6711 - aux1_accuracy: 0.7601 - aux1_f1_m: 0.7492 - aux1_precision_m: 0.8416 - aux1_recall_m: 0.6821 - aux2_accuracy: 0.7562 - aux2_f1_m: 0.7420 - aux2_precision_m: 0.8486 - aux2_recall_m: 0.6677 - val_loss: 1.9933 - val_main_loss: 0.6829 - val_aux1_loss: 0.6503 - val_aux2_loss: 0.6601 - val_main_accuracy: 0.7594 - val_main_f1_m: 0.7605 - val_main_precision_m: 0.8355 - val_main_recall_m: 0.7031 - val_aux1_accuracy: 0.7668 - val_aux1_f1_m: 0.7550 - val_aux1_precision_m: 0.8398 - val_aux1_recall_m: 0.6911 - val_aux2_accuracy: 0.7556 - val_aux2_f1_m: 0.7587 - val_aux2_precision_m: 0.8460 - val_aux2_recall_m: 0.6935\n",
            "WARNING:tensorflow:Learning rate reduction is conditioned on metric `val_accuracy` which is not available. Available metrics are: loss,main_loss,aux1_loss,aux2_loss,main_accuracy,main_f1_m,main_precision_m,main_recall_m,aux1_accuracy,aux1_f1_m,aux1_precision_m,aux1_recall_m,aux2_accuracy,aux2_f1_m,aux2_precision_m,aux2_recall_m,val_loss,val_main_loss,val_aux1_loss,val_aux2_loss,val_main_accuracy,val_main_f1_m,val_main_precision_m,val_main_recall_m,val_aux1_accuracy,val_aux1_f1_m,val_aux1_precision_m,val_aux1_recall_m,val_aux2_accuracy,val_aux2_f1_m,val_aux2_precision_m,val_aux2_recall_m,lr\n",
            "Epoch 20/25\n",
            "721/721 [==============================] - 354s 491ms/step - loss: 1.9944 - main_loss: 0.6843 - aux1_loss: 0.6462 - aux2_loss: 0.6639 - main_accuracy: 0.7522 - main_f1_m: 0.7402 - main_precision_m: 0.8425 - main_recall_m: 0.6682 - aux1_accuracy: 0.7591 - aux1_f1_m: 0.7433 - aux1_precision_m: 0.8430 - aux1_recall_m: 0.6717 - aux2_accuracy: 0.7569 - aux2_f1_m: 0.7413 - aux2_precision_m: 0.8473 - aux2_recall_m: 0.6674 - val_loss: 2.3601 - val_main_loss: 0.8038 - val_aux1_loss: 0.7643 - val_aux2_loss: 0.7920 - val_main_accuracy: 0.7207 - val_main_f1_m: 0.7322 - val_main_precision_m: 0.8104 - val_main_recall_m: 0.6719 - val_aux1_accuracy: 0.7444 - val_aux1_f1_m: 0.7345 - val_aux1_precision_m: 0.8096 - val_aux1_recall_m: 0.6767 - val_aux2_accuracy: 0.7344 - val_aux2_f1_m: 0.7330 - val_aux2_precision_m: 0.8218 - val_aux2_recall_m: 0.6659\n",
            "WARNING:tensorflow:Learning rate reduction is conditioned on metric `val_accuracy` which is not available. Available metrics are: loss,main_loss,aux1_loss,aux2_loss,main_accuracy,main_f1_m,main_precision_m,main_recall_m,aux1_accuracy,aux1_f1_m,aux1_precision_m,aux1_recall_m,aux2_accuracy,aux2_f1_m,aux2_precision_m,aux2_recall_m,val_loss,val_main_loss,val_aux1_loss,val_aux2_loss,val_main_accuracy,val_main_f1_m,val_main_precision_m,val_main_recall_m,val_aux1_accuracy,val_aux1_f1_m,val_aux1_precision_m,val_aux1_recall_m,val_aux2_accuracy,val_aux2_f1_m,val_aux2_precision_m,val_aux2_recall_m,lr\n",
            "Epoch 21/25\n",
            "721/721 [==============================] - 352s 488ms/step - loss: 2.1363 - main_loss: 0.7261 - aux1_loss: 0.6990 - aux2_loss: 0.7113 - main_accuracy: 0.7408 - main_f1_m: 0.7306 - main_precision_m: 0.8398 - main_recall_m: 0.6549 - aux1_accuracy: 0.7514 - aux1_f1_m: 0.7331 - aux1_precision_m: 0.8335 - aux1_recall_m: 0.6623 - aux2_accuracy: 0.7455 - aux2_f1_m: 0.7351 - aux2_precision_m: 0.8376 - aux2_recall_m: 0.6636 - val_loss: 2.0403 - val_main_loss: 0.6984 - val_aux1_loss: 0.6744 - val_aux2_loss: 0.6675 - val_main_accuracy: 0.7531 - val_main_f1_m: 0.7552 - val_main_precision_m: 0.8380 - val_main_recall_m: 0.6911 - val_aux1_accuracy: 0.7506 - val_aux1_f1_m: 0.7481 - val_aux1_precision_m: 0.8319 - val_aux1_recall_m: 0.6839 - val_aux2_accuracy: 0.7569 - val_aux2_f1_m: 0.7572 - val_aux2_precision_m: 0.8432 - val_aux2_recall_m: 0.6911\n",
            "WARNING:tensorflow:Learning rate reduction is conditioned on metric `val_accuracy` which is not available. Available metrics are: loss,main_loss,aux1_loss,aux2_loss,main_accuracy,main_f1_m,main_precision_m,main_recall_m,aux1_accuracy,aux1_f1_m,aux1_precision_m,aux1_recall_m,aux2_accuracy,aux2_f1_m,aux2_precision_m,aux2_recall_m,val_loss,val_main_loss,val_aux1_loss,val_aux2_loss,val_main_accuracy,val_main_f1_m,val_main_precision_m,val_main_recall_m,val_aux1_accuracy,val_aux1_f1_m,val_aux1_precision_m,val_aux1_recall_m,val_aux2_accuracy,val_aux2_f1_m,val_aux2_precision_m,val_aux2_recall_m,lr\n",
            "Epoch 22/25\n",
            "721/721 [==============================] - 353s 489ms/step - loss: 1.9977 - main_loss: 0.6802 - aux1_loss: 0.6507 - aux2_loss: 0.6667 - main_accuracy: 0.7494 - main_f1_m: 0.7443 - main_precision_m: 0.8378 - main_recall_m: 0.6771 - aux1_accuracy: 0.7596 - aux1_f1_m: 0.7486 - aux1_precision_m: 0.8395 - aux1_recall_m: 0.6828 - aux2_accuracy: 0.7627 - aux2_f1_m: 0.7495 - aux2_precision_m: 0.8455 - aux2_recall_m: 0.6800 - val_loss: 1.8601 - val_main_loss: 0.6445 - val_aux1_loss: 0.6002 - val_aux2_loss: 0.6154 - val_main_accuracy: 0.7668 - val_main_f1_m: 0.7569 - val_main_precision_m: 0.8392 - val_main_recall_m: 0.6935 - val_aux1_accuracy: 0.7918 - val_aux1_f1_m: 0.7628 - val_aux1_precision_m: 0.8501 - val_aux1_recall_m: 0.6959 - val_aux2_accuracy: 0.7781 - val_aux2_f1_m: 0.7540 - val_aux2_precision_m: 0.8391 - val_aux2_recall_m: 0.6887\n",
            "WARNING:tensorflow:Learning rate reduction is conditioned on metric `val_accuracy` which is not available. Available metrics are: loss,main_loss,aux1_loss,aux2_loss,main_accuracy,main_f1_m,main_precision_m,main_recall_m,aux1_accuracy,aux1_f1_m,aux1_precision_m,aux1_recall_m,aux2_accuracy,aux2_f1_m,aux2_precision_m,aux2_recall_m,val_loss,val_main_loss,val_aux1_loss,val_aux2_loss,val_main_accuracy,val_main_f1_m,val_main_precision_m,val_main_recall_m,val_aux1_accuracy,val_aux1_f1_m,val_aux1_precision_m,val_aux1_recall_m,val_aux2_accuracy,val_aux2_f1_m,val_aux2_precision_m,val_aux2_recall_m,lr\n",
            "Epoch 23/25\n",
            "721/721 [==============================] - 352s 489ms/step - loss: 2.0245 - main_loss: 0.6947 - aux1_loss: 0.6587 - aux2_loss: 0.6711 - main_accuracy: 0.7467 - main_f1_m: 0.7360 - main_precision_m: 0.8320 - main_recall_m: 0.6670 - aux1_accuracy: 0.7485 - aux1_f1_m: 0.7380 - aux1_precision_m: 0.8313 - aux1_recall_m: 0.6707 - aux2_accuracy: 0.7457 - aux2_f1_m: 0.7377 - aux2_precision_m: 0.8318 - aux2_recall_m: 0.6697 - val_loss: 2.0860 - val_main_loss: 0.7256 - val_aux1_loss: 0.6784 - val_aux2_loss: 0.6821 - val_main_accuracy: 0.7269 - val_main_f1_m: 0.7212 - val_main_precision_m: 0.8004 - val_main_recall_m: 0.6611 - val_aux1_accuracy: 0.7494 - val_aux1_f1_m: 0.7436 - val_aux1_precision_m: 0.8130 - val_aux1_recall_m: 0.6899 - val_aux2_accuracy: 0.7344 - val_aux2_f1_m: 0.7382 - val_aux2_precision_m: 0.8200 - val_aux2_recall_m: 0.6755\n",
            "WARNING:tensorflow:Learning rate reduction is conditioned on metric `val_accuracy` which is not available. Available metrics are: loss,main_loss,aux1_loss,aux2_loss,main_accuracy,main_f1_m,main_precision_m,main_recall_m,aux1_accuracy,aux1_f1_m,aux1_precision_m,aux1_recall_m,aux2_accuracy,aux2_f1_m,aux2_precision_m,aux2_recall_m,val_loss,val_main_loss,val_aux1_loss,val_aux2_loss,val_main_accuracy,val_main_f1_m,val_main_precision_m,val_main_recall_m,val_aux1_accuracy,val_aux1_f1_m,val_aux1_precision_m,val_aux1_recall_m,val_aux2_accuracy,val_aux2_f1_m,val_aux2_precision_m,val_aux2_recall_m,lr\n",
            "Epoch 24/25\n",
            "721/721 [==============================] - 353s 489ms/step - loss: 1.9929 - main_loss: 0.6797 - aux1_loss: 0.6515 - aux2_loss: 0.6617 - main_accuracy: 0.7520 - main_f1_m: 0.7396 - main_precision_m: 0.8285 - main_recall_m: 0.6749 - aux1_accuracy: 0.7638 - aux1_f1_m: 0.7517 - aux1_precision_m: 0.8380 - aux1_recall_m: 0.6876 - aux2_accuracy: 0.7635 - aux2_f1_m: 0.7452 - aux2_precision_m: 0.8336 - aux2_recall_m: 0.6804 - val_loss: 1.9287 - val_main_loss: 0.6716 - val_aux1_loss: 0.6210 - val_aux2_loss: 0.6362 - val_main_accuracy: 0.7506 - val_main_f1_m: 0.7620 - val_main_precision_m: 0.8602 - val_main_recall_m: 0.6887 - val_aux1_accuracy: 0.7768 - val_aux1_f1_m: 0.7631 - val_aux1_precision_m: 0.8562 - val_aux1_recall_m: 0.6923 - val_aux2_accuracy: 0.7643 - val_aux2_f1_m: 0.7679 - val_aux2_precision_m: 0.8694 - val_aux2_recall_m: 0.6923\n",
            "WARNING:tensorflow:Learning rate reduction is conditioned on metric `val_accuracy` which is not available. Available metrics are: loss,main_loss,aux1_loss,aux2_loss,main_accuracy,main_f1_m,main_precision_m,main_recall_m,aux1_accuracy,aux1_f1_m,aux1_precision_m,aux1_recall_m,aux2_accuracy,aux2_f1_m,aux2_precision_m,aux2_recall_m,val_loss,val_main_loss,val_aux1_loss,val_aux2_loss,val_main_accuracy,val_main_f1_m,val_main_precision_m,val_main_recall_m,val_aux1_accuracy,val_aux1_f1_m,val_aux1_precision_m,val_aux1_recall_m,val_aux2_accuracy,val_aux2_f1_m,val_aux2_precision_m,val_aux2_recall_m,lr\n",
            "Epoch 25/25\n",
            "721/721 [==============================] - 346s 480ms/step - loss: 2.0273 - main_loss: 0.6973 - aux1_loss: 0.6559 - aux2_loss: 0.6741 - main_accuracy: 0.7511 - main_f1_m: 0.7380 - main_precision_m: 0.8303 - main_recall_m: 0.6713 - aux1_accuracy: 0.7653 - aux1_f1_m: 0.7502 - aux1_precision_m: 0.8385 - aux1_recall_m: 0.6854 - aux2_accuracy: 0.7593 - aux2_f1_m: 0.7445 - aux2_precision_m: 0.8333 - aux2_recall_m: 0.6796 - val_loss: 1.9209 - val_main_loss: 0.6786 - val_aux1_loss: 0.6162 - val_aux2_loss: 0.6262 - val_main_accuracy: 0.7594 - val_main_f1_m: 0.7569 - val_main_precision_m: 0.8469 - val_main_recall_m: 0.6887 - val_aux1_accuracy: 0.7743 - val_aux1_f1_m: 0.7600 - val_aux1_precision_m: 0.8701 - val_aux1_recall_m: 0.6791 - val_aux2_accuracy: 0.7693 - val_aux2_f1_m: 0.7587 - val_aux2_precision_m: 0.8723 - val_aux2_recall_m: 0.6767\n",
            "WARNING:tensorflow:Learning rate reduction is conditioned on metric `val_accuracy` which is not available. Available metrics are: loss,main_loss,aux1_loss,aux2_loss,main_accuracy,main_f1_m,main_precision_m,main_recall_m,aux1_accuracy,aux1_f1_m,aux1_precision_m,aux1_recall_m,aux2_accuracy,aux2_f1_m,aux2_precision_m,aux2_recall_m,val_loss,val_main_loss,val_aux1_loss,val_aux2_loss,val_main_accuracy,val_main_f1_m,val_main_precision_m,val_main_recall_m,val_aux1_accuracy,val_aux1_f1_m,val_aux1_precision_m,val_aux1_recall_m,val_aux2_accuracy,val_aux2_f1_m,val_aux2_precision_m,val_aux2_recall_m,lr\n"
          ],
          "name": "stdout"
        }
      ]
    },
    {
      "cell_type": "code",
      "metadata": {
        "colab": {
          "base_uri": "https://localhost:8080/",
          "height": 1000
        },
        "id": "C8o3b0Pn5KC2",
        "scrolled": true,
        "outputId": "8792ec0f-1383-4cb9-da72-a94efbf0e41b"
      },
      "source": [
        "# plot graphs from history\n",
        "print(history.history.keys())\n",
        "print(f'Accuracy: {history.history[\"main_accuracy\"][-1]}')\n",
        "print(f'loss: {history.history[\"main_loss\"][-1]}')\n",
        "print(f'f1_m: {history.history[\"main_f1_m\"][-1]}')\n",
        "print(f'precision_m: {history.history[\"main_precision_m\"][-1]}')\n",
        "print(f'recall_m: {history.history[\"main_recall_m\"][-1]}')\n",
        "\n",
        "plt.plot(history.history[\"main_accuracy\"], label='accuracy')\n",
        "plt.plot(history.history[\"val_main_accuracy\"], label='Validaion accuracy')\n",
        "plt.ylabel('accuracy')\n",
        "plt.xlabel('epoch')\n",
        "plt.legend(['train', 'val'])\n",
        "plt.show()\n",
        "\n",
        "plt.plot(history.history[\"main_f1_m\"], label='F1_score')\n",
        "plt.plot(history.history[\"val_main_f1_m\"], label='Validaion F1_score')\n",
        "plt.ylabel('F1_score')\n",
        "plt.xlabel('epoch')\n",
        "plt.legend(['train', 'val'])\n",
        "plt.show()\n",
        "\n",
        "plt.plot(history.history[\"main_precision_m\"], label='Precision')\n",
        "plt.plot(history.history[\"val_main_precision_m\"], label='Validaion Precision')\n",
        "plt.ylabel('Precision')\n",
        "plt.xlabel('epoch')\n",
        "plt.legend(['train', 'val'])\n",
        "plt.show()\n",
        "\n",
        "plt.plot(history.history[\"main_recall_m\"], label='Recall')\n",
        "plt.plot(history.history[\"val_main_recall_m\"], label='Validaion Recall')\n",
        "plt.ylabel('Recall')\n",
        "plt.xlabel('epoch')\n",
        "plt.legend(['train', 'val'])\n",
        "plt.show()"
      ],
      "execution_count": 37,
      "outputs": [
        {
          "output_type": "stream",
          "text": [
            "dict_keys(['loss', 'main_loss', 'aux1_loss', 'aux2_loss', 'main_accuracy', 'main_f1_m', 'main_precision_m', 'main_recall_m', 'aux1_accuracy', 'aux1_f1_m', 'aux1_precision_m', 'aux1_recall_m', 'aux2_accuracy', 'aux2_f1_m', 'aux2_precision_m', 'aux2_recall_m', 'val_loss', 'val_main_loss', 'val_aux1_loss', 'val_aux2_loss', 'val_main_accuracy', 'val_main_f1_m', 'val_main_precision_m', 'val_main_recall_m', 'val_aux1_accuracy', 'val_aux1_f1_m', 'val_aux1_precision_m', 'val_aux1_recall_m', 'val_aux2_accuracy', 'val_aux2_f1_m', 'val_aux2_precision_m', 'val_aux2_recall_m', 'lr'])\n",
            "Accuracy: 0.7482662796974182\n",
            "loss: 0.6977332234382629\n",
            "f1_m: 0.737145185470581\n",
            "precision_m: 0.8304170966148376\n",
            "recall_m: 0.6696264743804932\n"
          ],
          "name": "stdout"
        },
        {
          "output_type": "display_data",
          "data": {
            "image/png": "[encoded data removed]",
            "text/plain": [
              "<Figure size 432x288 with 1 Axes>"
            ]
          },
          "metadata": {
            "tags": [],
            "needs_background": "light"
          }
        },
        {
          "output_type": "display_data",
          "data": {
            "image/png": "[encoded data removed]",
            "text/plain": [
              "<Figure size 432x288 with 1 Axes>"
            ]
          },
          "metadata": {
            "tags": [],
            "needs_background": "light"
          }
        },
        {
          "output_type": "display_data",
          "data": {
            "image/png": "[encoded data removed]",
            "text/plain": [
              "<Figure size 432x288 with 1 Axes>"
            ]
          },
          "metadata": {
            "tags": [],
            "needs_background": "light"
          }
        },
        {
          "output_type": "display_data",
          "data": {
            "image/png": "[encoded data removed]",
            "text/plain": [
              "<Figure size 432x288 with 1 Axes>"
            ]
          },
          "metadata": {
            "tags": [],
            "needs_background": "light"
          }
        }
      ]
    },
    {
      "cell_type": "code",
      "metadata": {
        "colab": {
          "base_uri": "https://localhost:8080/"
        },
        "id": "52HsGwKn5KC2",
        "outputId": "86f5d4dc-f2cd-4873-838f-f1774d1964a6"
      },
      "source": [
        "# Evaluate model\n",
        "test_eval = model.evaluate(x_test, y_test, verbose=1, return_dict=True)\n",
        "validation_eval = model.evaluate(x_validate, y_validate, verbose=1, return_dict=True)\n",
        "# model.save(\"model.h5\")"
      ],
      "execution_count": 38,
      "outputs": [
        {
          "output_type": "stream",
          "text": [
            "63/63 [==============================] - 14s 217ms/step - loss: 2.0556 - main_loss: 0.7274 - aux1_loss: 0.6599 - aux2_loss: 0.6682 - main_accuracy: 0.7449 - main_f1_m: 0.7496 - main_precision_m: 0.8330 - main_recall_m: 0.6838 - aux1_accuracy: 0.7718 - aux1_f1_m: 0.7643 - aux1_precision_m: 0.8693 - aux1_recall_m: 0.6856 - aux2_accuracy: 0.7708 - aux2_f1_m: 0.7597 - aux2_precision_m: 0.8629 - aux2_recall_m: 0.6812\n",
            "26/26 [==============================] - 6s 212ms/step - loss: 1.9209 - main_loss: 0.6786 - aux1_loss: 0.6162 - aux2_loss: 0.6262 - main_accuracy: 0.7594 - main_f1_m: 0.7569 - main_precision_m: 0.8469 - main_recall_m: 0.6887 - aux1_accuracy: 0.7743 - aux1_f1_m: 0.7600 - aux1_precision_m: 0.8701 - aux1_recall_m: 0.6791 - aux2_accuracy: 0.7693 - aux2_f1_m: 0.7587 - aux2_precision_m: 0.8723 - aux2_recall_m: 0.6767\n"
          ],
          "name": "stdout"
        }
      ]
    },
    {
      "cell_type": "code",
      "metadata": {
        "colab": {
          "base_uri": "https://localhost:8080/"
        },
        "id": "0tC4GrGl5KC2",
        "scrolled": true,
        "outputId": "d54048f6-9746-43f4-d8ab-2a74409f0f8a"
      },
      "source": [
        "for i, j in validation_eval.items():\n",
        "    print(f'{i}: {j}')"
      ],
      "execution_count": 39,
      "outputs": [
        {
          "output_type": "stream",
          "text": [
            "loss: 1.9209141731262207\n",
            "main_loss: 0.6785610914230347\n",
            "aux1_loss: 0.6161662936210632\n",
            "aux2_loss: 0.6261867880821228\n",
            "main_accuracy: 0.7593516111373901\n",
            "main_f1_m: 0.7569131255149841\n",
            "main_precision_m: 0.8468733429908752\n",
            "main_recall_m: 0.6887019276618958\n",
            "aux1_accuracy: 0.7743142247200012\n",
            "aux1_f1_m: 0.7600494027137756\n",
            "aux1_precision_m: 0.8701063990592957\n",
            "aux1_recall_m: 0.6790865659713745\n",
            "aux2_accuracy: 0.7693266868591309\n",
            "aux2_f1_m: 0.7587065100669861\n",
            "aux2_precision_m: 0.8722543716430664\n",
            "aux2_recall_m: 0.676682710647583\n"
          ],
          "name": "stdout"
        }
      ]
    },
    {
      "cell_type": "code",
      "metadata": {
        "colab": {
          "base_uri": "https://localhost:8080/"
        },
        "id": "BPNXGVMO5KC3",
        "scrolled": false,
        "outputId": "5c56f87d-a6eb-4ecd-f070-96ca8570a338"
      },
      "source": [
        "for i, j in test_eval.items():\n",
        "    print(f'{i}: {j}')"
      ],
      "execution_count": 40,
      "outputs": [
        {
          "output_type": "stream",
          "text": [
            "loss: 2.0555758476257324\n",
            "main_loss: 0.7274333834648132\n",
            "aux1_loss: 0.6599315404891968\n",
            "aux2_loss: 0.668210506439209\n",
            "main_accuracy: 0.7448827028274536\n",
            "main_f1_m: 0.7495604753494263\n",
            "main_precision_m: 0.833039402961731\n",
            "main_recall_m: 0.6838189363479614\n",
            "aux1_accuracy: 0.7718422412872314\n",
            "aux1_f1_m: 0.7642954587936401\n",
            "aux1_precision_m: 0.8693410158157349\n",
            "aux1_recall_m: 0.6856464147567749\n",
            "aux2_accuracy: 0.7708437442779541\n",
            "aux2_f1_m: 0.759667694568634\n",
            "aux2_precision_m: 0.8628720641136169\n",
            "aux2_recall_m: 0.6811821460723877\n"
          ],
          "name": "stdout"
        }
      ]
    },
    {
      "cell_type": "code",
      "metadata": {
        "colab": {
          "base_uri": "https://localhost:8080/"
        },
        "id": "3DqyE7-W5KC3",
        "outputId": "da8dbe6e-4a15-45e2-b876-46f301b7ff37"
      },
      "source": [
        "# Get predictions for plotting the confusion matrix\n",
        "predictions = model.predict(x_test, verbose=1)"
      ],
      "execution_count": 41,
      "outputs": [
        {
          "output_type": "stream",
          "text": [
            "63/63 [==============================] - 14s 217ms/step\n"
          ],
          "name": "stdout"
        }
      ]
    },
    {
      "cell_type": "code",
      "metadata": {
        "colab": {
          "base_uri": "https://localhost:8080/",
          "height": 358
        },
        "id": "pFXzuzzh5KC3",
        "scrolled": true,
        "outputId": "6843f5a9-a5d4-4284-94a2-f368a750a00e"
      },
      "source": [
        "# Plot the confusion matrix\n",
        "predictions = np.argmax(predictions, axis=0)\n",
        "y_test = np.argmax(y_test, axis=0)\n",
        "\n",
        "sns.heatmap(confusion_matrix(y_test, predictions), annot=True, cmap = 'coolwarm', fmt='.0f')\n",
        "plt.show()"
      ],
      "execution_count": 49,
      "outputs": [
        {
          "output_type": "error",
          "ename": "TypeError",
          "evalue": "ignored",
          "traceback": [
            "\u001b[0;31m---------------------------------------------------------------------------\u001b[0m",
            "\u001b[0;31mTypeError\u001b[0m                                 Traceback (most recent call last)",
            "\u001b[0;32m<ipython-input-49-b89fef9ebc07>\u001b[0m in \u001b[0;36m<module>\u001b[0;34m()\u001b[0m\n\u001b[1;32m      3\u001b[0m \u001b[0my_test\u001b[0m \u001b[0;34m=\u001b[0m \u001b[0mnp\u001b[0m\u001b[0;34m.\u001b[0m\u001b[0margmax\u001b[0m\u001b[0;34m(\u001b[0m\u001b[0my_test\u001b[0m\u001b[0;34m,\u001b[0m \u001b[0maxis\u001b[0m\u001b[0;34m=\u001b[0m\u001b[0;36m0\u001b[0m\u001b[0;34m)\u001b[0m\u001b[0;34m\u001b[0m\u001b[0;34m\u001b[0m\u001b[0m\n\u001b[1;32m      4\u001b[0m \u001b[0;34m\u001b[0m\u001b[0m\n\u001b[0;32m----> 5\u001b[0;31m \u001b[0msns\u001b[0m\u001b[0;34m.\u001b[0m\u001b[0mheatmap\u001b[0m\u001b[0;34m(\u001b[0m\u001b[0mconfusion_matrix\u001b[0m\u001b[0;34m(\u001b[0m\u001b[0my_test\u001b[0m\u001b[0;34m,\u001b[0m \u001b[0mpredictions\u001b[0m\u001b[0;34m)\u001b[0m\u001b[0;34m,\u001b[0m \u001b[0mannot\u001b[0m\u001b[0;34m=\u001b[0m\u001b[0;32mTrue\u001b[0m\u001b[0;34m,\u001b[0m \u001b[0mcmap\u001b[0m \u001b[0;34m=\u001b[0m \u001b[0;34m'coolwarm'\u001b[0m\u001b[0;34m,\u001b[0m \u001b[0mfmt\u001b[0m\u001b[0;34m=\u001b[0m\u001b[0;34m'.0f'\u001b[0m\u001b[0;34m)\u001b[0m\u001b[0;34m\u001b[0m\u001b[0;34m\u001b[0m\u001b[0m\n\u001b[0m\u001b[1;32m      6\u001b[0m \u001b[0mplt\u001b[0m\u001b[0;34m.\u001b[0m\u001b[0mshow\u001b[0m\u001b[0;34m(\u001b[0m\u001b[0;34m)\u001b[0m\u001b[0;34m\u001b[0m\u001b[0;34m\u001b[0m\u001b[0m\n",
            "\u001b[0;32m/usr/local/lib/python3.7/dist-packages/sklearn/metrics/_classification.py\u001b[0m in \u001b[0;36mconfusion_matrix\u001b[0;34m(y_true, y_pred, labels, sample_weight, normalize)\u001b[0m\n\u001b[1;32m    266\u001b[0m \u001b[0;34m\u001b[0m\u001b[0m\n\u001b[1;32m    267\u001b[0m     \"\"\"\n\u001b[0;32m--> 268\u001b[0;31m     \u001b[0my_type\u001b[0m\u001b[0;34m,\u001b[0m \u001b[0my_true\u001b[0m\u001b[0;34m,\u001b[0m \u001b[0my_pred\u001b[0m \u001b[0;34m=\u001b[0m \u001b[0m_check_targets\u001b[0m\u001b[0;34m(\u001b[0m\u001b[0my_true\u001b[0m\u001b[0;34m,\u001b[0m \u001b[0my_pred\u001b[0m\u001b[0;34m)\u001b[0m\u001b[0;34m\u001b[0m\u001b[0;34m\u001b[0m\u001b[0m\n\u001b[0m\u001b[1;32m    269\u001b[0m     \u001b[0;32mif\u001b[0m \u001b[0my_type\u001b[0m \u001b[0;32mnot\u001b[0m \u001b[0;32min\u001b[0m \u001b[0;34m(\u001b[0m\u001b[0;34m\"binary\"\u001b[0m\u001b[0;34m,\u001b[0m \u001b[0;34m\"multiclass\"\u001b[0m\u001b[0;34m)\u001b[0m\u001b[0;34m:\u001b[0m\u001b[0;34m\u001b[0m\u001b[0;34m\u001b[0m\u001b[0m\n\u001b[1;32m    270\u001b[0m         \u001b[0;32mraise\u001b[0m \u001b[0mValueError\u001b[0m\u001b[0;34m(\u001b[0m\u001b[0;34m\"%s is not supported\"\u001b[0m \u001b[0;34m%\u001b[0m \u001b[0my_type\u001b[0m\u001b[0;34m)\u001b[0m\u001b[0;34m\u001b[0m\u001b[0;34m\u001b[0m\u001b[0m\n",
            "\u001b[0;32m/usr/local/lib/python3.7/dist-packages/sklearn/metrics/_classification.py\u001b[0m in \u001b[0;36m_check_targets\u001b[0;34m(y_true, y_pred)\u001b[0m\n\u001b[1;32m     78\u001b[0m     \u001b[0my_pred\u001b[0m \u001b[0;34m:\u001b[0m \u001b[0marray\u001b[0m \u001b[0;32mor\u001b[0m \u001b[0mindicator\u001b[0m \u001b[0mmatrix\u001b[0m\u001b[0;34m\u001b[0m\u001b[0;34m\u001b[0m\u001b[0m\n\u001b[1;32m     79\u001b[0m     \"\"\"\n\u001b[0;32m---> 80\u001b[0;31m     \u001b[0mcheck_consistent_length\u001b[0m\u001b[0;34m(\u001b[0m\u001b[0my_true\u001b[0m\u001b[0;34m,\u001b[0m \u001b[0my_pred\u001b[0m\u001b[0;34m)\u001b[0m\u001b[0;34m\u001b[0m\u001b[0;34m\u001b[0m\u001b[0m\n\u001b[0m\u001b[1;32m     81\u001b[0m     \u001b[0mtype_true\u001b[0m \u001b[0;34m=\u001b[0m \u001b[0mtype_of_target\u001b[0m\u001b[0;34m(\u001b[0m\u001b[0my_true\u001b[0m\u001b[0;34m)\u001b[0m\u001b[0;34m\u001b[0m\u001b[0;34m\u001b[0m\u001b[0m\n\u001b[1;32m     82\u001b[0m     \u001b[0mtype_pred\u001b[0m \u001b[0;34m=\u001b[0m \u001b[0mtype_of_target\u001b[0m\u001b[0;34m(\u001b[0m\u001b[0my_pred\u001b[0m\u001b[0;34m)\u001b[0m\u001b[0;34m\u001b[0m\u001b[0;34m\u001b[0m\u001b[0m\n",
            "\u001b[0;32m/usr/local/lib/python3.7/dist-packages/sklearn/utils/validation.py\u001b[0m in \u001b[0;36mcheck_consistent_length\u001b[0;34m(*arrays)\u001b[0m\n\u001b[1;32m    206\u001b[0m     \"\"\"\n\u001b[1;32m    207\u001b[0m \u001b[0;34m\u001b[0m\u001b[0m\n\u001b[0;32m--> 208\u001b[0;31m     \u001b[0mlengths\u001b[0m \u001b[0;34m=\u001b[0m \u001b[0;34m[\u001b[0m\u001b[0m_num_samples\u001b[0m\u001b[0;34m(\u001b[0m\u001b[0mX\u001b[0m\u001b[0;34m)\u001b[0m \u001b[0;32mfor\u001b[0m \u001b[0mX\u001b[0m \u001b[0;32min\u001b[0m \u001b[0marrays\u001b[0m \u001b[0;32mif\u001b[0m \u001b[0mX\u001b[0m \u001b[0;32mis\u001b[0m \u001b[0;32mnot\u001b[0m \u001b[0;32mNone\u001b[0m\u001b[0;34m]\u001b[0m\u001b[0;34m\u001b[0m\u001b[0;34m\u001b[0m\u001b[0m\n\u001b[0m\u001b[1;32m    209\u001b[0m     \u001b[0muniques\u001b[0m \u001b[0;34m=\u001b[0m \u001b[0mnp\u001b[0m\u001b[0;34m.\u001b[0m\u001b[0munique\u001b[0m\u001b[0;34m(\u001b[0m\u001b[0mlengths\u001b[0m\u001b[0;34m)\u001b[0m\u001b[0;34m\u001b[0m\u001b[0;34m\u001b[0m\u001b[0m\n\u001b[1;32m    210\u001b[0m     \u001b[0;32mif\u001b[0m \u001b[0mlen\u001b[0m\u001b[0;34m(\u001b[0m\u001b[0muniques\u001b[0m\u001b[0;34m)\u001b[0m \u001b[0;34m>\u001b[0m \u001b[0;36m1\u001b[0m\u001b[0;34m:\u001b[0m\u001b[0;34m\u001b[0m\u001b[0;34m\u001b[0m\u001b[0m\n",
            "\u001b[0;32m/usr/local/lib/python3.7/dist-packages/sklearn/utils/validation.py\u001b[0m in \u001b[0;36m<listcomp>\u001b[0;34m(.0)\u001b[0m\n\u001b[1;32m    206\u001b[0m     \"\"\"\n\u001b[1;32m    207\u001b[0m \u001b[0;34m\u001b[0m\u001b[0m\n\u001b[0;32m--> 208\u001b[0;31m     \u001b[0mlengths\u001b[0m \u001b[0;34m=\u001b[0m \u001b[0;34m[\u001b[0m\u001b[0m_num_samples\u001b[0m\u001b[0;34m(\u001b[0m\u001b[0mX\u001b[0m\u001b[0;34m)\u001b[0m \u001b[0;32mfor\u001b[0m \u001b[0mX\u001b[0m \u001b[0;32min\u001b[0m \u001b[0marrays\u001b[0m \u001b[0;32mif\u001b[0m \u001b[0mX\u001b[0m \u001b[0;32mis\u001b[0m \u001b[0;32mnot\u001b[0m \u001b[0;32mNone\u001b[0m\u001b[0;34m]\u001b[0m\u001b[0;34m\u001b[0m\u001b[0;34m\u001b[0m\u001b[0m\n\u001b[0m\u001b[1;32m    209\u001b[0m     \u001b[0muniques\u001b[0m \u001b[0;34m=\u001b[0m \u001b[0mnp\u001b[0m\u001b[0;34m.\u001b[0m\u001b[0munique\u001b[0m\u001b[0;34m(\u001b[0m\u001b[0mlengths\u001b[0m\u001b[0;34m)\u001b[0m\u001b[0;34m\u001b[0m\u001b[0;34m\u001b[0m\u001b[0m\n\u001b[1;32m    210\u001b[0m     \u001b[0;32mif\u001b[0m \u001b[0mlen\u001b[0m\u001b[0;34m(\u001b[0m\u001b[0muniques\u001b[0m\u001b[0;34m)\u001b[0m \u001b[0;34m>\u001b[0m \u001b[0;36m1\u001b[0m\u001b[0;34m:\u001b[0m\u001b[0;34m\u001b[0m\u001b[0;34m\u001b[0m\u001b[0m\n",
            "\u001b[0;32m/usr/local/lib/python3.7/dist-packages/sklearn/utils/validation.py\u001b[0m in \u001b[0;36m_num_samples\u001b[0;34m(x)\u001b[0m\n\u001b[1;32m    150\u001b[0m         \u001b[0;32mif\u001b[0m \u001b[0mlen\u001b[0m\u001b[0;34m(\u001b[0m\u001b[0mx\u001b[0m\u001b[0;34m.\u001b[0m\u001b[0mshape\u001b[0m\u001b[0;34m)\u001b[0m \u001b[0;34m==\u001b[0m \u001b[0;36m0\u001b[0m\u001b[0;34m:\u001b[0m\u001b[0;34m\u001b[0m\u001b[0;34m\u001b[0m\u001b[0m\n\u001b[1;32m    151\u001b[0m             raise TypeError(\"Singleton array %r cannot be considered\"\n\u001b[0;32m--> 152\u001b[0;31m                             \" a valid collection.\" % x)\n\u001b[0m\u001b[1;32m    153\u001b[0m         \u001b[0;31m# Check that shape is returning an integer or default to len\u001b[0m\u001b[0;34m\u001b[0m\u001b[0;34m\u001b[0m\u001b[0;34m\u001b[0m\u001b[0m\n\u001b[1;32m    154\u001b[0m         \u001b[0;31m# Dask dataframes may not return numeric shape[0] value\u001b[0m\u001b[0;34m\u001b[0m\u001b[0;34m\u001b[0m\u001b[0;34m\u001b[0m\u001b[0m\n",
            "\u001b[0;31mTypeError\u001b[0m: Singleton array 0 cannot be considered a valid collection."
          ]
        }
      ]
    },
    {
      "cell_type": "markdown",
      "metadata": {
        "id": "-6ys5M0w8SSm"
      },
      "source": [
        "# Model Parameters\n",
        "input_shape = (75, 100, 3)\n",
        "\n",
        "# Number of classes\n",
        "num_classes = 7\n",
        "\n",
        "# Optimizer\n",
        "optimizer = Adam(lr=0.001, beta_1=0.9, beta_2=0.999, epsilon=None, decay=0.0, amsgrad=False)\n",
        "\n",
        "# Epoch is number of times a node is trained\n",
        "epochs = 9\n",
        "batch_size = 20\n",
        "\n",
        "# Callback functions (To follow the path of gradient descent)\n",
        "learning_rate_reduction = ReduceLROnPlateau(monitor='val_accuracy', patience=5, verbose=0, factor=0.5, min_lr=0.00001)\n",
        "early_stopping_monitor = EarlyStopping(patience=20, monitor='val_accuracy')\n"
      ]
    },
    {
      "cell_type": "markdown",
      "metadata": {
        "id": "B3COod77Db5c",
        "outputId": "e99a24fe-b6a1-428d-9c8c-64e007fa7e2d"
      },
      "source": [
        "# dataaugment.flow(x_train,y_train, batch_size=batch_size),\n",
        "# callbacks=[learning_rate_reduction,early_stopping_monitor]\n",
        "history = model.fit(\n",
        "    x = x_train,\n",
        "    y = y_train, \n",
        "    batch_size=batch_size,\n",
        "    verbose = 0, \n",
        "    steps_per_epoch=x_train.shape[0] // batch_size,\n",
        "    epochs=10,\n",
        "    validation_data = (x_validate, y_validate)\n",
        ")\n",
        "\n",
        "loss, accuracy = model.evaluate(x_test, y_test, verbose=0)\n",
        "predictions = model.predict(x_test)\n",
        "loss_v, accuracy_v = model.evaluate(x_validate, y_validate, verbose=0)\n",
        "loss_t, accuracy_t = model.evaluate(x_train, y_train, verbose=0)\n",
        "\n",
        "print(\"Training: accuracy = %f\" % (accuracy_t))\n",
        "print(\"Validation: accuracy = %f\" % (accuracy_v))\n",
        "print(\"Test: accuracy = %f\" % (accuracy))"
      ]
    },
    {
      "cell_type": "markdown",
      "metadata": {
        "id": "7l6D3elvzeOc",
        "outputId": "aa5f62ba-4636-4e80-c7ac-f7d814fbbb25"
      },
      "source": [
        "predictions = np.argmax(predictions, axis=1)"
      ]
    },
    {
      "cell_type": "markdown",
      "metadata": {
        "id": "NVVDXdOHxYcY"
      },
      "source": [
        "y_test = np.argmax(y_test, axis=1)"
      ]
    },
    {
      "cell_type": "markdown",
      "metadata": {
        "id": "IAGYMa0HxUsy",
        "outputId": "f3c2f649-b11b-4c68-efdc-1b9c627d14c6"
      },
      "source": [
        "\n",
        "sns.heatmap(confusion_matrix(y_test, predictions), annot=True, cmap = 'coolwarm', fmt='.0f')\n",
        "plt.show()"
      ]
    },
    {
      "cell_type": "markdown",
      "metadata": {
        "id": "jL1zPJ27xXmE",
        "outputId": "18204e51-7a3b-4c0f-df3f-bd99c34f6d58"
      },
      "source": [
        "len(predictions)"
      ]
    },
    {
      "cell_type": "markdown",
      "metadata": {
        "id": "qj27aH_-z1f4",
        "outputId": "db34107b-edb9-436e-aa12-b978a68a1074"
      },
      "source": [
        "target.value_counts()\n",
        "len(x_train)\n",
        "len(x_validate)"
      ]
    }
  ]
}